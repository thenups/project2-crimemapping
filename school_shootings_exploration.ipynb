{
 "cells": [
  {
   "cell_type": "markdown",
   "metadata": {},
   "source": [
    "# School Shootings Dataset, Exploration"
   ]
  },
  {
   "cell_type": "markdown",
   "metadata": {},
   "source": [
    "### Dependencies"
   ]
  },
  {
   "cell_type": "code",
   "execution_count": 2,
   "metadata": {
    "collapsed": true
   },
   "outputs": [],
   "source": [
    "import pandas as pd"
   ]
  },
  {
   "cell_type": "markdown",
   "metadata": {},
   "source": [
    "### Read in CSV and create DataFrame"
   ]
  },
  {
   "cell_type": "code",
   "execution_count": 3,
   "metadata": {
    "collapsed": true
   },
   "outputs": [],
   "source": [
    "filepath = 'Output/cleaned_school_shootings_1990_2018.csv'\n",
    "csv = pd.read_csv(filepath)\n",
    "df = pd.DataFrame(csv)"
   ]
  },
  {
   "cell_type": "markdown",
   "metadata": {},
   "source": [
    "### View head and dtypes"
   ]
  },
  {
   "cell_type": "code",
   "execution_count": 4,
   "metadata": {},
   "outputs": [
    {
     "data": {
      "text/html": [
       "<div>\n",
       "<style>\n",
       "    .dataframe thead tr:only-child th {\n",
       "        text-align: right;\n",
       "    }\n",
       "\n",
       "    .dataframe thead th {\n",
       "        text-align: left;\n",
       "    }\n",
       "\n",
       "    .dataframe tbody tr th {\n",
       "        vertical-align: top;\n",
       "    }\n",
       "</style>\n",
       "<table border=\"1\" class=\"dataframe\">\n",
       "  <thead>\n",
       "    <tr style=\"text-align: right;\">\n",
       "      <th></th>\n",
       "      <th>Date</th>\n",
       "      <th>City</th>\n",
       "      <th>State</th>\n",
       "      <th>Fatalities</th>\n",
       "      <th>Year</th>\n",
       "      <th>Latitude</th>\n",
       "      <th>Longitude</th>\n",
       "    </tr>\n",
       "  </thead>\n",
       "  <tbody>\n",
       "    <tr>\n",
       "      <th>0</th>\n",
       "      <td>3/27/90</td>\n",
       "      <td>Brooklyn</td>\n",
       "      <td>New York</td>\n",
       "      <td>0</td>\n",
       "      <td>1990</td>\n",
       "      <td>40.678178</td>\n",
       "      <td>-73.944158</td>\n",
       "    </tr>\n",
       "    <tr>\n",
       "      <th>1</th>\n",
       "      <td>5/20/90</td>\n",
       "      <td>Centerville</td>\n",
       "      <td>Tennessee</td>\n",
       "      <td>1</td>\n",
       "      <td>1990</td>\n",
       "      <td>39.628393</td>\n",
       "      <td>-84.159382</td>\n",
       "    </tr>\n",
       "    <tr>\n",
       "      <th>2</th>\n",
       "      <td>8/26/90</td>\n",
       "      <td>Las Vegas</td>\n",
       "      <td>Nevada</td>\n",
       "      <td>1</td>\n",
       "      <td>1990</td>\n",
       "      <td>36.169941</td>\n",
       "      <td>-115.139830</td>\n",
       "    </tr>\n",
       "    <tr>\n",
       "      <th>3</th>\n",
       "      <td>9/11/90</td>\n",
       "      <td>San Antonio</td>\n",
       "      <td>Texas</td>\n",
       "      <td>0</td>\n",
       "      <td>1990</td>\n",
       "      <td>29.424122</td>\n",
       "      <td>-98.493628</td>\n",
       "    </tr>\n",
       "    <tr>\n",
       "      <th>4</th>\n",
       "      <td>1/8/91</td>\n",
       "      <td>Richardson</td>\n",
       "      <td>Texas</td>\n",
       "      <td>0</td>\n",
       "      <td>1991</td>\n",
       "      <td>32.959623</td>\n",
       "      <td>-96.730986</td>\n",
       "    </tr>\n",
       "  </tbody>\n",
       "</table>\n",
       "</div>"
      ],
      "text/plain": [
       "      Date         City      State  Fatalities  Year   Latitude   Longitude\n",
       "0  3/27/90     Brooklyn   New York           0  1990  40.678178  -73.944158\n",
       "1  5/20/90  Centerville  Tennessee           1  1990  39.628393  -84.159382\n",
       "2  8/26/90    Las Vegas     Nevada           1  1990  36.169941 -115.139830\n",
       "3  9/11/90  San Antonio      Texas           0  1990  29.424122  -98.493628\n",
       "4   1/8/91   Richardson      Texas           0  1991  32.959623  -96.730986"
      ]
     },
     "execution_count": 4,
     "metadata": {},
     "output_type": "execute_result"
    }
   ],
   "source": [
    "df.head()"
   ]
  },
  {
   "cell_type": "code",
   "execution_count": 5,
   "metadata": {},
   "outputs": [
    {
     "data": {
      "text/plain": [
       "Date           object\n",
       "City           object\n",
       "State          object\n",
       "Fatalities      int64\n",
       "Year            int64\n",
       "Latitude      float64\n",
       "Longitude     float64\n",
       "dtype: object"
      ]
     },
     "execution_count": 5,
     "metadata": {},
     "output_type": "execute_result"
    }
   ],
   "source": [
    "df.dtypes"
   ]
  },
  {
   "cell_type": "markdown",
   "metadata": {},
   "source": [
    "### Rank cities by number of school shootings"
   ]
  },
  {
   "cell_type": "code",
   "execution_count": 6,
   "metadata": {},
   "outputs": [
    {
     "data": {
      "text/plain": [
       "City\n",
       "Chicago                 13\n",
       "Detroit                 11\n",
       "Los Angeles             11\n",
       "Houston                 10\n",
       "Philadelphia             7\n",
       "Memphis                  7\n",
       "Seattle                  7\n",
       "Atlanta                  5\n",
       "Cleveland                5\n",
       "Brooklyn                 5\n",
       "Sacramento               5\n",
       "Jacksonville             5\n",
       "Washington               4\n",
       "St. Louis                4\n",
       "Phoenix                  4\n",
       "Miami                    4\n",
       "New Orleans              4\n",
       "San Antonio              4\n",
       "Dallas                   4\n",
       "Fayetteville             4\n",
       "Savannah                 3\n",
       "Greensboro               3\n",
       "San Diego                3\n",
       "Chapel Hill              3\n",
       "Fresno                   3\n",
       "Nashville                3\n",
       "Columbia                 3\n",
       "Tacoma                   3\n",
       "Birmingham               3\n",
       "Mobile                   3\n",
       "                        ..\n",
       "Palm Beach Gardens       1\n",
       "Palmetto                 1\n",
       "Palo Alto                1\n",
       "Paradis                  1\n",
       "Parkersburg              1\n",
       "Pasadena                 1\n",
       "Pearl                    1\n",
       "Pearl City               1\n",
       "Pennsburg                1\n",
       "Perry Hall               1\n",
       "Pierce County            1\n",
       "Orangeburg               1\n",
       "Opelika                  1\n",
       "Olivehurst               1\n",
       "North Las Vegas          1\n",
       "New London               1\n",
       "New Port Richey          1\n",
       "New York City            1\n",
       "Newtown                  1\n",
       "Nine Mile Falls          1\n",
       "Normal                   1\n",
       "North Miami              1\n",
       "Olathe                   1\n",
       "North Richland Hills     1\n",
       "Norwalk                  1\n",
       "Notus                    1\n",
       "Oakland                  1\n",
       "Ocala                    1\n",
       "Ogden                    1\n",
       "Acton                    1\n",
       "Name: Date, Length: 339, dtype: int64"
      ]
     },
     "execution_count": 6,
     "metadata": {},
     "output_type": "execute_result"
    }
   ],
   "source": [
    "# Date is chosen as count column, any column could have been chosen\n",
    "df.groupby('City').Date.count().sort_values(ascending=False)"
   ]
  },
  {
   "cell_type": "code",
   "execution_count": 7,
   "metadata": {
    "collapsed": true
   },
   "outputs": [],
   "source": [
    "# note: will need to do the above ranking on a per-capita basis"
   ]
  },
  {
   "cell_type": "code",
   "execution_count": 53,
   "metadata": {
    "collapsed": true
   },
   "outputs": [],
   "source": [
    "### Plotting and school shooting analysis"
   ]
  },
  {
   "cell_type": "code",
   "execution_count": 10,
   "metadata": {},
   "outputs": [
    {
     "data": {
      "text/html": [
       "<div>\n",
       "<style>\n",
       "    .dataframe thead tr:only-child th {\n",
       "        text-align: right;\n",
       "    }\n",
       "\n",
       "    .dataframe thead th {\n",
       "        text-align: left;\n",
       "    }\n",
       "\n",
       "    .dataframe tbody tr th {\n",
       "        vertical-align: top;\n",
       "    }\n",
       "</style>\n",
       "<table border=\"1\" class=\"dataframe\">\n",
       "  <thead>\n",
       "    <tr style=\"text-align: right;\">\n",
       "      <th></th>\n",
       "      <th>Date</th>\n",
       "      <th>City</th>\n",
       "      <th>State</th>\n",
       "      <th>Fatalities</th>\n",
       "      <th>Year</th>\n",
       "      <th>Latitude</th>\n",
       "      <th>Longitude</th>\n",
       "    </tr>\n",
       "  </thead>\n",
       "  <tbody>\n",
       "    <tr>\n",
       "      <th>0</th>\n",
       "      <td>3/27/90</td>\n",
       "      <td>Brooklyn</td>\n",
       "      <td>New York</td>\n",
       "      <td>0</td>\n",
       "      <td>1990</td>\n",
       "      <td>40.678178</td>\n",
       "      <td>-73.944158</td>\n",
       "    </tr>\n",
       "    <tr>\n",
       "      <th>1</th>\n",
       "      <td>5/20/90</td>\n",
       "      <td>Centerville</td>\n",
       "      <td>Tennessee</td>\n",
       "      <td>1</td>\n",
       "      <td>1990</td>\n",
       "      <td>39.628393</td>\n",
       "      <td>-84.159382</td>\n",
       "    </tr>\n",
       "    <tr>\n",
       "      <th>2</th>\n",
       "      <td>8/26/90</td>\n",
       "      <td>Las Vegas</td>\n",
       "      <td>Nevada</td>\n",
       "      <td>1</td>\n",
       "      <td>1990</td>\n",
       "      <td>36.169941</td>\n",
       "      <td>-115.139830</td>\n",
       "    </tr>\n",
       "    <tr>\n",
       "      <th>3</th>\n",
       "      <td>9/11/90</td>\n",
       "      <td>San Antonio</td>\n",
       "      <td>Texas</td>\n",
       "      <td>0</td>\n",
       "      <td>1990</td>\n",
       "      <td>29.424122</td>\n",
       "      <td>-98.493628</td>\n",
       "    </tr>\n",
       "    <tr>\n",
       "      <th>4</th>\n",
       "      <td>1/8/91</td>\n",
       "      <td>Richardson</td>\n",
       "      <td>Texas</td>\n",
       "      <td>0</td>\n",
       "      <td>1991</td>\n",
       "      <td>32.959623</td>\n",
       "      <td>-96.730986</td>\n",
       "    </tr>\n",
       "  </tbody>\n",
       "</table>\n",
       "</div>"
      ],
      "text/plain": [
       "      Date         City      State  Fatalities  Year   Latitude   Longitude\n",
       "0  3/27/90     Brooklyn   New York           0  1990  40.678178  -73.944158\n",
       "1  5/20/90  Centerville  Tennessee           1  1990  39.628393  -84.159382\n",
       "2  8/26/90    Las Vegas     Nevada           1  1990  36.169941 -115.139830\n",
       "3  9/11/90  San Antonio      Texas           0  1990  29.424122  -98.493628\n",
       "4   1/8/91   Richardson      Texas           0  1991  32.959623  -96.730986"
      ]
     },
     "execution_count": 10,
     "metadata": {},
     "output_type": "execute_result"
    }
   ],
   "source": [
    "df.head()"
   ]
  },
  {
   "cell_type": "code",
   "execution_count": 15,
   "metadata": {},
   "outputs": [],
   "source": [
    "df_1990 = df[df['Year'] == 1990]"
   ]
  },
  {
   "cell_type": "code",
   "execution_count": 18,
   "metadata": {},
   "outputs": [
    {
     "data": {
      "text/plain": [
       "2"
      ]
     },
     "execution_count": 18,
     "metadata": {},
     "output_type": "execute_result"
    }
   ],
   "source": [
    "df_1990['Fatalities'].sum()"
   ]
  },
  {
   "cell_type": "code",
   "execution_count": 19,
   "metadata": {
    "collapsed": true
   },
   "outputs": [],
   "source": [
    "def build_year_list(num_year):\n",
    "    start_year = 1990\n",
    "    for i in range(0, num_year-1):\n",
    "        year_list.append(start_year+i)\n",
    "    return year_list"
   ]
  },
  {
   "cell_type": "code",
   "execution_count": 31,
   "metadata": {
    "collapsed": true
   },
   "outputs": [],
   "source": [
    "year_list = []\n",
    "fatality_counter = 0\n",
    "fatalities_per_year = {}"
   ]
  },
  {
   "cell_type": "code",
   "execution_count": 32,
   "metadata": {},
   "outputs": [
    {
     "data": {
      "text/plain": [
       "[1990,\n",
       " 1991,\n",
       " 1992,\n",
       " 1993,\n",
       " 1994,\n",
       " 1995,\n",
       " 1996,\n",
       " 1997,\n",
       " 1998,\n",
       " 1999,\n",
       " 2000,\n",
       " 2001,\n",
       " 2002,\n",
       " 2003,\n",
       " 2004,\n",
       " 2005,\n",
       " 2006,\n",
       " 2007,\n",
       " 2008,\n",
       " 2009,\n",
       " 2010,\n",
       " 2011,\n",
       " 2012,\n",
       " 2013,\n",
       " 2014]"
      ]
     },
     "execution_count": 32,
     "metadata": {},
     "output_type": "execute_result"
    }
   ],
   "source": [
    "build_year_list(26)"
   ]
  },
  {
   "cell_type": "code",
   "execution_count": 33,
   "metadata": {},
   "outputs": [
    {
     "data": {
      "text/plain": [
       "[1990,\n",
       " 1991,\n",
       " 1992,\n",
       " 1993,\n",
       " 1994,\n",
       " 1995,\n",
       " 1996,\n",
       " 1997,\n",
       " 1998,\n",
       " 1999,\n",
       " 2000,\n",
       " 2001,\n",
       " 2002,\n",
       " 2003,\n",
       " 2004,\n",
       " 2005,\n",
       " 2006,\n",
       " 2007,\n",
       " 2008,\n",
       " 2009,\n",
       " 2010,\n",
       " 2011,\n",
       " 2012,\n",
       " 2013,\n",
       " 2014]"
      ]
     },
     "execution_count": 33,
     "metadata": {},
     "output_type": "execute_result"
    }
   ],
   "source": [
    "year_list"
   ]
  },
  {
   "cell_type": "code",
   "execution_count": 39,
   "metadata": {
    "collapsed": true
   },
   "outputs": [],
   "source": [
    "def fatality_counter(year_list):\n",
    "    for i in range(len(year_list)):\n",
    "        fatality_count = df[df['Year'] == year_list[i]]['Fatalities'].sum()\n",
    "        fatalities_per_year.update({year_list[i]:fatality_count})\n",
    "    return fatalities_per_year"
   ]
  },
  {
   "cell_type": "code",
   "execution_count": 40,
   "metadata": {},
   "outputs": [
    {
     "data": {
      "text/plain": [
       "{1990: 2,\n",
       " 1991: 12,\n",
       " 1992: 14,\n",
       " 1993: 37,\n",
       " 1994: 23,\n",
       " 1995: 15,\n",
       " 1996: 24,\n",
       " 1997: 17,\n",
       " 1998: 28,\n",
       " 1999: 22,\n",
       " 2000: 14,\n",
       " 2001: 10,\n",
       " 2002: 15,\n",
       " 2003: 10,\n",
       " 2004: 9,\n",
       " 2005: 14,\n",
       " 2006: 25,\n",
       " 2007: 39,\n",
       " 2008: 24,\n",
       " 2009: 14,\n",
       " 2010: 14,\n",
       " 2011: 8,\n",
       " 2012: 44,\n",
       " 2013: 24,\n",
       " 2014: 17}"
      ]
     },
     "execution_count": 40,
     "metadata": {},
     "output_type": "execute_result"
    }
   ],
   "source": [
    "fatality_counter(year_list)"
   ]
  },
  {
   "cell_type": "code",
   "execution_count": 45,
   "metadata": {},
   "outputs": [],
   "source": [
    "import matplotlib.pyplot as plt"
   ]
  },
  {
   "cell_type": "code",
   "execution_count": 48,
   "metadata": {
    "collapsed": true
   },
   "outputs": [],
   "source": [
    "lists = fatalities_per_year.items()"
   ]
  },
  {
   "cell_type": "code",
   "execution_count": 50,
   "metadata": {},
   "outputs": [],
   "source": [
    "x, y = zip(*lists)"
   ]
  },
  {
   "cell_type": "code",
   "execution_count": 52,
   "metadata": {},
   "outputs": [
    {
     "data": {
      "image/png": "[encoded data removed]",
      "text/plain": [
       "<matplotlib.figure.Figure at 0x111f3bba8>"
      ]
     },
     "metadata": {},
     "output_type": "display_data"
    }
   ],
   "source": [
    "plt.plot(x,y)\n",
    "plt.show()"
   ]
  },
  {
   "cell_type": "code",
   "execution_count": null,
   "metadata": {
    "collapsed": true
   },
   "outputs": [],
   "source": []
  }
 ],
 "metadata": {
  "kernelspec": {
   "display_name": "Python 3",
   "language": "python",
   "name": "python3"
  },
  "language_info": {
   "codemirror_mode": {
    "name": "ipython",
    "version": 3
   },
   "file_extension": ".py",
   "mimetype": "text/x-python",
   "name": "python",
   "nbconvert_exporter": "python",
   "pygments_lexer": "ipython3",
   "version": "3.6.3"
  }
 },
 "nbformat": 4,
 "nbformat_minor": 2
}
