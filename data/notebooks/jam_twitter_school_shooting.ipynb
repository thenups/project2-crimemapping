{
 "cells": [
  {
   "cell_type": "code",
   "execution_count": 28,
   "metadata": {
    "collapsed": true
   },
   "outputs": [],
   "source": [
    "# Dependencies\n",
    "import tweepy\n",
    "import json\n",
    "import numpy as np\n",
    "\n",
    "# Import and Initialize Sentiment Analyzer\n",
    "from vaderSentiment.vaderSentiment import SentimentIntensityAnalyzer\n",
    "analyzer = SentimentIntensityAnalyzer()"
   ]
  },
  {
   "cell_type": "code",
   "execution_count": 2,
   "metadata": {
    "collapsed": true
   },
   "outputs": [],
   "source": [
    "# Twitter API Keys\n",
    "consumer_key = 'ibYsFmAdHS8fhnupeA3opTRHN'\n",
    "consumer_secret = 'cSfliluzlYkSJ8EPJEOvQA5kKG9BE6MG1ddF8kHAyNc5ZJ6601'\n",
    "access_token = '943311356534472704-3tToKzZ2RMDtNOo4frlY6IEAg6iWGL1'\n",
    "access_token_secret = '42jS6EeOwV5ZaWde0LwxpL4dPyozVt5rv3URu7ZlP9m17'"
   ]
  },
  {
   "cell_type": "code",
   "execution_count": 14,
   "metadata": {
    "collapsed": true
   },
   "outputs": [],
   "source": [
    "# Setup Tweepy API Authentication\n",
    "auth = tweepy.OAuthHandler(consumer_key, consumer_secret)\n",
    "auth.set_access_token(access_token, access_token_secret)\n",
    "api = tweepy.API(auth, parser=tweepy.parsers.JSONParser())"
   ]
  },
  {
   "cell_type": "code",
   "execution_count": 36,
   "metadata": {},
   "outputs": [
    {
     "name": "stdout",
     "output_type": "stream",
     "text": [
      "\n",
      "Compound: 0.00586\n",
      "Positive: 0.0303\n",
      "Neutral: 0.9376\n",
      "Negative: 0.0321\n"
     ]
    }
   ],
   "source": [
    "# Search Term\n",
    "# search_term = input(\"what term do you want to search for? \")\n",
    "search_term = 'school shooting'\n",
    "\n",
    "# Search for 10 popular tweets\n",
    "public_tweets = api.search(search_term, count=10, result_type='popular')\n",
    "# Search for 10 recent tweets\n",
    "# public_tweets = api.search(search_term, count=20, result_type='recent')\n",
    "\n",
    "# View Search Object\n",
    "# print(public_tweets)\n",
    "\n",
    "tweet_id = []\n",
    "tweet_text = []\n",
    "compound_list = []\n",
    "positive_list = []\n",
    "negative_list = []\n",
    "neutral_list = []\n",
    "\n",
    "# Loop through all tweets\n",
    "for tweet in public_tweets[\"statuses\"]:\n",
    "\n",
    "    # Utilize JSON dumps to generate a pretty-printed json\n",
    "    # print(json.dumps(tweet, sort_keys=True, indent=4, separators=(',', ': ')))\n",
    "    tweet_id.append(tweet['id'])\n",
    "    tweet_text.append(tweet[\"text\"])\n",
    "    \n",
    "    # Run Vader Analysis on each tweet\n",
    "    compound = analyzer.polarity_scores(tweet['text'])[\"compound\"]\n",
    "    pos = analyzer.polarity_scores(tweet['text'])[\"pos\"]\n",
    "    neu = analyzer.polarity_scores(tweet['text'])[\"neu\"]\n",
    "    neg = analyzer.polarity_scores(tweet['text'])[\"neg\"]\n",
    "\n",
    "    # Add each value to the appropriate array\n",
    "    compound_list.append(compound)\n",
    "    positive_list.append(pos)\n",
    "    negative_list.append(neg)\n",
    "    neutral_list.append(neu) \n",
    "\n",
    "# Print the Averages\n",
    "print(\"\")\n",
    "print(\"Compound: %s\" % np.mean(compound_list))\n",
    "print(\"Positive: %s\" % np.mean(positive_list))\n",
    "print(\"Neutral: %s\" % np.mean(neutral_list))\n",
    "print(\"Negative: %s\" % np.mean(negative_list))\n"
   ]
  },
  {
   "cell_type": "code",
   "execution_count": 37,
   "metadata": {},
   "outputs": [
    {
     "data": {
      "text/plain": [
       "[976802469773807616,\n",
       " 976199733415960577,\n",
       " 976618712613572608,\n",
       " 976566979615182853,\n",
       " 976482233392533504,\n",
       " 976307240624783360,\n",
       " 976808863637889024,\n",
       " 976505282120450048,\n",
       " 976197292846858240,\n",
       " 976231504635416577]"
      ]
     },
     "execution_count": 37,
     "metadata": {},
     "output_type": "execute_result"
    }
   ],
   "source": [
    "tweet_id"
   ]
  },
  {
   "cell_type": "code",
   "execution_count": 38,
   "metadata": {},
   "outputs": [
    {
     "data": {
      "text/plain": [
       "[\"TIME's new cover: The school shooting generation has had enough https://t.co/4YI173gqTx https://t.co/7yFEXuVjyb\",\n",
       " 'A shooting in a Maryland HS was stopped by an armed officer who worked in the school. How long before the liberal m… https://t.co/RH7r5aE6X9',\n",
       " 'Marjory Stoneman Douglas High School students will now be required to carry clear backpacks.\\n\\nAny student without a… https://t.co/RN7g3HiDY2',\n",
       " 'Barack and Michelle Obama penned a letter to the students of Parkland, Florida, telling them that their efforts in… https://t.co/fezYpmmwVf',\n",
       " \"A year in the making, our analysis of every American school shooting since Columbine — and what they've done to the… https://t.co/Nts9uxQ5js\",\n",
       " 'Deputy Blaine Gaskill, the school resource officer for Great Mills High School, was alerted of the shooting &amp; immed… https://t.co/cYXOK4ywwb',\n",
       " 'New @TIME cover: The school shooting generation has had enough https://t.co/GQJ9HnJv8W https://t.co/foJoWcUoe6',\n",
       " \"CNN's @BrookeBCNN allegedly removed @KyleKashuv from her lineup of guests this afternoon because he retweeted a new… https://t.co/Wl7uo5laJf\",\n",
       " \"An armed and trained police officer's presence did not deter a 17 year old child from procuring a loaded gun, bring… https://t.co/6gAY3v0Vle\",\n",
       " 'Daily Recap:\\nTrump congratulates Putin for sham election- this time not in US; Karen, Stormy, Summer fight Trump-wo… https://t.co/tTXIRkJMp0']"
      ]
     },
     "execution_count": 38,
     "metadata": {},
     "output_type": "execute_result"
    }
   ],
   "source": [
    "tweet_text"
   ]
  },
  {
   "cell_type": "code",
   "execution_count": null,
   "metadata": {
    "collapsed": true
   },
   "outputs": [],
   "source": [
    "import schedule\n",
    "import time\n",
    "\n",
    "def job():\n",
    "    print(\"I'm working...\")\n",
    "\n",
    "schedule.every(10).minutes.do(job)\n",
    "schedule.every().hour.do(job)\n",
    "schedule.every().day.at(\"10:30\").do(job)\n",
    "schedule.every().monday.do(job)\n",
    "schedule.every().wednesday.at(\"13:15\").do(job)\n",
    "\n",
    "while True:\n",
    "    schedule.run_pending()\n",
    "    time.sleep(1)"
   ]
  }
 ],
 "metadata": {
  "kernelspec": {
   "display_name": "Python 3",
   "language": "python",
   "name": "python3"
  },
  "language_info": {
   "codemirror_mode": {
    "name": "ipython",
    "version": 3
   },
   "file_extension": ".py",
   "mimetype": "text/x-python",
   "name": "python",
   "nbconvert_exporter": "python",
   "pygments_lexer": "ipython3",
   "version": "3.6.3"
  }
 },
 "nbformat": 4,
 "nbformat_minor": 2
}
