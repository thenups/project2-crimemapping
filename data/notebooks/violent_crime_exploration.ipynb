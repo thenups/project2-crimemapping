{
 "cells": [
  {
   "cell_type": "markdown",
   "metadata": {},
   "source": [
    "# Violent Crime Dataset Exploration"
   ]
  },
  {
   "cell_type": "markdown",
   "metadata": {},
   "source": [
    "### Dependencies"
   ]
  },
  {
   "cell_type": "code",
   "execution_count": 2,
   "metadata": {
    "collapsed": true
   },
   "outputs": [],
   "source": [
    "import pandas as pd"
   ]
  },
  {
   "cell_type": "markdown",
   "metadata": {},
   "source": [
    "### Read in CSV and create DataFrame"
   ]
  },
  {
   "cell_type": "code",
   "execution_count": 3,
   "metadata": {
    "collapsed": true
   },
   "outputs": [],
   "source": [
    "filepath = \"Output/cleaned_crime_by_jurisdiction.csv\"\n",
    "csv = pd.read_csv(filepath)\n",
    "df = pd.DataFrame(csv)"
   ]
  },
  {
   "cell_type": "markdown",
   "metadata": {},
   "source": [
    "### View head"
   ]
  },
  {
   "cell_type": "code",
   "execution_count": 4,
   "metadata": {},
   "outputs": [
    {
     "data": {
      "text/html": [
       "<div>\n",
       "<style>\n",
       "    .dataframe thead tr:only-child th {\n",
       "        text-align: right;\n",
       "    }\n",
       "\n",
       "    .dataframe thead th {\n",
       "        text-align: left;\n",
       "    }\n",
       "\n",
       "    .dataframe tbody tr th {\n",
       "        vertical-align: top;\n",
       "    }\n",
       "</style>\n",
       "<table border=\"1\" class=\"dataframe\">\n",
       "  <thead>\n",
       "    <tr style=\"text-align: right;\">\n",
       "      <th></th>\n",
       "      <th>report_year</th>\n",
       "      <th>agency_code</th>\n",
       "      <th>agency_jurisdiction</th>\n",
       "      <th>population</th>\n",
       "      <th>violent_crimes</th>\n",
       "      <th>homicides</th>\n",
       "      <th>rapes</th>\n",
       "      <th>assaults</th>\n",
       "      <th>robberies</th>\n",
       "      <th>crimes_percapita</th>\n",
       "      <th>homicides_percapita</th>\n",
       "      <th>rapes_percapita</th>\n",
       "      <th>assaults_percapita</th>\n",
       "      <th>robberies_percapita</th>\n",
       "      <th>state</th>\n",
       "    </tr>\n",
       "  </thead>\n",
       "  <tbody>\n",
       "    <tr>\n",
       "      <th>0</th>\n",
       "      <td>1990</td>\n",
       "      <td>NM00101</td>\n",
       "      <td>Albuquerque, NM</td>\n",
       "      <td>384736.0</td>\n",
       "      <td>5121.0</td>\n",
       "      <td>34.0</td>\n",
       "      <td>222.0</td>\n",
       "      <td>3835.0</td>\n",
       "      <td>1030.0</td>\n",
       "      <td>1331.04</td>\n",
       "      <td>8.84</td>\n",
       "      <td>57.70</td>\n",
       "      <td>996.79</td>\n",
       "      <td>267.72</td>\n",
       "      <td>NM</td>\n",
       "    </tr>\n",
       "    <tr>\n",
       "      <th>1</th>\n",
       "      <td>1990</td>\n",
       "      <td>TX22001</td>\n",
       "      <td>Arlington, TX</td>\n",
       "      <td>261721.0</td>\n",
       "      <td>1876.0</td>\n",
       "      <td>8.0</td>\n",
       "      <td>139.0</td>\n",
       "      <td>1143.0</td>\n",
       "      <td>586.0</td>\n",
       "      <td>716.79</td>\n",
       "      <td>3.06</td>\n",
       "      <td>53.11</td>\n",
       "      <td>436.72</td>\n",
       "      <td>223.90</td>\n",
       "      <td>TX</td>\n",
       "    </tr>\n",
       "    <tr>\n",
       "      <th>2</th>\n",
       "      <td>1990</td>\n",
       "      <td>GAAPD00</td>\n",
       "      <td>Atlanta, GA</td>\n",
       "      <td>394017.0</td>\n",
       "      <td>16097.0</td>\n",
       "      <td>231.0</td>\n",
       "      <td>695.0</td>\n",
       "      <td>9062.0</td>\n",
       "      <td>6109.0</td>\n",
       "      <td>4085.36</td>\n",
       "      <td>58.63</td>\n",
       "      <td>176.39</td>\n",
       "      <td>2299.90</td>\n",
       "      <td>1550.44</td>\n",
       "      <td>GA</td>\n",
       "    </tr>\n",
       "    <tr>\n",
       "      <th>3</th>\n",
       "      <td>1990</td>\n",
       "      <td>CO00101</td>\n",
       "      <td>Aurora, CO</td>\n",
       "      <td>222103.0</td>\n",
       "      <td>3191.0</td>\n",
       "      <td>8.0</td>\n",
       "      <td>170.0</td>\n",
       "      <td>2616.0</td>\n",
       "      <td>397.0</td>\n",
       "      <td>1436.72</td>\n",
       "      <td>3.60</td>\n",
       "      <td>76.54</td>\n",
       "      <td>1177.83</td>\n",
       "      <td>178.75</td>\n",
       "      <td>CO</td>\n",
       "    </tr>\n",
       "    <tr>\n",
       "      <th>4</th>\n",
       "      <td>1990</td>\n",
       "      <td>TX22701</td>\n",
       "      <td>Austin, TX</td>\n",
       "      <td>465622.0</td>\n",
       "      <td>3326.0</td>\n",
       "      <td>46.0</td>\n",
       "      <td>280.0</td>\n",
       "      <td>1539.0</td>\n",
       "      <td>1461.0</td>\n",
       "      <td>714.31</td>\n",
       "      <td>9.88</td>\n",
       "      <td>60.13</td>\n",
       "      <td>330.53</td>\n",
       "      <td>313.77</td>\n",
       "      <td>TX</td>\n",
       "    </tr>\n",
       "  </tbody>\n",
       "</table>\n",
       "</div>"
      ],
      "text/plain": [
       "   report_year agency_code agency_jurisdiction  population  violent_crimes  \\\n",
       "0         1990     NM00101     Albuquerque, NM    384736.0          5121.0   \n",
       "1         1990     TX22001       Arlington, TX    261721.0          1876.0   \n",
       "2         1990     GAAPD00         Atlanta, GA    394017.0         16097.0   \n",
       "3         1990     CO00101          Aurora, CO    222103.0          3191.0   \n",
       "4         1990     TX22701          Austin, TX    465622.0          3326.0   \n",
       "\n",
       "   homicides  rapes  assaults  robberies  crimes_percapita  \\\n",
       "0       34.0  222.0    3835.0     1030.0           1331.04   \n",
       "1        8.0  139.0    1143.0      586.0            716.79   \n",
       "2      231.0  695.0    9062.0     6109.0           4085.36   \n",
       "3        8.0  170.0    2616.0      397.0           1436.72   \n",
       "4       46.0  280.0    1539.0     1461.0            714.31   \n",
       "\n",
       "   homicides_percapita  rapes_percapita  assaults_percapita  \\\n",
       "0                 8.84            57.70              996.79   \n",
       "1                 3.06            53.11              436.72   \n",
       "2                58.63           176.39             2299.90   \n",
       "3                 3.60            76.54             1177.83   \n",
       "4                 9.88            60.13              330.53   \n",
       "\n",
       "   robberies_percapita state  \n",
       "0               267.72    NM  \n",
       "1               223.90    TX  \n",
       "2              1550.44    GA  \n",
       "3               178.75    CO  \n",
       "4               313.77    TX  "
      ]
     },
     "execution_count": 4,
     "metadata": {},
     "output_type": "execute_result"
    }
   ],
   "source": [
    "df.head()"
   ]
  },
  {
   "cell_type": "markdown",
   "metadata": {},
   "source": [
    "### Determine jurisdictions with highest mean crimes_percapita over all years"
   ]
  },
  {
   "cell_type": "code",
   "execution_count": 5,
   "metadata": {},
   "outputs": [
    {
     "data": {
      "text/plain": [
       "agency_jurisdiction\n",
       "St. Louis, MO                 2463.630000\n",
       "Atlanta, GA                   2382.787308\n",
       "Detroit, MI                   2263.590385\n",
       "Miami, FL                     2196.326923\n",
       "Baltimore, MD                 2086.754615\n",
       "Newark, NJ                    1922.306538\n",
       "Tampa, FL                     1883.245769\n",
       "Oakland, CA                   1823.308077\n",
       "Chicago, IL                   1765.390769\n",
       "Washington, DC                1747.042692\n",
       "Kansas City, MO               1744.826154\n",
       "Orlando, FL                   1729.573846\n",
       "Memphis, TN                   1678.066923\n",
       "Nashville, TN                 1485.658462\n",
       "Cleveland, OH                 1456.494000\n",
       "Buffalo, NY                   1431.170000\n",
       "Minneapolis, MN               1371.485385\n",
       "Boston, MA                    1331.079615\n",
       "Philadelphia, PA              1327.703462\n",
       "Dallas, TX                    1306.570000\n",
       "New Orleans, LA               1301.461154\n",
       "Los Angeles, CA               1274.272692\n",
       "Charlotte, NC                 1268.121923\n",
       "Indianapolis, IN              1250.363077\n",
       "Houston, TX                   1182.031154\n",
       "Cincinnati, OH                1164.097083\n",
       "Tulsa, OK                     1149.771923\n",
       "Albuquerque, NM               1106.578077\n",
       "Milwaukee, WI                 1102.027308\n",
       "Miami-Dade County, FL         1095.015769\n",
       "                                 ...     \n",
       "Prince George's County, MD     946.225000\n",
       "Long Beach, CA                 930.396154\n",
       "Fresno, CA                     926.119231\n",
       "Fort Worth, TX                 901.593077\n",
       "Tucson, AZ                     883.308462\n",
       "Las Vegas, NV                  871.106154\n",
       "Columbus, OH                   847.285000\n",
       "Seattle, WA                    825.680769\n",
       "Omaha, NE                      804.686154\n",
       "Baltimore County, MD           797.840000\n",
       "Phoenix, AZ                    791.386923\n",
       "Wichita, KS                    779.924231\n",
       "Salt Lake City, UT             756.027308\n",
       "Aurora, CO                     749.741923\n",
       "Denver, CO                     709.062308\n",
       "San Diego, CA                  673.554231\n",
       "Raleigh, NC                    663.841538\n",
       "El Paso, TX                    653.926154\n",
       "Arlington, TX                  650.366923\n",
       "San Antonio, TX                612.857692\n",
       "Louisville, KY                 600.059231\n",
       "Mesa, AZ                       571.704231\n",
       "Austin, TX                     529.665000\n",
       "San Jose, CA                   501.784615\n",
       "Honolulu, HI                   273.843077\n",
       "Montgomery County, MD          229.415385\n",
       "Virginia Beach, VA             223.622308\n",
       "Suffolk County, NY             183.198846\n",
       "Nassau County, NY              165.747692\n",
       "Fairfax County, VA              84.597692\n",
       "Name: crimes_percapita, Length: 68, dtype: float64"
      ]
     },
     "execution_count": 5,
     "metadata": {},
     "output_type": "execute_result"
    }
   ],
   "source": [
    "df.groupby('agency_jurisdiction').crimes_percapita.mean().sort_values(ascending=False)"
   ]
  },
  {
   "cell_type": "markdown",
   "metadata": {},
   "source": [
    "### City search for above grouped dataframe"
   ]
  },
  {
   "cell_type": "code",
   "execution_count": 6,
   "metadata": {},
   "outputs": [
    {
     "name": "stdout",
     "output_type": "stream",
     "text": [
      "agency_jurisdiction    Jacksonville, FL\n",
      "crimes_percapita                1071.32\n",
      "Name: 32, dtype: object\n"
     ]
    }
   ],
   "source": [
    "search_term = \"Jacksonville\"\n",
    "ranked = pd.DataFrame(df.groupby('agency_jurisdiction').crimes_percapita.mean().sort_values(ascending=False).reset_index())\n",
    "for index, row in ranked.iterrows():\n",
    "    if search_term in row['agency_jurisdiction']:\n",
    "        print(row)"
   ]
  },
  {
   "cell_type": "code",
   "execution_count": 137,
   "metadata": {
    "collapsed": true
   },
   "outputs": [],
   "source": [
    "### Plotting and stats analysis"
   ]
  },
  {
   "cell_type": "code",
   "execution_count": 7,
   "metadata": {},
   "outputs": [
    {
     "data": {
      "text/html": [
       "<div>\n",
       "<style>\n",
       "    .dataframe thead tr:only-child th {\n",
       "        text-align: right;\n",
       "    }\n",
       "\n",
       "    .dataframe thead th {\n",
       "        text-align: left;\n",
       "    }\n",
       "\n",
       "    .dataframe tbody tr th {\n",
       "        vertical-align: top;\n",
       "    }\n",
       "</style>\n",
       "<table border=\"1\" class=\"dataframe\">\n",
       "  <thead>\n",
       "    <tr style=\"text-align: right;\">\n",
       "      <th></th>\n",
       "      <th>report_year</th>\n",
       "      <th>agency_code</th>\n",
       "      <th>agency_jurisdiction</th>\n",
       "      <th>population</th>\n",
       "      <th>violent_crimes</th>\n",
       "      <th>homicides</th>\n",
       "      <th>rapes</th>\n",
       "      <th>assaults</th>\n",
       "      <th>robberies</th>\n",
       "      <th>crimes_percapita</th>\n",
       "      <th>homicides_percapita</th>\n",
       "      <th>rapes_percapita</th>\n",
       "      <th>assaults_percapita</th>\n",
       "      <th>robberies_percapita</th>\n",
       "      <th>state</th>\n",
       "    </tr>\n",
       "  </thead>\n",
       "  <tbody>\n",
       "    <tr>\n",
       "      <th>0</th>\n",
       "      <td>1990</td>\n",
       "      <td>NM00101</td>\n",
       "      <td>Albuquerque, NM</td>\n",
       "      <td>384736.0</td>\n",
       "      <td>5121.0</td>\n",
       "      <td>34.0</td>\n",
       "      <td>222.0</td>\n",
       "      <td>3835.0</td>\n",
       "      <td>1030.0</td>\n",
       "      <td>1331.04</td>\n",
       "      <td>8.84</td>\n",
       "      <td>57.70</td>\n",
       "      <td>996.79</td>\n",
       "      <td>267.72</td>\n",
       "      <td>NM</td>\n",
       "    </tr>\n",
       "    <tr>\n",
       "      <th>1</th>\n",
       "      <td>1990</td>\n",
       "      <td>TX22001</td>\n",
       "      <td>Arlington, TX</td>\n",
       "      <td>261721.0</td>\n",
       "      <td>1876.0</td>\n",
       "      <td>8.0</td>\n",
       "      <td>139.0</td>\n",
       "      <td>1143.0</td>\n",
       "      <td>586.0</td>\n",
       "      <td>716.79</td>\n",
       "      <td>3.06</td>\n",
       "      <td>53.11</td>\n",
       "      <td>436.72</td>\n",
       "      <td>223.90</td>\n",
       "      <td>TX</td>\n",
       "    </tr>\n",
       "    <tr>\n",
       "      <th>2</th>\n",
       "      <td>1990</td>\n",
       "      <td>GAAPD00</td>\n",
       "      <td>Atlanta, GA</td>\n",
       "      <td>394017.0</td>\n",
       "      <td>16097.0</td>\n",
       "      <td>231.0</td>\n",
       "      <td>695.0</td>\n",
       "      <td>9062.0</td>\n",
       "      <td>6109.0</td>\n",
       "      <td>4085.36</td>\n",
       "      <td>58.63</td>\n",
       "      <td>176.39</td>\n",
       "      <td>2299.90</td>\n",
       "      <td>1550.44</td>\n",
       "      <td>GA</td>\n",
       "    </tr>\n",
       "    <tr>\n",
       "      <th>3</th>\n",
       "      <td>1990</td>\n",
       "      <td>CO00101</td>\n",
       "      <td>Aurora, CO</td>\n",
       "      <td>222103.0</td>\n",
       "      <td>3191.0</td>\n",
       "      <td>8.0</td>\n",
       "      <td>170.0</td>\n",
       "      <td>2616.0</td>\n",
       "      <td>397.0</td>\n",
       "      <td>1436.72</td>\n",
       "      <td>3.60</td>\n",
       "      <td>76.54</td>\n",
       "      <td>1177.83</td>\n",
       "      <td>178.75</td>\n",
       "      <td>CO</td>\n",
       "    </tr>\n",
       "    <tr>\n",
       "      <th>4</th>\n",
       "      <td>1990</td>\n",
       "      <td>TX22701</td>\n",
       "      <td>Austin, TX</td>\n",
       "      <td>465622.0</td>\n",
       "      <td>3326.0</td>\n",
       "      <td>46.0</td>\n",
       "      <td>280.0</td>\n",
       "      <td>1539.0</td>\n",
       "      <td>1461.0</td>\n",
       "      <td>714.31</td>\n",
       "      <td>9.88</td>\n",
       "      <td>60.13</td>\n",
       "      <td>330.53</td>\n",
       "      <td>313.77</td>\n",
       "      <td>TX</td>\n",
       "    </tr>\n",
       "  </tbody>\n",
       "</table>\n",
       "</div>"
      ],
      "text/plain": [
       "   report_year agency_code agency_jurisdiction  population  violent_crimes  \\\n",
       "0         1990     NM00101     Albuquerque, NM    384736.0          5121.0   \n",
       "1         1990     TX22001       Arlington, TX    261721.0          1876.0   \n",
       "2         1990     GAAPD00         Atlanta, GA    394017.0         16097.0   \n",
       "3         1990     CO00101          Aurora, CO    222103.0          3191.0   \n",
       "4         1990     TX22701          Austin, TX    465622.0          3326.0   \n",
       "\n",
       "   homicides  rapes  assaults  robberies  crimes_percapita  \\\n",
       "0       34.0  222.0    3835.0     1030.0           1331.04   \n",
       "1        8.0  139.0    1143.0      586.0            716.79   \n",
       "2      231.0  695.0    9062.0     6109.0           4085.36   \n",
       "3        8.0  170.0    2616.0      397.0           1436.72   \n",
       "4       46.0  280.0    1539.0     1461.0            714.31   \n",
       "\n",
       "   homicides_percapita  rapes_percapita  assaults_percapita  \\\n",
       "0                 8.84            57.70              996.79   \n",
       "1                 3.06            53.11              436.72   \n",
       "2                58.63           176.39             2299.90   \n",
       "3                 3.60            76.54             1177.83   \n",
       "4                 9.88            60.13              330.53   \n",
       "\n",
       "   robberies_percapita state  \n",
       "0               267.72    NM  \n",
       "1               223.90    TX  \n",
       "2              1550.44    GA  \n",
       "3               178.75    CO  \n",
       "4               313.77    TX  "
      ]
     },
     "execution_count": 7,
     "metadata": {},
     "output_type": "execute_result"
    }
   ],
   "source": [
    "df.head()"
   ]
  },
  {
   "cell_type": "code",
   "execution_count": 132,
   "metadata": {
    "collapsed": true
   },
   "outputs": [],
   "source": [
    "# building a simple dictionary with key and value.\n",
    "# Created a function to generate year\n",
    "# Created a function to populate the crime dictionary with the key, value pair\n",
    "crime_per_year = {}\n",
    "year_list = []"
   ]
  },
  {
   "cell_type": "code",
   "execution_count": 144,
   "metadata": {
    "collapsed": true
   },
   "outputs": [],
   "source": [
    "def build_year_list(num_year):\n",
    "    start_year = 1990\n",
    "    for i in range(0, num_year-1):\n",
    "        year_list.append(start_year+i)\n",
    "    return year_list"
   ]
  },
  {
   "cell_type": "code",
   "execution_count": 145,
   "metadata": {},
   "outputs": [
    {
     "data": {
      "text/plain": [
       "[1990,\n",
       " 1991,\n",
       " 1992,\n",
       " 1993,\n",
       " 1994,\n",
       " 1995,\n",
       " 1996,\n",
       " 1997,\n",
       " 1998,\n",
       " 1999,\n",
       " 2000,\n",
       " 2001,\n",
       " 2002,\n",
       " 2003,\n",
       " 2004,\n",
       " 2005,\n",
       " 2006,\n",
       " 2007,\n",
       " 2008,\n",
       " 2009,\n",
       " 2010,\n",
       " 2011,\n",
       " 2012,\n",
       " 2013,\n",
       " 2014]"
      ]
     },
     "execution_count": 145,
     "metadata": {},
     "output_type": "execute_result"
    }
   ],
   "source": [
    "build_year_list(26)"
   ]
  },
  {
   "cell_type": "code",
   "execution_count": 78,
   "metadata": {
    "collapsed": true
   },
   "outputs": [],
   "source": [
    "def violent_crime_count(year_list):\n",
    "    for i in range(len(year_list)):\n",
    "        crime_count = df[df['report_year'] == year_list[i]]['violent_crimes'].sum()\n",
    "        crime_per_year.update({year_list[i]: crime_count})\n",
    "    return crime_per_year"
   ]
  },
  {
   "cell_type": "code",
   "execution_count": 79,
   "metadata": {},
   "outputs": [
    {
     "data": {
      "text/plain": [
       "{1990: 865969.0,\n",
       " 1991: 900316.0,\n",
       " 1992: 882124.0,\n",
       " 1993: 866963.0,\n",
       " 1994: 817446.0,\n",
       " 1995: 766751.0,\n",
       " 1996: 715249.0,\n",
       " 1997: 667270.0,\n",
       " 1998: 619280.0,\n",
       " 1999: 579433.0,\n",
       " 2000: 574377.0,\n",
       " 2001: 574528.0,\n",
       " 2002: 561665.0,\n",
       " 2003: 533396.0,\n",
       " 2004: 513157.0,\n",
       " 2005: 516126.0,\n",
       " 2006: 522223.0,\n",
       " 2007: 511135.0,\n",
       " 2008: 497761.0,\n",
       " 2009: 463986.0,\n",
       " 2010: 438261.0,\n",
       " 2011: 423978.0,\n",
       " 2012: 431738.0,\n",
       " 2013: 422507.0,\n",
       " 2014: 421311.0}"
      ]
     },
     "execution_count": 79,
     "metadata": {},
     "output_type": "execute_result"
    }
   ],
   "source": [
    "violent_crime_count(year_list)"
   ]
  },
  {
   "cell_type": "code",
   "execution_count": 104,
   "metadata": {},
   "outputs": [
    {
     "data": {
      "text/plain": [
       "{1990: 865969.0,\n",
       " 1991: 900316.0,\n",
       " 1992: 882124.0,\n",
       " 1993: 866963.0,\n",
       " 1994: 817446.0,\n",
       " 1995: 766751.0,\n",
       " 1996: 715249.0,\n",
       " 1997: 667270.0,\n",
       " 1998: 619280.0,\n",
       " 1999: 579433.0,\n",
       " 2000: 574377.0,\n",
       " 2001: 574528.0,\n",
       " 2002: 561665.0,\n",
       " 2003: 533396.0,\n",
       " 2004: 513157.0,\n",
       " 2005: 516126.0,\n",
       " 2006: 522223.0,\n",
       " 2007: 511135.0,\n",
       " 2008: 497761.0,\n",
       " 2009: 463986.0,\n",
       " 2010: 438261.0,\n",
       " 2011: 423978.0,\n",
       " 2012: 431738.0,\n",
       " 2013: 422507.0,\n",
       " 2014: 421311.0}"
      ]
     },
     "execution_count": 104,
     "metadata": {},
     "output_type": "execute_result"
    }
   ],
   "source": [
    "crime_per_year"
   ]
  },
  {
   "cell_type": "code",
   "execution_count": 140,
   "metadata": {
    "collapsed": true
   },
   "outputs": [],
   "source": [
    "homocides_per_year = {}"
   ]
  },
  {
   "cell_type": "code",
   "execution_count": 141,
   "metadata": {
    "collapsed": true
   },
   "outputs": [],
   "source": [
    "def homocide_count(year_list):\n",
    "    for i in range(len(year_list)):\n",
    "        homocide_count = df[df['report_year'] == year_list[i]]['homicides'].sum()\n",
    "        homocides_per_year.update({year_list[i]: homocide_count})\n",
    "    return homocides_per_year"
   ]
  },
  {
   "cell_type": "code",
   "execution_count": 147,
   "metadata": {},
   "outputs": [
    {
     "data": {
      "text/plain": [
       "{1990: 11866.0,\n",
       " 1991: 12288.0,\n",
       " 1992: 11729.0,\n",
       " 1993: 11919.0,\n",
       " 1994: 10816.0,\n",
       " 1995: 10041.0,\n",
       " 1996: 8941.0,\n",
       " 1997: 7954.0,\n",
       " 1998: 7113.0,\n",
       " 1999: 6822.0,\n",
       " 2000: 6774.0,\n",
       " 2001: 7128.0,\n",
       " 2002: 7130.0,\n",
       " 2003: 7255.0,\n",
       " 2004: 6939.0,\n",
       " 2005: 7103.0,\n",
       " 2006: 7384.0,\n",
       " 2007: 7051.0,\n",
       " 2008: 6715.0,\n",
       " 2009: 5985.0,\n",
       " 2010: 5867.0,\n",
       " 2011: 5702.0,\n",
       " 2012: 5848.0,\n",
       " 2013: 5344.0,\n",
       " 2014: 5349.0}"
      ]
     },
     "execution_count": 147,
     "metadata": {},
     "output_type": "execute_result"
    }
   ],
   "source": [
    "homocide_count(year_list)"
   ]
  },
  {
   "cell_type": "code",
   "execution_count": 149,
   "metadata": {},
   "outputs": [
    {
     "data": {
      "text/plain": [
       "{1990: 11866.0,\n",
       " 1991: 12288.0,\n",
       " 1992: 11729.0,\n",
       " 1993: 11919.0,\n",
       " 1994: 10816.0,\n",
       " 1995: 10041.0,\n",
       " 1996: 8941.0,\n",
       " 1997: 7954.0,\n",
       " 1998: 7113.0,\n",
       " 1999: 6822.0,\n",
       " 2000: 6774.0,\n",
       " 2001: 7128.0,\n",
       " 2002: 7130.0,\n",
       " 2003: 7255.0,\n",
       " 2004: 6939.0,\n",
       " 2005: 7103.0,\n",
       " 2006: 7384.0,\n",
       " 2007: 7051.0,\n",
       " 2008: 6715.0,\n",
       " 2009: 5985.0,\n",
       " 2010: 5867.0,\n",
       " 2011: 5702.0,\n",
       " 2012: 5848.0,\n",
       " 2013: 5344.0,\n",
       " 2014: 5349.0}"
      ]
     },
     "execution_count": 149,
     "metadata": {},
     "output_type": "execute_result"
    }
   ],
   "source": [
    "homocides_per_year"
   ]
  },
  {
   "cell_type": "code",
   "execution_count": 199,
   "metadata": {},
   "outputs": [],
   "source": [
    "import matplotlib.pyplot as plt\n",
    "import matplotlib.patches as mpatches"
   ]
  },
  {
   "cell_type": "code",
   "execution_count": 89,
   "metadata": {
    "collapsed": true
   },
   "outputs": [],
   "source": [
    "fatalities_per_year = {1990: 2,\n",
    " 1991: 12,\n",
    " 1992: 14,\n",
    " 1993: 37,\n",
    " 1994: 23,\n",
    " 1995: 15,\n",
    " 1996: 24,\n",
    " 1997: 17,\n",
    " 1998: 28,\n",
    " 1999: 22,\n",
    " 2000: 14,\n",
    " 2001: 10,\n",
    " 2002: 15,\n",
    " 2003: 10,\n",
    " 2004: 9,\n",
    " 2005: 14,\n",
    " 2006: 25,\n",
    " 2007: 39,\n",
    " 2008: 24,\n",
    " 2009: 14,\n",
    " 2010: 14,\n",
    " 2011: 8,\n",
    " 2012: 44,\n",
    " 2013: 24,\n",
    " 2014: 17}"
   ]
  },
  {
   "cell_type": "code",
   "execution_count": 150,
   "metadata": {
    "collapsed": true
   },
   "outputs": [],
   "source": [
    "lists2 = homocides_per_year.items()\n",
    "x2, y2 = zip(*lists2)"
   ]
  },
  {
   "cell_type": "code",
   "execution_count": 188,
   "metadata": {},
   "outputs": [],
   "source": [
    "lists3 = fatalities_per_year.items()\n",
    "x3, y3 = zip(*lists3)"
   ]
  },
  {
   "cell_type": "code",
   "execution_count": 189,
   "metadata": {
    "collapsed": true
   },
   "outputs": [],
   "source": [
    "y3_adj = []"
   ]
  },
  {
   "cell_type": "code",
   "execution_count": 190,
   "metadata": {},
   "outputs": [],
   "source": [
    "for i in range(len(y3)):\n",
    "    y3_adj.append(y3[i]*100)"
   ]
  },
  {
   "cell_type": "code",
   "execution_count": 191,
   "metadata": {},
   "outputs": [
    {
     "data": {
      "text/plain": [
       "[200,\n",
       " 1200,\n",
       " 1400,\n",
       " 3700,\n",
       " 2300,\n",
       " 1500,\n",
       " 2400,\n",
       " 1700,\n",
       " 2800,\n",
       " 2200,\n",
       " 1400,\n",
       " 1000,\n",
       " 1500,\n",
       " 1000,\n",
       " 900,\n",
       " 1400,\n",
       " 2500,\n",
       " 3900,\n",
       " 2400,\n",
       " 1400,\n",
       " 1400,\n",
       " 800,\n",
       " 4400,\n",
       " 2400,\n",
       " 1700]"
      ]
     },
     "execution_count": 191,
     "metadata": {},
     "output_type": "execute_result"
    }
   ],
   "source": [
    "y3_adj"
   ]
  },
  {
   "cell_type": "code",
   "execution_count": 210,
   "metadata": {},
   "outputs": [
    {
     "data": {
      "image/png": "[encoded data removed]",
      "text/plain": [
       "<matplotlib.figure.Figure at 0x1a15340ef0>"
      ]
     },
     "metadata": {},
     "output_type": "display_data"
    }
   ],
   "source": [
    "plt.plot(x2,y2, color='blue')\n",
    "plt.plot(x3,y3_adj, color='green')\n",
    "blue_patch = mpatches.Patch(label='homocides')\n",
    "orange_patch = mpatches.Patch(color='green', label='school shootings (*100)')\n",
    "plt.legend(handles=[blue_patch, orange_patch])\n",
    "plt.xlabel('year')\n",
    "plt.ylabel('number of murders')\n",
    "plt.title('Amount of Murders over Time')\n",
    "plt.show()"
   ]
  },
  {
   "cell_type": "code",
   "execution_count": 85,
   "metadata": {
    "collapsed": true
   },
   "outputs": [],
   "source": [
    "# Building a dictionary of tuples\n",
    "lists1 = crime_per_year.items()"
   ]
  },
  {
   "cell_type": "code",
   "execution_count": 133,
   "metadata": {
    "collapsed": true
   },
   "outputs": [],
   "source": [
    "# Unpacking the list of tuples into an x, y value\n",
    "x1, y1 = zip(*lists1)"
   ]
  },
  {
   "cell_type": "code",
   "execution_count": 153,
   "metadata": {},
   "outputs": [
    {
     "data": {
      "image/png": "[encoded data removed]",
      "text/plain": [
       "<matplotlib.figure.Figure at 0x1a1543c278>"
      ]
     },
     "metadata": {},
     "output_type": "display_data"
    }
   ],
   "source": [
    "plt.plot(x1,y1)\n",
    "plt.xlabel('year')\n",
    "plt.ylabel('number of crimes')\n",
    "plt.title('Amount of Violent Crime over Time')\n",
    "plt.show()"
   ]
  },
  {
   "cell_type": "code",
   "execution_count": 125,
   "metadata": {},
   "outputs": [],
   "source": [
    "# Building a list of the crime values only - no keys or indexes\n",
    "crime_list = []\n",
    "for key, value in crime_per_year.items():\n",
    "    crime_list.append(value)"
   ]
  },
  {
   "cell_type": "code",
   "execution_count": 126,
   "metadata": {},
   "outputs": [
    {
     "data": {
      "text/plain": [
       "[865969.0, 900316.0, 882124.0, 866963.0, 817446.0]"
      ]
     },
     "execution_count": 126,
     "metadata": {},
     "output_type": "execute_result"
    }
   ],
   "source": [
    "crime_list[0:5]"
   ]
  },
  {
   "cell_type": "code",
   "execution_count": 127,
   "metadata": {
    "collapsed": true
   },
   "outputs": [],
   "source": [
    "# Building a list of the death values only - no keys or indexes\n",
    "death_list = []\n",
    "for key, value in fatalities_per_year.items():\n",
    "    death_list.append(value)"
   ]
  },
  {
   "cell_type": "code",
   "execution_count": 193,
   "metadata": {
    "collapsed": true
   },
   "outputs": [],
   "source": [
    "# Building a list of the murder values only - no keys or indexes\n",
    "murder_list = []\n",
    "for key, value in homocides_per_year.items():\n",
    "    murder_list.append(value)"
   ]
  },
  {
   "cell_type": "code",
   "execution_count": 194,
   "metadata": {},
   "outputs": [
    {
     "data": {
      "text/plain": [
       "[11866.0, 12288.0, 11729.0, 11919.0, 10816.0]"
      ]
     },
     "execution_count": 194,
     "metadata": {},
     "output_type": "execute_result"
    }
   ],
   "source": [
    "murder_list[0:5]"
   ]
  },
  {
   "cell_type": "code",
   "execution_count": 128,
   "metadata": {},
   "outputs": [
    {
     "data": {
      "text/plain": [
       "[2, 12, 14, 37, 23]"
      ]
     },
     "execution_count": 128,
     "metadata": {},
     "output_type": "execute_result"
    }
   ],
   "source": [
    "death_list[0:5]"
   ]
  },
  {
   "cell_type": "code",
   "execution_count": 129,
   "metadata": {
    "collapsed": true
   },
   "outputs": [],
   "source": [
    "# using Scipy to do some basic stats on the data that we have\n",
    "import scipy\n",
    "from scipy.stats import pearsonr\n",
    "x = scipy.array(death_list)\n",
    "y = scipy.array(crime_list)"
   ]
  },
  {
   "cell_type": "code",
   "execution_count": 130,
   "metadata": {
    "collapsed": true
   },
   "outputs": [],
   "source": [
    "r_row, p_value = pearsonr(x, y)"
   ]
  },
  {
   "cell_type": "code",
   "execution_count": 131,
   "metadata": {},
   "outputs": [
    {
     "name": "stdout",
     "output_type": "stream",
     "text": [
      "-0.106325931424 0.612961884394\n"
     ]
    }
   ],
   "source": [
    "# These values suggest little to no correlation between the volume of crime and the volume of school shootings\n",
    "print(r_row, p_value)"
   ]
  },
  {
   "cell_type": "code",
   "execution_count": 195,
   "metadata": {
    "collapsed": true
   },
   "outputs": [],
   "source": [
    "# Studying correlation between school deaths and murders\n",
    "x = scipy.array(death_list)\n",
    "y = scipy.array(murder_list)"
   ]
  },
  {
   "cell_type": "code",
   "execution_count": 196,
   "metadata": {
    "collapsed": true
   },
   "outputs": [],
   "source": [
    "r_row, p_value = pearsonr(x, y)"
   ]
  },
  {
   "cell_type": "code",
   "execution_count": 197,
   "metadata": {},
   "outputs": [
    {
     "name": "stdout",
     "output_type": "stream",
     "text": [
      "-0.0984626395738 0.639606361624\n"
     ]
    }
   ],
   "source": [
    "# These values suggest little to no correlation between the volume of crime and the volume of school shootings\n",
    "print(r_row, p_value)"
   ]
  },
  {
   "cell_type": "code",
   "execution_count": null,
   "metadata": {
    "collapsed": true
   },
   "outputs": [],
   "source": [
    "### Doing some database prep work"
   ]
  },
  {
   "cell_type": "code",
   "execution_count": 234,
   "metadata": {
    "collapsed": true
   },
   "outputs": [],
   "source": [
    "# Setting up the SQLite DB\n",
    "import sqlalchemy\n",
    "from sqlalchemy import create_engine, MetaData\n",
    "from sqlalchemy.ext.declarative import declarative_base\n",
    "from sqlalchemy import Column, Integer, String, Numeric, Text, Float"
   ]
  },
  {
   "cell_type": "code",
   "execution_count": 235,
   "metadata": {
    "collapsed": true
   },
   "outputs": [],
   "source": [
    "# Create an engine to a SQLite database file called `crime_data.sqlite`\n",
    "engine = create_engine(\"sqlite:///crime_data.sqlite\")"
   ]
  },
  {
   "cell_type": "code",
   "execution_count": 236,
   "metadata": {
    "collapsed": true
   },
   "outputs": [],
   "source": [
    " # Create a connection to the engine called `conn`\n",
    "conn = engine.connect()"
   ]
  },
  {
   "cell_type": "code",
   "execution_count": 237,
   "metadata": {
    "collapsed": true
   },
   "outputs": [],
   "source": [
    "# Use `declarative_base` from SQLAlchemy to model the demographics table as an ORM class\n",
    "# DF columns will be used to name the columns\n",
    "Base = declarative_base()\n",
    "\n",
    "class Crime(Base):\n",
    "    __tablename__ = 'crime'\n",
    "\n",
    "    id = Column(Integer, primary_key=True)\n",
    "    report_year = Column(Integer)\n",
    "    agency_jurisdiction = Column(Text)\n",
    "    population = Column(Integer)\n",
    "    violent_crime = Column(Integer)\n",
    "   \n",
    "    def __repr__(self):\n",
    "        return f\"id={self.id}, name={self.name}\""
   ]
  },
  {
   "cell_type": "code",
   "execution_count": 238,
   "metadata": {
    "collapsed": true
   },
   "outputs": [],
   "source": [
    " # Use `create_all` to create the customers table in the database\n",
    "Base.metadata.create_all(engine)"
   ]
  },
  {
   "cell_type": "code",
   "execution_count": 239,
   "metadata": {
    "collapsed": true
   },
   "outputs": [],
   "source": [
    "# Use Orient='records' to create a list of data to write\n",
    "# to_dict() cleans out DataFrame metadata as well\n",
    "data = df.to_dict(orient='records')"
   ]
  },
  {
   "cell_type": "code",
   "execution_count": 247,
   "metadata": {},
   "outputs": [
    {
     "data": {
      "text/plain": [
       "[{'agency_code': 'NM00101',\n",
       "  'agency_jurisdiction': 'Albuquerque, NM',\n",
       "  'assaults': 3835.0,\n",
       "  'assaults_percapita': 996.79,\n",
       "  'crimes_percapita': 1331.04,\n",
       "  'homicides': 34.0,\n",
       "  'homicides_percapita': 8.84,\n",
       "  'population': 384736.0,\n",
       "  'rapes': 222.0,\n",
       "  'rapes_percapita': 57.7,\n",
       "  'report_year': 1990,\n",
       "  'robberies': 1030.0,\n",
       "  'robberies_percapita': 267.72,\n",
       "  'state': 'NM',\n",
       "  'violent_crimes': 5121.0}]"
      ]
     },
     "execution_count": 247,
     "metadata": {},
     "output_type": "execute_result"
    }
   ],
   "source": [
    "data[:1]"
   ]
  },
  {
   "cell_type": "code",
   "execution_count": 241,
   "metadata": {
    "collapsed": true
   },
   "outputs": [],
   "source": [
    "# Use MetaData from SQLAlchemy to reflect the tables\n",
    "metadata = MetaData(bind=engine)\n",
    "metadata.reflect()"
   ]
  },
  {
   "cell_type": "code",
   "execution_count": 242,
   "metadata": {},
   "outputs": [],
   "source": [
    "# Save the reference to the `crime` table as a variable called `table`\n",
    "table = sqlalchemy.Table('crime', metadata, autoload=True)"
   ]
  },
  {
   "cell_type": "code",
   "execution_count": 243,
   "metadata": {},
   "outputs": [
    {
     "data": {
      "text/plain": [
       "<sqlalchemy.engine.result.ResultProxy at 0x1a164d5048>"
      ]
     },
     "execution_count": 243,
     "metadata": {},
     "output_type": "execute_result"
    }
   ],
   "source": [
    "conn.execute(table.delete())"
   ]
  },
  {
   "cell_type": "code",
   "execution_count": 244,
   "metadata": {},
   "outputs": [
    {
     "data": {
      "text/plain": [
       "<sqlalchemy.engine.result.ResultProxy at 0x1a16283748>"
      ]
     },
     "execution_count": 244,
     "metadata": {},
     "output_type": "execute_result"
    }
   ],
   "source": [
    "conn.execute(table.insert(), data)"
   ]
  },
  {
   "cell_type": "code",
   "execution_count": 246,
   "metadata": {},
   "outputs": [
    {
     "data": {
      "text/plain": [
       "[(1, 1990, 'Albuquerque, NM', 384736, None),\n",
       " (2, 1990, 'Arlington, TX', 261721, None),\n",
       " (3, 1990, 'Atlanta, GA', 394017, None),\n",
       " (4, 1990, 'Aurora, CO', 222103, None),\n",
       " (5, 1990, 'Austin, TX', 465622, None)]"
      ]
     },
     "execution_count": 246,
     "metadata": {},
     "output_type": "execute_result"
    }
   ],
   "source": [
    "# Test that the insert works by fetching the first 5 rows. \n",
    "conn.execute(\"select * from crime limit 5\").fetchall()"
   ]
  },
  {
   "cell_type": "code",
   "execution_count": null,
   "metadata": {
    "collapsed": true
   },
   "outputs": [],
   "source": []
  }
 ],
 "metadata": {
  "kernelspec": {
   "display_name": "Python 3",
   "language": "python",
   "name": "python3"
  },
  "language_info": {
   "codemirror_mode": {
    "name": "ipython",
    "version": 3
   },
   "file_extension": ".py",
   "mimetype": "text/x-python",
   "name": "python",
   "nbconvert_exporter": "python",
   "pygments_lexer": "ipython3",
   "version": "3.6.3"
  }
 },
 "nbformat": 4,
 "nbformat_minor": 2
}
