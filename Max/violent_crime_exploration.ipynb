{
 "cells": [
  {
   "cell_type": "markdown",
   "metadata": {},
   "source": [
    "# Violent Crime Dataset Exploration"
   ]
  },
  {
   "cell_type": "markdown",
   "metadata": {},
   "source": [
    "### Dependencies"
   ]
  },
  {
   "cell_type": "code",
   "execution_count": 1,
   "metadata": {},
   "outputs": [],
   "source": [
    "import pandas as pd"
   ]
  },
  {
   "cell_type": "markdown",
   "metadata": {},
   "source": [
    "### Read in CSV and create DataFrame"
   ]
  },
  {
   "cell_type": "code",
   "execution_count": 2,
   "metadata": {},
   "outputs": [],
   "source": [
    "filepath = \"Output/cleaned_crime_by_jurisdiction.csv\"\n",
    "csv = pd.read_csv(filepath)\n",
    "df = pd.DataFrame(csv)"
   ]
  },
  {
   "cell_type": "markdown",
   "metadata": {},
   "source": [
    "### View head"
   ]
  },
  {
   "cell_type": "code",
   "execution_count": 3,
   "metadata": {},
   "outputs": [
    {
     "data": {
      "text/html": [
       "<div>\n",
       "<style scoped>\n",
       "    .dataframe tbody tr th:only-of-type {\n",
       "        vertical-align: middle;\n",
       "    }\n",
       "\n",
       "    .dataframe tbody tr th {\n",
       "        vertical-align: top;\n",
       "    }\n",
       "\n",
       "    .dataframe thead th {\n",
       "        text-align: right;\n",
       "    }\n",
       "</style>\n",
       "<table border=\"1\" class=\"dataframe\">\n",
       "  <thead>\n",
       "    <tr style=\"text-align: right;\">\n",
       "      <th></th>\n",
       "      <th>report_year</th>\n",
       "      <th>agency_code</th>\n",
       "      <th>agency_jurisdiction</th>\n",
       "      <th>population</th>\n",
       "      <th>violent_crimes</th>\n",
       "      <th>homicides</th>\n",
       "      <th>rapes</th>\n",
       "      <th>assaults</th>\n",
       "      <th>robberies</th>\n",
       "      <th>crimes_percapita</th>\n",
       "      <th>homicides_percapita</th>\n",
       "      <th>rapes_percapita</th>\n",
       "      <th>assaults_percapita</th>\n",
       "      <th>robberies_percapita</th>\n",
       "      <th>state</th>\n",
       "    </tr>\n",
       "  </thead>\n",
       "  <tbody>\n",
       "    <tr>\n",
       "      <th>0</th>\n",
       "      <td>1990</td>\n",
       "      <td>NM00101</td>\n",
       "      <td>Albuquerque, NM</td>\n",
       "      <td>384736.0</td>\n",
       "      <td>5121.0</td>\n",
       "      <td>34.0</td>\n",
       "      <td>222.0</td>\n",
       "      <td>3835.0</td>\n",
       "      <td>1030.0</td>\n",
       "      <td>1331.04</td>\n",
       "      <td>8.84</td>\n",
       "      <td>57.70</td>\n",
       "      <td>996.79</td>\n",
       "      <td>267.72</td>\n",
       "      <td>NM</td>\n",
       "    </tr>\n",
       "    <tr>\n",
       "      <th>1</th>\n",
       "      <td>1990</td>\n",
       "      <td>TX22001</td>\n",
       "      <td>Arlington, TX</td>\n",
       "      <td>261721.0</td>\n",
       "      <td>1876.0</td>\n",
       "      <td>8.0</td>\n",
       "      <td>139.0</td>\n",
       "      <td>1143.0</td>\n",
       "      <td>586.0</td>\n",
       "      <td>716.79</td>\n",
       "      <td>3.06</td>\n",
       "      <td>53.11</td>\n",
       "      <td>436.72</td>\n",
       "      <td>223.90</td>\n",
       "      <td>TX</td>\n",
       "    </tr>\n",
       "    <tr>\n",
       "      <th>2</th>\n",
       "      <td>1990</td>\n",
       "      <td>GAAPD00</td>\n",
       "      <td>Atlanta, GA</td>\n",
       "      <td>394017.0</td>\n",
       "      <td>16097.0</td>\n",
       "      <td>231.0</td>\n",
       "      <td>695.0</td>\n",
       "      <td>9062.0</td>\n",
       "      <td>6109.0</td>\n",
       "      <td>4085.36</td>\n",
       "      <td>58.63</td>\n",
       "      <td>176.39</td>\n",
       "      <td>2299.90</td>\n",
       "      <td>1550.44</td>\n",
       "      <td>GA</td>\n",
       "    </tr>\n",
       "    <tr>\n",
       "      <th>3</th>\n",
       "      <td>1990</td>\n",
       "      <td>CO00101</td>\n",
       "      <td>Aurora, CO</td>\n",
       "      <td>222103.0</td>\n",
       "      <td>3191.0</td>\n",
       "      <td>8.0</td>\n",
       "      <td>170.0</td>\n",
       "      <td>2616.0</td>\n",
       "      <td>397.0</td>\n",
       "      <td>1436.72</td>\n",
       "      <td>3.60</td>\n",
       "      <td>76.54</td>\n",
       "      <td>1177.83</td>\n",
       "      <td>178.75</td>\n",
       "      <td>CO</td>\n",
       "    </tr>\n",
       "    <tr>\n",
       "      <th>4</th>\n",
       "      <td>1990</td>\n",
       "      <td>TX22701</td>\n",
       "      <td>Austin, TX</td>\n",
       "      <td>465622.0</td>\n",
       "      <td>3326.0</td>\n",
       "      <td>46.0</td>\n",
       "      <td>280.0</td>\n",
       "      <td>1539.0</td>\n",
       "      <td>1461.0</td>\n",
       "      <td>714.31</td>\n",
       "      <td>9.88</td>\n",
       "      <td>60.13</td>\n",
       "      <td>330.53</td>\n",
       "      <td>313.77</td>\n",
       "      <td>TX</td>\n",
       "    </tr>\n",
       "  </tbody>\n",
       "</table>\n",
       "</div>"
      ],
      "text/plain": [
       "   report_year agency_code agency_jurisdiction  population  violent_crimes  \\\n",
       "0         1990     NM00101     Albuquerque, NM    384736.0          5121.0   \n",
       "1         1990     TX22001       Arlington, TX    261721.0          1876.0   \n",
       "2         1990     GAAPD00         Atlanta, GA    394017.0         16097.0   \n",
       "3         1990     CO00101          Aurora, CO    222103.0          3191.0   \n",
       "4         1990     TX22701          Austin, TX    465622.0          3326.0   \n",
       "\n",
       "   homicides  rapes  assaults  robberies  crimes_percapita  \\\n",
       "0       34.0  222.0    3835.0     1030.0           1331.04   \n",
       "1        8.0  139.0    1143.0      586.0            716.79   \n",
       "2      231.0  695.0    9062.0     6109.0           4085.36   \n",
       "3        8.0  170.0    2616.0      397.0           1436.72   \n",
       "4       46.0  280.0    1539.0     1461.0            714.31   \n",
       "\n",
       "   homicides_percapita  rapes_percapita  assaults_percapita  \\\n",
       "0                 8.84            57.70              996.79   \n",
       "1                 3.06            53.11              436.72   \n",
       "2                58.63           176.39             2299.90   \n",
       "3                 3.60            76.54             1177.83   \n",
       "4                 9.88            60.13              330.53   \n",
       "\n",
       "   robberies_percapita state  \n",
       "0               267.72    NM  \n",
       "1               223.90    TX  \n",
       "2              1550.44    GA  \n",
       "3               178.75    CO  \n",
       "4               313.77    TX  "
      ]
     },
     "execution_count": 3,
     "metadata": {},
     "output_type": "execute_result"
    }
   ],
   "source": [
    "df.head()"
   ]
  },
  {
   "cell_type": "markdown",
   "metadata": {},
   "source": [
    "### Determine jurisdictions with highest mean crimes_percapita over all years"
   ]
  },
  {
   "cell_type": "code",
   "execution_count": 4,
   "metadata": {},
   "outputs": [
    {
     "data": {
      "text/plain": [
       "agency_jurisdiction\n",
       "St. Louis, MO                 2463.630000\n",
       "Atlanta, GA                   2382.787308\n",
       "Detroit, MI                   2263.590385\n",
       "Miami, FL                     2196.326923\n",
       "Baltimore, MD                 2086.754615\n",
       "Newark, NJ                    1922.306538\n",
       "Tampa, FL                     1883.245769\n",
       "Oakland, CA                   1823.308077\n",
       "Chicago, IL                   1765.390769\n",
       "Washington, DC                1747.042692\n",
       "Kansas City, MO               1744.826154\n",
       "Orlando, FL                   1729.573846\n",
       "Memphis, TN                   1678.066923\n",
       "Nashville, TN                 1485.658462\n",
       "Cleveland, OH                 1456.494000\n",
       "Buffalo, NY                   1431.170000\n",
       "Minneapolis, MN               1371.485385\n",
       "Boston, MA                    1331.079615\n",
       "Philadelphia, PA              1327.703462\n",
       "Dallas, TX                    1306.570000\n",
       "New Orleans, LA               1301.461154\n",
       "Los Angeles, CA               1274.272692\n",
       "Charlotte, NC                 1268.121923\n",
       "Indianapolis, IN              1250.363077\n",
       "Houston, TX                   1182.031154\n",
       "Cincinnati, OH                1164.097083\n",
       "Tulsa, OK                     1149.771923\n",
       "Albuquerque, NM               1106.578077\n",
       "Milwaukee, WI                 1102.027308\n",
       "Miami-Dade County, FL         1095.015769\n",
       "                                 ...     \n",
       "Prince George's County, MD     946.225000\n",
       "Long Beach, CA                 930.396154\n",
       "Fresno, CA                     926.119231\n",
       "Fort Worth, TX                 901.593077\n",
       "Tucson, AZ                     883.308462\n",
       "Las Vegas, NV                  871.106154\n",
       "Columbus, OH                   847.285000\n",
       "Seattle, WA                    825.680769\n",
       "Omaha, NE                      804.686154\n",
       "Baltimore County, MD           797.840000\n",
       "Phoenix, AZ                    791.386923\n",
       "Wichita, KS                    779.924231\n",
       "Salt Lake City, UT             756.027308\n",
       "Aurora, CO                     749.741923\n",
       "Denver, CO                     709.062308\n",
       "San Diego, CA                  673.554231\n",
       "Raleigh, NC                    663.841538\n",
       "El Paso, TX                    653.926154\n",
       "Arlington, TX                  650.366923\n",
       "San Antonio, TX                612.857692\n",
       "Louisville, KY                 600.059231\n",
       "Mesa, AZ                       571.704231\n",
       "Austin, TX                     529.665000\n",
       "San Jose, CA                   501.784615\n",
       "Honolulu, HI                   273.843077\n",
       "Montgomery County, MD          229.415385\n",
       "Virginia Beach, VA             223.622308\n",
       "Suffolk County, NY             183.198846\n",
       "Nassau County, NY              165.747692\n",
       "Fairfax County, VA              84.597692\n",
       "Name: crimes_percapita, Length: 68, dtype: float64"
      ]
     },
     "execution_count": 4,
     "metadata": {},
     "output_type": "execute_result"
    }
   ],
   "source": [
    "df.groupby('agency_jurisdiction').crimes_percapita.mean().sort_values(ascending=False)"
   ]
  },
  {
   "cell_type": "markdown",
   "metadata": {},
   "source": [
    "### City search for above grouped dataframe"
   ]
  },
  {
   "cell_type": "code",
   "execution_count": 5,
   "metadata": {},
   "outputs": [
    {
     "name": "stdout",
     "output_type": "stream",
     "text": [
      "agency_jurisdiction    Jacksonville, FL\n",
      "crimes_percapita                1071.32\n",
      "Name: 32, dtype: object\n"
     ]
    }
   ],
   "source": [
    "search_term = \"Jacksonville\"\n",
    "ranked = pd.DataFrame(df.groupby('agency_jurisdiction').crimes_percapita.mean().sort_values(ascending=False).reset_index())\n",
    "for index, row in ranked.iterrows():\n",
    "    if search_term in row['agency_jurisdiction']:\n",
    "        print(row)"
   ]
  },
  {
   "cell_type": "code",
   "execution_count": 7,
   "metadata": {},
   "outputs": [
    {
     "data": {
      "text/plain": [
       "67.3076923076923"
      ]
     },
     "execution_count": 7,
     "metadata": {},
     "output_type": "execute_result"
    }
   ],
   "source": [
    "len(df)/26"
   ]
  },
  {
   "cell_type": "code",
   "execution_count": null,
   "metadata": {},
   "outputs": [],
   "source": []
  }
 ],
 "metadata": {
  "kernelspec": {
   "display_name": "Python 3",
   "language": "python",
   "name": "python3"
  },
  "language_info": {
   "codemirror_mode": {
    "name": "ipython",
    "version": 3
   },
   "file_extension": ".py",
   "mimetype": "text/x-python",
   "name": "python",
   "nbconvert_exporter": "python",
   "pygments_lexer": "ipython3",
   "version": "3.6.3"
  }
 },
 "nbformat": 4,
 "nbformat_minor": 2
}
