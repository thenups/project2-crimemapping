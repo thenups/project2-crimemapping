{
 "cells": [
  {
   "cell_type": "markdown",
   "metadata": {},
   "source": [
    "# Violent Crime Dataset Exploration"
   ]
  },
  {
   "cell_type": "markdown",
   "metadata": {},
   "source": [
    "### Dependencies"
   ]
  },
  {
   "cell_type": "code",
   "execution_count": 1,
   "metadata": {
    "collapsed": true
   },
   "outputs": [],
   "source": [
    "import pandas as pd\n",
    "import numpy as np"
   ]
  },
  {
   "cell_type": "markdown",
   "metadata": {},
   "source": [
    "### Read in CSV and create DataFrame"
   ]
  },
  {
   "cell_type": "code",
   "execution_count": 2,
   "metadata": {
    "collapsed": true
   },
   "outputs": [],
   "source": [
    "filepath = \"cleaned_crime_by_jurisdiction.csv\"\n",
    "csv = pd.read_csv(filepath)\n",
    "df = pd.DataFrame(csv)"
   ]
  },
  {
   "cell_type": "markdown",
   "metadata": {},
   "source": [
    "### View head"
   ]
  },
  {
   "cell_type": "code",
   "execution_count": 3,
   "metadata": {},
   "outputs": [
    {
     "data": {
      "text/html": [
       "<div>\n",
       "<style>\n",
       "    .dataframe thead tr:only-child th {\n",
       "        text-align: right;\n",
       "    }\n",
       "\n",
       "    .dataframe thead th {\n",
       "        text-align: left;\n",
       "    }\n",
       "\n",
       "    .dataframe tbody tr th {\n",
       "        vertical-align: top;\n",
       "    }\n",
       "</style>\n",
       "<table border=\"1\" class=\"dataframe\">\n",
       "  <thead>\n",
       "    <tr style=\"text-align: right;\">\n",
       "      <th></th>\n",
       "      <th>report_year</th>\n",
       "      <th>agency_code</th>\n",
       "      <th>agency_jurisdiction</th>\n",
       "      <th>population</th>\n",
       "      <th>violent_crimes</th>\n",
       "      <th>homicides</th>\n",
       "      <th>rapes</th>\n",
       "      <th>assaults</th>\n",
       "      <th>robberies</th>\n",
       "      <th>crimes_percapita</th>\n",
       "      <th>homicides_percapita</th>\n",
       "      <th>rapes_percapita</th>\n",
       "      <th>assaults_percapita</th>\n",
       "      <th>robberies_percapita</th>\n",
       "      <th>state</th>\n",
       "    </tr>\n",
       "  </thead>\n",
       "  <tbody>\n",
       "    <tr>\n",
       "      <th>0</th>\n",
       "      <td>1990</td>\n",
       "      <td>NM00101</td>\n",
       "      <td>Albuquerque, NM</td>\n",
       "      <td>384736.0</td>\n",
       "      <td>5121.0</td>\n",
       "      <td>34.0</td>\n",
       "      <td>222.0</td>\n",
       "      <td>3835.0</td>\n",
       "      <td>1030.0</td>\n",
       "      <td>1331.04</td>\n",
       "      <td>8.84</td>\n",
       "      <td>57.70</td>\n",
       "      <td>996.79</td>\n",
       "      <td>267.72</td>\n",
       "      <td>NM</td>\n",
       "    </tr>\n",
       "    <tr>\n",
       "      <th>1</th>\n",
       "      <td>1990</td>\n",
       "      <td>TX22001</td>\n",
       "      <td>Arlington, TX</td>\n",
       "      <td>261721.0</td>\n",
       "      <td>1876.0</td>\n",
       "      <td>8.0</td>\n",
       "      <td>139.0</td>\n",
       "      <td>1143.0</td>\n",
       "      <td>586.0</td>\n",
       "      <td>716.79</td>\n",
       "      <td>3.06</td>\n",
       "      <td>53.11</td>\n",
       "      <td>436.72</td>\n",
       "      <td>223.90</td>\n",
       "      <td>TX</td>\n",
       "    </tr>\n",
       "    <tr>\n",
       "      <th>2</th>\n",
       "      <td>1990</td>\n",
       "      <td>GAAPD00</td>\n",
       "      <td>Atlanta, GA</td>\n",
       "      <td>394017.0</td>\n",
       "      <td>16097.0</td>\n",
       "      <td>231.0</td>\n",
       "      <td>695.0</td>\n",
       "      <td>9062.0</td>\n",
       "      <td>6109.0</td>\n",
       "      <td>4085.36</td>\n",
       "      <td>58.63</td>\n",
       "      <td>176.39</td>\n",
       "      <td>2299.90</td>\n",
       "      <td>1550.44</td>\n",
       "      <td>GA</td>\n",
       "    </tr>\n",
       "    <tr>\n",
       "      <th>3</th>\n",
       "      <td>1990</td>\n",
       "      <td>CO00101</td>\n",
       "      <td>Aurora, CO</td>\n",
       "      <td>222103.0</td>\n",
       "      <td>3191.0</td>\n",
       "      <td>8.0</td>\n",
       "      <td>170.0</td>\n",
       "      <td>2616.0</td>\n",
       "      <td>397.0</td>\n",
       "      <td>1436.72</td>\n",
       "      <td>3.60</td>\n",
       "      <td>76.54</td>\n",
       "      <td>1177.83</td>\n",
       "      <td>178.75</td>\n",
       "      <td>CO</td>\n",
       "    </tr>\n",
       "    <tr>\n",
       "      <th>4</th>\n",
       "      <td>1990</td>\n",
       "      <td>TX22701</td>\n",
       "      <td>Austin, TX</td>\n",
       "      <td>465622.0</td>\n",
       "      <td>3326.0</td>\n",
       "      <td>46.0</td>\n",
       "      <td>280.0</td>\n",
       "      <td>1539.0</td>\n",
       "      <td>1461.0</td>\n",
       "      <td>714.31</td>\n",
       "      <td>9.88</td>\n",
       "      <td>60.13</td>\n",
       "      <td>330.53</td>\n",
       "      <td>313.77</td>\n",
       "      <td>TX</td>\n",
       "    </tr>\n",
       "  </tbody>\n",
       "</table>\n",
       "</div>"
      ],
      "text/plain": [
       "   report_year agency_code agency_jurisdiction  population  violent_crimes  \\\n",
       "0         1990     NM00101     Albuquerque, NM    384736.0          5121.0   \n",
       "1         1990     TX22001       Arlington, TX    261721.0          1876.0   \n",
       "2         1990     GAAPD00         Atlanta, GA    394017.0         16097.0   \n",
       "3         1990     CO00101          Aurora, CO    222103.0          3191.0   \n",
       "4         1990     TX22701          Austin, TX    465622.0          3326.0   \n",
       "\n",
       "   homicides  rapes  assaults  robberies  crimes_percapita  \\\n",
       "0       34.0  222.0    3835.0     1030.0           1331.04   \n",
       "1        8.0  139.0    1143.0      586.0            716.79   \n",
       "2      231.0  695.0    9062.0     6109.0           4085.36   \n",
       "3        8.0  170.0    2616.0      397.0           1436.72   \n",
       "4       46.0  280.0    1539.0     1461.0            714.31   \n",
       "\n",
       "   homicides_percapita  rapes_percapita  assaults_percapita  \\\n",
       "0                 8.84            57.70              996.79   \n",
       "1                 3.06            53.11              436.72   \n",
       "2                58.63           176.39             2299.90   \n",
       "3                 3.60            76.54             1177.83   \n",
       "4                 9.88            60.13              330.53   \n",
       "\n",
       "   robberies_percapita state  \n",
       "0               267.72    NM  \n",
       "1               223.90    TX  \n",
       "2              1550.44    GA  \n",
       "3               178.75    CO  \n",
       "4               313.77    TX  "
      ]
     },
     "execution_count": 3,
     "metadata": {},
     "output_type": "execute_result"
    }
   ],
   "source": [
    "df.head()"
   ]
  },
  {
   "cell_type": "markdown",
   "metadata": {},
   "source": [
    "### Determine jurisdictions with highest mean crimes_percapita over all years"
   ]
  },
  {
   "cell_type": "code",
   "execution_count": 4,
   "metadata": {},
   "outputs": [
    {
     "data": {
      "text/plain": [
       "agency_jurisdiction\n",
       "St. Louis, MO                 2463.630000\n",
       "Atlanta, GA                   2382.787308\n",
       "Detroit, MI                   2263.590385\n",
       "Miami, FL                     2196.326923\n",
       "Baltimore, MD                 2086.754615\n",
       "Newark, NJ                    1922.306538\n",
       "Tampa, FL                     1883.245769\n",
       "Oakland, CA                   1823.308077\n",
       "Chicago, IL                   1765.390769\n",
       "Washington, DC                1747.042692\n",
       "Kansas City, MO               1744.826154\n",
       "Orlando, FL                   1729.573846\n",
       "Memphis, TN                   1678.066923\n",
       "Nashville, TN                 1485.658462\n",
       "Cleveland, OH                 1456.494000\n",
       "Buffalo, NY                   1431.170000\n",
       "Minneapolis, MN               1371.485385\n",
       "Boston, MA                    1331.079615\n",
       "Philadelphia, PA              1327.703462\n",
       "Dallas, TX                    1306.570000\n",
       "New Orleans, LA               1301.461154\n",
       "Los Angeles, CA               1274.272692\n",
       "Charlotte, NC                 1268.121923\n",
       "Indianapolis, IN              1250.363077\n",
       "Houston, TX                   1182.031154\n",
       "Cincinnati, OH                1164.097083\n",
       "Tulsa, OK                     1149.771923\n",
       "Albuquerque, NM               1106.578077\n",
       "Milwaukee, WI                 1102.027308\n",
       "Miami-Dade County, FL         1095.015769\n",
       "                                 ...     \n",
       "Prince George's County, MD     946.225000\n",
       "Long Beach, CA                 930.396154\n",
       "Fresno, CA                     926.119231\n",
       "Fort Worth, TX                 901.593077\n",
       "Tucson, AZ                     883.308462\n",
       "Las Vegas, NV                  871.106154\n",
       "Columbus, OH                   847.285000\n",
       "Seattle, WA                    825.680769\n",
       "Omaha, NE                      804.686154\n",
       "Baltimore County, MD           797.840000\n",
       "Phoenix, AZ                    791.386923\n",
       "Wichita, KS                    779.924231\n",
       "Salt Lake City, UT             756.027308\n",
       "Aurora, CO                     749.741923\n",
       "Denver, CO                     709.062308\n",
       "San Diego, CA                  673.554231\n",
       "Raleigh, NC                    663.841538\n",
       "El Paso, TX                    653.926154\n",
       "Arlington, TX                  650.366923\n",
       "San Antonio, TX                612.857692\n",
       "Louisville, KY                 600.059231\n",
       "Mesa, AZ                       571.704231\n",
       "Austin, TX                     529.665000\n",
       "San Jose, CA                   501.784615\n",
       "Honolulu, HI                   273.843077\n",
       "Montgomery County, MD          229.415385\n",
       "Virginia Beach, VA             223.622308\n",
       "Suffolk County, NY             183.198846\n",
       "Nassau County, NY              165.747692\n",
       "Fairfax County, VA              84.597692\n",
       "Name: crimes_percapita, Length: 68, dtype: float64"
      ]
     },
     "execution_count": 4,
     "metadata": {},
     "output_type": "execute_result"
    }
   ],
   "source": [
    "df.groupby('agency_jurisdiction').crimes_percapita.mean().sort_values(ascending=False)"
   ]
  },
  {
   "cell_type": "markdown",
   "metadata": {},
   "source": [
    "### City search for above grouped dataframe"
   ]
  },
  {
   "cell_type": "code",
   "execution_count": 5,
   "metadata": {},
   "outputs": [
    {
     "name": "stdout",
     "output_type": "stream",
     "text": [
      "agency_jurisdiction    Jacksonville, FL\n",
      "crimes_percapita                1071.32\n",
      "Name: 32, dtype: object\n"
     ]
    }
   ],
   "source": [
    "search_term = \"Jacksonville\"\n",
    "ranked = pd.DataFrame(df.groupby('agency_jurisdiction').crimes_percapita.mean().sort_values(ascending=False).reset_index())\n",
    "for index, row in ranked.iterrows():\n",
    "    if search_term in row['agency_jurisdiction']:\n",
    "        print(row)"
   ]
  },
  {
   "cell_type": "code",
   "execution_count": 6,
   "metadata": {
    "collapsed": true
   },
   "outputs": [],
   "source": [
    "### Plotting and stats analysis"
   ]
  },
  {
   "cell_type": "code",
   "execution_count": 256,
   "metadata": {},
   "outputs": [
    {
     "data": {
      "text/html": [
       "<div>\n",
       "<style>\n",
       "    .dataframe thead tr:only-child th {\n",
       "        text-align: right;\n",
       "    }\n",
       "\n",
       "    .dataframe thead th {\n",
       "        text-align: left;\n",
       "    }\n",
       "\n",
       "    .dataframe tbody tr th {\n",
       "        vertical-align: top;\n",
       "    }\n",
       "</style>\n",
       "<table border=\"1\" class=\"dataframe\">\n",
       "  <thead>\n",
       "    <tr style=\"text-align: right;\">\n",
       "      <th></th>\n",
       "      <th>report_year</th>\n",
       "      <th>agency_code</th>\n",
       "      <th>agency_jurisdiction</th>\n",
       "      <th>population</th>\n",
       "      <th>violent_crimes</th>\n",
       "      <th>homicides</th>\n",
       "      <th>rapes</th>\n",
       "      <th>assaults</th>\n",
       "      <th>robberies</th>\n",
       "      <th>crimes_percapita</th>\n",
       "      <th>homicides_percapita</th>\n",
       "      <th>rapes_percapita</th>\n",
       "      <th>assaults_percapita</th>\n",
       "      <th>robberies_percapita</th>\n",
       "      <th>state</th>\n",
       "    </tr>\n",
       "  </thead>\n",
       "  <tbody>\n",
       "    <tr>\n",
       "      <th>0</th>\n",
       "      <td>1990</td>\n",
       "      <td>NM00101</td>\n",
       "      <td>Albuquerque, NM</td>\n",
       "      <td>384736.0</td>\n",
       "      <td>5121.0</td>\n",
       "      <td>34.0</td>\n",
       "      <td>222.0</td>\n",
       "      <td>3835.0</td>\n",
       "      <td>1030.0</td>\n",
       "      <td>1331.04</td>\n",
       "      <td>8.84</td>\n",
       "      <td>57.70</td>\n",
       "      <td>996.79</td>\n",
       "      <td>267.72</td>\n",
       "      <td>NM</td>\n",
       "    </tr>\n",
       "    <tr>\n",
       "      <th>1</th>\n",
       "      <td>1990</td>\n",
       "      <td>TX22001</td>\n",
       "      <td>Arlington, TX</td>\n",
       "      <td>261721.0</td>\n",
       "      <td>1876.0</td>\n",
       "      <td>8.0</td>\n",
       "      <td>139.0</td>\n",
       "      <td>1143.0</td>\n",
       "      <td>586.0</td>\n",
       "      <td>716.79</td>\n",
       "      <td>3.06</td>\n",
       "      <td>53.11</td>\n",
       "      <td>436.72</td>\n",
       "      <td>223.90</td>\n",
       "      <td>TX</td>\n",
       "    </tr>\n",
       "    <tr>\n",
       "      <th>2</th>\n",
       "      <td>1990</td>\n",
       "      <td>GAAPD00</td>\n",
       "      <td>Atlanta, GA</td>\n",
       "      <td>394017.0</td>\n",
       "      <td>16097.0</td>\n",
       "      <td>231.0</td>\n",
       "      <td>695.0</td>\n",
       "      <td>9062.0</td>\n",
       "      <td>6109.0</td>\n",
       "      <td>4085.36</td>\n",
       "      <td>58.63</td>\n",
       "      <td>176.39</td>\n",
       "      <td>2299.90</td>\n",
       "      <td>1550.44</td>\n",
       "      <td>GA</td>\n",
       "    </tr>\n",
       "    <tr>\n",
       "      <th>3</th>\n",
       "      <td>1990</td>\n",
       "      <td>CO00101</td>\n",
       "      <td>Aurora, CO</td>\n",
       "      <td>222103.0</td>\n",
       "      <td>3191.0</td>\n",
       "      <td>8.0</td>\n",
       "      <td>170.0</td>\n",
       "      <td>2616.0</td>\n",
       "      <td>397.0</td>\n",
       "      <td>1436.72</td>\n",
       "      <td>3.60</td>\n",
       "      <td>76.54</td>\n",
       "      <td>1177.83</td>\n",
       "      <td>178.75</td>\n",
       "      <td>CO</td>\n",
       "    </tr>\n",
       "    <tr>\n",
       "      <th>4</th>\n",
       "      <td>1990</td>\n",
       "      <td>TX22701</td>\n",
       "      <td>Austin, TX</td>\n",
       "      <td>465622.0</td>\n",
       "      <td>3326.0</td>\n",
       "      <td>46.0</td>\n",
       "      <td>280.0</td>\n",
       "      <td>1539.0</td>\n",
       "      <td>1461.0</td>\n",
       "      <td>714.31</td>\n",
       "      <td>9.88</td>\n",
       "      <td>60.13</td>\n",
       "      <td>330.53</td>\n",
       "      <td>313.77</td>\n",
       "      <td>TX</td>\n",
       "    </tr>\n",
       "  </tbody>\n",
       "</table>\n",
       "</div>"
      ],
      "text/plain": [
       "   report_year agency_code agency_jurisdiction  population  violent_crimes  \\\n",
       "0         1990     NM00101     Albuquerque, NM    384736.0          5121.0   \n",
       "1         1990     TX22001       Arlington, TX    261721.0          1876.0   \n",
       "2         1990     GAAPD00         Atlanta, GA    394017.0         16097.0   \n",
       "3         1990     CO00101          Aurora, CO    222103.0          3191.0   \n",
       "4         1990     TX22701          Austin, TX    465622.0          3326.0   \n",
       "\n",
       "   homicides  rapes  assaults  robberies  crimes_percapita  \\\n",
       "0       34.0  222.0    3835.0     1030.0           1331.04   \n",
       "1        8.0  139.0    1143.0      586.0            716.79   \n",
       "2      231.0  695.0    9062.0     6109.0           4085.36   \n",
       "3        8.0  170.0    2616.0      397.0           1436.72   \n",
       "4       46.0  280.0    1539.0     1461.0            714.31   \n",
       "\n",
       "   homicides_percapita  rapes_percapita  assaults_percapita  \\\n",
       "0                 8.84            57.70              996.79   \n",
       "1                 3.06            53.11              436.72   \n",
       "2                58.63           176.39             2299.90   \n",
       "3                 3.60            76.54             1177.83   \n",
       "4                 9.88            60.13              330.53   \n",
       "\n",
       "   robberies_percapita state  \n",
       "0               267.72    NM  \n",
       "1               223.90    TX  \n",
       "2              1550.44    GA  \n",
       "3               178.75    CO  \n",
       "4               313.77    TX  "
      ]
     },
     "execution_count": 256,
     "metadata": {},
     "output_type": "execute_result"
    }
   ],
   "source": [
    "df.head()"
   ]
  },
  {
   "cell_type": "code",
   "execution_count": 285,
   "metadata": {},
   "outputs": [],
   "source": [
    "df_new = df[['report_year', 'population', 'violent_crimes', 'homicides', 'state']]"
   ]
  },
  {
   "cell_type": "code",
   "execution_count": 286,
   "metadata": {},
   "outputs": [
    {
     "data": {
      "text/html": [
       "<div>\n",
       "<style>\n",
       "    .dataframe thead tr:only-child th {\n",
       "        text-align: right;\n",
       "    }\n",
       "\n",
       "    .dataframe thead th {\n",
       "        text-align: left;\n",
       "    }\n",
       "\n",
       "    .dataframe tbody tr th {\n",
       "        vertical-align: top;\n",
       "    }\n",
       "</style>\n",
       "<table border=\"1\" class=\"dataframe\">\n",
       "  <thead>\n",
       "    <tr style=\"text-align: right;\">\n",
       "      <th></th>\n",
       "      <th>report_year</th>\n",
       "      <th>population</th>\n",
       "      <th>violent_crimes</th>\n",
       "      <th>homicides</th>\n",
       "      <th>state</th>\n",
       "    </tr>\n",
       "  </thead>\n",
       "  <tbody>\n",
       "    <tr>\n",
       "      <th>0</th>\n",
       "      <td>1990</td>\n",
       "      <td>384736.0</td>\n",
       "      <td>5121.0</td>\n",
       "      <td>34.0</td>\n",
       "      <td>NM</td>\n",
       "    </tr>\n",
       "    <tr>\n",
       "      <th>1</th>\n",
       "      <td>1990</td>\n",
       "      <td>261721.0</td>\n",
       "      <td>1876.0</td>\n",
       "      <td>8.0</td>\n",
       "      <td>TX</td>\n",
       "    </tr>\n",
       "    <tr>\n",
       "      <th>2</th>\n",
       "      <td>1990</td>\n",
       "      <td>394017.0</td>\n",
       "      <td>16097.0</td>\n",
       "      <td>231.0</td>\n",
       "      <td>GA</td>\n",
       "    </tr>\n",
       "    <tr>\n",
       "      <th>3</th>\n",
       "      <td>1990</td>\n",
       "      <td>222103.0</td>\n",
       "      <td>3191.0</td>\n",
       "      <td>8.0</td>\n",
       "      <td>CO</td>\n",
       "    </tr>\n",
       "    <tr>\n",
       "      <th>4</th>\n",
       "      <td>1990</td>\n",
       "      <td>465622.0</td>\n",
       "      <td>3326.0</td>\n",
       "      <td>46.0</td>\n",
       "      <td>TX</td>\n",
       "    </tr>\n",
       "  </tbody>\n",
       "</table>\n",
       "</div>"
      ],
      "text/plain": [
       "   report_year  population  violent_crimes  homicides state\n",
       "0         1990    384736.0          5121.0       34.0    NM\n",
       "1         1990    261721.0          1876.0        8.0    TX\n",
       "2         1990    394017.0         16097.0      231.0    GA\n",
       "3         1990    222103.0          3191.0        8.0    CO\n",
       "4         1990    465622.0          3326.0       46.0    TX"
      ]
     },
     "execution_count": 286,
     "metadata": {},
     "output_type": "execute_result"
    }
   ],
   "source": [
    "df_new.head()"
   ]
  },
  {
   "cell_type": "code",
   "execution_count": 287,
   "metadata": {},
   "outputs": [],
   "source": [
    "df_new_top_violent = df_new.groupby(['state', 'report_year']).sum()"
   ]
  },
  {
   "cell_type": "code",
   "execution_count": 288,
   "metadata": {},
   "outputs": [
    {
     "data": {
      "text/html": [
       "<div>\n",
       "<style>\n",
       "    .dataframe thead tr:only-child th {\n",
       "        text-align: right;\n",
       "    }\n",
       "\n",
       "    .dataframe thead th {\n",
       "        text-align: left;\n",
       "    }\n",
       "\n",
       "    .dataframe tbody tr th {\n",
       "        vertical-align: top;\n",
       "    }\n",
       "</style>\n",
       "<table border=\"1\" class=\"dataframe\">\n",
       "  <thead>\n",
       "    <tr style=\"text-align: right;\">\n",
       "      <th></th>\n",
       "      <th></th>\n",
       "      <th>population</th>\n",
       "      <th>violent_crimes</th>\n",
       "      <th>homicides</th>\n",
       "    </tr>\n",
       "    <tr>\n",
       "      <th>state</th>\n",
       "      <th>report_year</th>\n",
       "      <th></th>\n",
       "      <th></th>\n",
       "      <th></th>\n",
       "    </tr>\n",
       "  </thead>\n",
       "  <tbody>\n",
       "    <tr>\n",
       "      <th rowspan=\"5\" valign=\"top\">AZ</th>\n",
       "      <th>1990</th>\n",
       "      <td>1676884.0</td>\n",
       "      <td>16069.0</td>\n",
       "      <td>167.0</td>\n",
       "    </tr>\n",
       "    <tr>\n",
       "      <th>1991</th>\n",
       "      <td>1705415.0</td>\n",
       "      <td>16964.0</td>\n",
       "      <td>167.0</td>\n",
       "    </tr>\n",
       "    <tr>\n",
       "      <th>1992</th>\n",
       "      <td>1724936.0</td>\n",
       "      <td>17288.0</td>\n",
       "      <td>187.0</td>\n",
       "    </tr>\n",
       "    <tr>\n",
       "      <th>1993</th>\n",
       "      <td>1770408.0</td>\n",
       "      <td>18609.0</td>\n",
       "      <td>208.0</td>\n",
       "    </tr>\n",
       "    <tr>\n",
       "      <th>1994</th>\n",
       "      <td>1832966.0</td>\n",
       "      <td>18873.0</td>\n",
       "      <td>285.0</td>\n",
       "    </tr>\n",
       "  </tbody>\n",
       "</table>\n",
       "</div>"
      ],
      "text/plain": [
       "                   population  violent_crimes  homicides\n",
       "state report_year                                       \n",
       "AZ    1990          1676884.0         16069.0      167.0\n",
       "      1991          1705415.0         16964.0      167.0\n",
       "      1992          1724936.0         17288.0      187.0\n",
       "      1993          1770408.0         18609.0      208.0\n",
       "      1994          1832966.0         18873.0      285.0"
      ]
     },
     "execution_count": 288,
     "metadata": {},
     "output_type": "execute_result"
    }
   ],
   "source": [
    "df_new_top_violent.head()"
   ]
  },
  {
   "cell_type": "code",
   "execution_count": 289,
   "metadata": {},
   "outputs": [],
   "source": [
    "df_new_top_violent = df_new_top_violent.reset_index('report_year')"
   ]
  },
  {
   "cell_type": "code",
   "execution_count": 304,
   "metadata": {},
   "outputs": [
    {
     "data": {
      "text/html": [
       "<div>\n",
       "<style>\n",
       "    .dataframe thead tr:only-child th {\n",
       "        text-align: right;\n",
       "    }\n",
       "\n",
       "    .dataframe thead th {\n",
       "        text-align: left;\n",
       "    }\n",
       "\n",
       "    .dataframe tbody tr th {\n",
       "        vertical-align: top;\n",
       "    }\n",
       "</style>\n",
       "<table border=\"1\" class=\"dataframe\">\n",
       "  <thead>\n",
       "    <tr style=\"text-align: right;\">\n",
       "      <th></th>\n",
       "      <th>report_year</th>\n",
       "      <th>population</th>\n",
       "      <th>violent_crimes</th>\n",
       "      <th>homicides</th>\n",
       "    </tr>\n",
       "    <tr>\n",
       "      <th>state</th>\n",
       "      <th></th>\n",
       "      <th></th>\n",
       "      <th></th>\n",
       "      <th></th>\n",
       "    </tr>\n",
       "  </thead>\n",
       "  <tbody>\n",
       "    <tr>\n",
       "      <th>AZ</th>\n",
       "      <td>1990</td>\n",
       "      <td>1676884.0</td>\n",
       "      <td>16069.0</td>\n",
       "      <td>167.0</td>\n",
       "    </tr>\n",
       "    <tr>\n",
       "      <th>AZ</th>\n",
       "      <td>1991</td>\n",
       "      <td>1705415.0</td>\n",
       "      <td>16964.0</td>\n",
       "      <td>167.0</td>\n",
       "    </tr>\n",
       "    <tr>\n",
       "      <th>AZ</th>\n",
       "      <td>1992</td>\n",
       "      <td>1724936.0</td>\n",
       "      <td>17288.0</td>\n",
       "      <td>187.0</td>\n",
       "    </tr>\n",
       "    <tr>\n",
       "      <th>AZ</th>\n",
       "      <td>1993</td>\n",
       "      <td>1770408.0</td>\n",
       "      <td>18609.0</td>\n",
       "      <td>208.0</td>\n",
       "    </tr>\n",
       "    <tr>\n",
       "      <th>AZ</th>\n",
       "      <td>1994</td>\n",
       "      <td>1832966.0</td>\n",
       "      <td>18873.0</td>\n",
       "      <td>285.0</td>\n",
       "    </tr>\n",
       "    <tr>\n",
       "      <th>AZ</th>\n",
       "      <td>1995</td>\n",
       "      <td>1860341.0</td>\n",
       "      <td>19655.0</td>\n",
       "      <td>296.0</td>\n",
       "    </tr>\n",
       "    <tr>\n",
       "      <th>AZ</th>\n",
       "      <td>1996</td>\n",
       "      <td>1952996.0</td>\n",
       "      <td>18187.0</td>\n",
       "      <td>250.0</td>\n",
       "    </tr>\n",
       "    <tr>\n",
       "      <th>AZ</th>\n",
       "      <td>1997</td>\n",
       "      <td>2009063.0</td>\n",
       "      <td>18046.0</td>\n",
       "      <td>238.0</td>\n",
       "    </tr>\n",
       "    <tr>\n",
       "      <th>AZ</th>\n",
       "      <td>1998</td>\n",
       "      <td>2057957.0</td>\n",
       "      <td>17448.0</td>\n",
       "      <td>241.0</td>\n",
       "    </tr>\n",
       "    <tr>\n",
       "      <th>AZ</th>\n",
       "      <td>1999</td>\n",
       "      <td>2065704.0</td>\n",
       "      <td>16638.0</td>\n",
       "      <td>259.0</td>\n",
       "    </tr>\n",
       "    <tr>\n",
       "      <th>AZ</th>\n",
       "      <td>2000</td>\n",
       "      <td>2204119.0</td>\n",
       "      <td>16689.0</td>\n",
       "      <td>227.0</td>\n",
       "    </tr>\n",
       "    <tr>\n",
       "      <th>AZ</th>\n",
       "      <td>2001</td>\n",
       "      <td>2280029.0</td>\n",
       "      <td>17871.0</td>\n",
       "      <td>268.0</td>\n",
       "    </tr>\n",
       "    <tr>\n",
       "      <th>AZ</th>\n",
       "      <td>2002</td>\n",
       "      <td>2344092.0</td>\n",
       "      <td>17819.0</td>\n",
       "      <td>246.0</td>\n",
       "    </tr>\n",
       "    <tr>\n",
       "      <th>AZ</th>\n",
       "      <td>2003</td>\n",
       "      <td>2354415.0</td>\n",
       "      <td>16777.0</td>\n",
       "      <td>302.0</td>\n",
       "    </tr>\n",
       "    <tr>\n",
       "      <th>AZ</th>\n",
       "      <td>2004</td>\n",
       "      <td>2396466.0</td>\n",
       "      <td>16838.0</td>\n",
       "      <td>279.0</td>\n",
       "    </tr>\n",
       "    <tr>\n",
       "      <th>AZ</th>\n",
       "      <td>2005</td>\n",
       "      <td>2448083.0</td>\n",
       "      <td>18019.0</td>\n",
       "      <td>304.0</td>\n",
       "    </tr>\n",
       "    <tr>\n",
       "      <th>AZ</th>\n",
       "      <td>2006</td>\n",
       "      <td>2512380.0</td>\n",
       "      <td>17859.0</td>\n",
       "      <td>312.0</td>\n",
       "    </tr>\n",
       "    <tr>\n",
       "      <th>AZ</th>\n",
       "      <td>2007</td>\n",
       "      <td>2519573.0</td>\n",
       "      <td>17485.0</td>\n",
       "      <td>283.0</td>\n",
       "    </tr>\n",
       "    <tr>\n",
       "      <th>AZ</th>\n",
       "      <td>2008</td>\n",
       "      <td>2571576.0</td>\n",
       "      <td>17006.0</td>\n",
       "      <td>248.0</td>\n",
       "    </tr>\n",
       "    <tr>\n",
       "      <th>AZ</th>\n",
       "      <td>2009</td>\n",
       "      <td>2616211.0</td>\n",
       "      <td>14290.0</td>\n",
       "      <td>171.0</td>\n",
       "    </tr>\n",
       "    <tr>\n",
       "      <th>AZ</th>\n",
       "      <td>2010</td>\n",
       "      <td>2404789.0</td>\n",
       "      <td>13122.0</td>\n",
       "      <td>182.0</td>\n",
       "    </tr>\n",
       "    <tr>\n",
       "      <th>AZ</th>\n",
       "      <td>2011</td>\n",
       "      <td>2438832.0</td>\n",
       "      <td>13366.0</td>\n",
       "      <td>184.0</td>\n",
       "    </tr>\n",
       "    <tr>\n",
       "      <th>AZ</th>\n",
       "      <td>2012</td>\n",
       "      <td>2468435.0</td>\n",
       "      <td>15112.0</td>\n",
       "      <td>179.0</td>\n",
       "    </tr>\n",
       "    <tr>\n",
       "      <th>AZ</th>\n",
       "      <td>2013</td>\n",
       "      <td>2483780.0</td>\n",
       "      <td>14667.0</td>\n",
       "      <td>187.0</td>\n",
       "    </tr>\n",
       "    <tr>\n",
       "      <th>AZ</th>\n",
       "      <td>2014</td>\n",
       "      <td>2519272.0</td>\n",
       "      <td>14311.0</td>\n",
       "      <td>162.0</td>\n",
       "    </tr>\n",
       "    <tr>\n",
       "      <th>AZ</th>\n",
       "      <td>2015</td>\n",
       "      <td>2560453.0</td>\n",
       "      <td>14705.0</td>\n",
       "      <td>159.0</td>\n",
       "    </tr>\n",
       "    <tr>\n",
       "      <th>CA</th>\n",
       "      <td>1990</td>\n",
       "      <td>8598016.0</td>\n",
       "      <td>152971.0</td>\n",
       "      <td>1830.0</td>\n",
       "    </tr>\n",
       "    <tr>\n",
       "      <th>CA</th>\n",
       "      <td>1991</td>\n",
       "      <td>8777427.0</td>\n",
       "      <td>166338.0</td>\n",
       "      <td>1929.0</td>\n",
       "    </tr>\n",
       "    <tr>\n",
       "      <th>CA</th>\n",
       "      <td>1992</td>\n",
       "      <td>8834162.0</td>\n",
       "      <td>168646.0</td>\n",
       "      <td>2023.0</td>\n",
       "    </tr>\n",
       "    <tr>\n",
       "      <th>CA</th>\n",
       "      <td>1993</td>\n",
       "      <td>8765967.0</td>\n",
       "      <td>159186.0</td>\n",
       "      <td>2060.0</td>\n",
       "    </tr>\n",
       "    <tr>\n",
       "      <th>CA</th>\n",
       "      <td>1994</td>\n",
       "      <td>8827974.0</td>\n",
       "      <td>143082.0</td>\n",
       "      <td>1657.0</td>\n",
       "    </tr>\n",
       "    <tr>\n",
       "      <th>CA</th>\n",
       "      <td>1995</td>\n",
       "      <td>8724888.0</td>\n",
       "      <td>137198.0</td>\n",
       "      <td>1650.0</td>\n",
       "    </tr>\n",
       "    <tr>\n",
       "      <th>CA</th>\n",
       "      <td>1996</td>\n",
       "      <td>8804929.0</td>\n",
       "      <td>124126.0</td>\n",
       "      <td>1377.0</td>\n",
       "    </tr>\n",
       "    <tr>\n",
       "      <th>CA</th>\n",
       "      <td>1997</td>\n",
       "      <td>8912997.0</td>\n",
       "      <td>113429.0</td>\n",
       "      <td>1147.0</td>\n",
       "    </tr>\n",
       "    <tr>\n",
       "      <th>CA</th>\n",
       "      <td>1998</td>\n",
       "      <td>8972797.0</td>\n",
       "      <td>99042.0</td>\n",
       "      <td>863.0</td>\n",
       "    </tr>\n",
       "    <tr>\n",
       "      <th>CA</th>\n",
       "      <td>1999</td>\n",
       "      <td>9145835.0</td>\n",
       "      <td>91012.0</td>\n",
       "      <td>874.0</td>\n",
       "    </tr>\n",
       "    <tr>\n",
       "      <th>CA</th>\n",
       "      <td>2000</td>\n",
       "      <td>9272569.0</td>\n",
       "      <td>93443.0</td>\n",
       "      <td>985.0</td>\n",
       "    </tr>\n",
       "    <tr>\n",
       "      <th>CA</th>\n",
       "      <td>2001</td>\n",
       "      <td>9447383.0</td>\n",
       "      <td>96141.0</td>\n",
       "      <td>1043.0</td>\n",
       "    </tr>\n",
       "    <tr>\n",
       "      <th>CA</th>\n",
       "      <td>2002</td>\n",
       "      <td>9613783.0</td>\n",
       "      <td>94199.0</td>\n",
       "      <td>1194.0</td>\n",
       "    </tr>\n",
       "    <tr>\n",
       "      <th>CA</th>\n",
       "      <td>2003</td>\n",
       "      <td>9604271.0</td>\n",
       "      <td>89381.0</td>\n",
       "      <td>1060.0</td>\n",
       "    </tr>\n",
       "    <tr>\n",
       "      <th>CA</th>\n",
       "      <td>2004</td>\n",
       "      <td>9655760.0</td>\n",
       "      <td>83029.0</td>\n",
       "      <td>1096.0</td>\n",
       "    </tr>\n",
       "    <tr>\n",
       "      <th>CA</th>\n",
       "      <td>2005</td>\n",
       "      <td>9660218.0</td>\n",
       "      <td>73559.0</td>\n",
       "      <td>1066.0</td>\n",
       "    </tr>\n",
       "    <tr>\n",
       "      <th>CA</th>\n",
       "      <td>2006</td>\n",
       "      <td>9683440.0</td>\n",
       "      <td>74400.0</td>\n",
       "      <td>1093.0</td>\n",
       "    </tr>\n",
       "    <tr>\n",
       "      <th>CA</th>\n",
       "      <td>2007</td>\n",
       "      <td>9595687.0</td>\n",
       "      <td>71297.0</td>\n",
       "      <td>972.0</td>\n",
       "    </tr>\n",
       "    <tr>\n",
       "      <th>CA</th>\n",
       "      <td>2008</td>\n",
       "      <td>9683667.0</td>\n",
       "      <td>68854.0</td>\n",
       "      <td>947.0</td>\n",
       "    </tr>\n",
       "    <tr>\n",
       "      <th>CA</th>\n",
       "      <td>2009</td>\n",
       "      <td>9762944.0</td>\n",
       "      <td>62989.0</td>\n",
       "      <td>744.0</td>\n",
       "    </tr>\n",
       "    <tr>\n",
       "      <th>CA</th>\n",
       "      <td>2010</td>\n",
       "      <td>9722760.0</td>\n",
       "      <td>58692.0</td>\n",
       "      <td>676.0</td>\n",
       "    </tr>\n",
       "    <tr>\n",
       "      <th>CA</th>\n",
       "      <td>2011</td>\n",
       "      <td>9831203.0</td>\n",
       "      <td>55102.0</td>\n",
       "      <td>712.0</td>\n",
       "    </tr>\n",
       "    <tr>\n",
       "      <th>CA</th>\n",
       "      <td>2012</td>\n",
       "      <td>9917233.0</td>\n",
       "      <td>55794.0</td>\n",
       "      <td>779.0</td>\n",
       "    </tr>\n",
       "    <tr>\n",
       "      <th>CA</th>\n",
       "      <td>2013</td>\n",
       "      <td>9978837.0</td>\n",
       "      <td>53448.0</td>\n",
       "      <td>646.0</td>\n",
       "    </tr>\n",
       "  </tbody>\n",
       "</table>\n",
       "</div>"
      ],
      "text/plain": [
       "       report_year  population  violent_crimes  homicides\n",
       "state                                                    \n",
       "AZ            1990   1676884.0         16069.0      167.0\n",
       "AZ            1991   1705415.0         16964.0      167.0\n",
       "AZ            1992   1724936.0         17288.0      187.0\n",
       "AZ            1993   1770408.0         18609.0      208.0\n",
       "AZ            1994   1832966.0         18873.0      285.0\n",
       "AZ            1995   1860341.0         19655.0      296.0\n",
       "AZ            1996   1952996.0         18187.0      250.0\n",
       "AZ            1997   2009063.0         18046.0      238.0\n",
       "AZ            1998   2057957.0         17448.0      241.0\n",
       "AZ            1999   2065704.0         16638.0      259.0\n",
       "AZ            2000   2204119.0         16689.0      227.0\n",
       "AZ            2001   2280029.0         17871.0      268.0\n",
       "AZ            2002   2344092.0         17819.0      246.0\n",
       "AZ            2003   2354415.0         16777.0      302.0\n",
       "AZ            2004   2396466.0         16838.0      279.0\n",
       "AZ            2005   2448083.0         18019.0      304.0\n",
       "AZ            2006   2512380.0         17859.0      312.0\n",
       "AZ            2007   2519573.0         17485.0      283.0\n",
       "AZ            2008   2571576.0         17006.0      248.0\n",
       "AZ            2009   2616211.0         14290.0      171.0\n",
       "AZ            2010   2404789.0         13122.0      182.0\n",
       "AZ            2011   2438832.0         13366.0      184.0\n",
       "AZ            2012   2468435.0         15112.0      179.0\n",
       "AZ            2013   2483780.0         14667.0      187.0\n",
       "AZ            2014   2519272.0         14311.0      162.0\n",
       "AZ            2015   2560453.0         14705.0      159.0\n",
       "CA            1990   8598016.0        152971.0     1830.0\n",
       "CA            1991   8777427.0        166338.0     1929.0\n",
       "CA            1992   8834162.0        168646.0     2023.0\n",
       "CA            1993   8765967.0        159186.0     2060.0\n",
       "CA            1994   8827974.0        143082.0     1657.0\n",
       "CA            1995   8724888.0        137198.0     1650.0\n",
       "CA            1996   8804929.0        124126.0     1377.0\n",
       "CA            1997   8912997.0        113429.0     1147.0\n",
       "CA            1998   8972797.0         99042.0      863.0\n",
       "CA            1999   9145835.0         91012.0      874.0\n",
       "CA            2000   9272569.0         93443.0      985.0\n",
       "CA            2001   9447383.0         96141.0     1043.0\n",
       "CA            2002   9613783.0         94199.0     1194.0\n",
       "CA            2003   9604271.0         89381.0     1060.0\n",
       "CA            2004   9655760.0         83029.0     1096.0\n",
       "CA            2005   9660218.0         73559.0     1066.0\n",
       "CA            2006   9683440.0         74400.0     1093.0\n",
       "CA            2007   9595687.0         71297.0      972.0\n",
       "CA            2008   9683667.0         68854.0      947.0\n",
       "CA            2009   9762944.0         62989.0      744.0\n",
       "CA            2010   9722760.0         58692.0      676.0\n",
       "CA            2011   9831203.0         55102.0      712.0\n",
       "CA            2012   9917233.0         55794.0      779.0\n",
       "CA            2013   9978837.0         53448.0      646.0"
      ]
     },
     "execution_count": 304,
     "metadata": {},
     "output_type": "execute_result"
    }
   ],
   "source": [
    "df_new_top_violent.head(50)"
   ]
  },
  {
   "cell_type": "code",
   "execution_count": 354,
   "metadata": {},
   "outputs": [],
   "source": [
    "vio_crime_values = df_new_top_violent.loc[['CA'],['report_year', 'homicides']]"
   ]
  },
  {
   "cell_type": "code",
   "execution_count": 355,
   "metadata": {},
   "outputs": [
    {
     "data": {
      "text/html": [
       "<div>\n",
       "<style>\n",
       "    .dataframe thead tr:only-child th {\n",
       "        text-align: right;\n",
       "    }\n",
       "\n",
       "    .dataframe thead th {\n",
       "        text-align: left;\n",
       "    }\n",
       "\n",
       "    .dataframe tbody tr th {\n",
       "        vertical-align: top;\n",
       "    }\n",
       "</style>\n",
       "<table border=\"1\" class=\"dataframe\">\n",
       "  <thead>\n",
       "    <tr style=\"text-align: right;\">\n",
       "      <th></th>\n",
       "      <th>report_year</th>\n",
       "      <th>homicides</th>\n",
       "    </tr>\n",
       "    <tr>\n",
       "      <th>state</th>\n",
       "      <th></th>\n",
       "      <th></th>\n",
       "    </tr>\n",
       "  </thead>\n",
       "  <tbody>\n",
       "    <tr>\n",
       "      <th>CA</th>\n",
       "      <td>1990</td>\n",
       "      <td>1830.0</td>\n",
       "    </tr>\n",
       "    <tr>\n",
       "      <th>CA</th>\n",
       "      <td>1991</td>\n",
       "      <td>1929.0</td>\n",
       "    </tr>\n",
       "    <tr>\n",
       "      <th>CA</th>\n",
       "      <td>1992</td>\n",
       "      <td>2023.0</td>\n",
       "    </tr>\n",
       "    <tr>\n",
       "      <th>CA</th>\n",
       "      <td>1993</td>\n",
       "      <td>2060.0</td>\n",
       "    </tr>\n",
       "    <tr>\n",
       "      <th>CA</th>\n",
       "      <td>1994</td>\n",
       "      <td>1657.0</td>\n",
       "    </tr>\n",
       "    <tr>\n",
       "      <th>CA</th>\n",
       "      <td>1995</td>\n",
       "      <td>1650.0</td>\n",
       "    </tr>\n",
       "    <tr>\n",
       "      <th>CA</th>\n",
       "      <td>1996</td>\n",
       "      <td>1377.0</td>\n",
       "    </tr>\n",
       "    <tr>\n",
       "      <th>CA</th>\n",
       "      <td>1997</td>\n",
       "      <td>1147.0</td>\n",
       "    </tr>\n",
       "    <tr>\n",
       "      <th>CA</th>\n",
       "      <td>1998</td>\n",
       "      <td>863.0</td>\n",
       "    </tr>\n",
       "    <tr>\n",
       "      <th>CA</th>\n",
       "      <td>1999</td>\n",
       "      <td>874.0</td>\n",
       "    </tr>\n",
       "    <tr>\n",
       "      <th>CA</th>\n",
       "      <td>2000</td>\n",
       "      <td>985.0</td>\n",
       "    </tr>\n",
       "    <tr>\n",
       "      <th>CA</th>\n",
       "      <td>2001</td>\n",
       "      <td>1043.0</td>\n",
       "    </tr>\n",
       "    <tr>\n",
       "      <th>CA</th>\n",
       "      <td>2002</td>\n",
       "      <td>1194.0</td>\n",
       "    </tr>\n",
       "    <tr>\n",
       "      <th>CA</th>\n",
       "      <td>2003</td>\n",
       "      <td>1060.0</td>\n",
       "    </tr>\n",
       "    <tr>\n",
       "      <th>CA</th>\n",
       "      <td>2004</td>\n",
       "      <td>1096.0</td>\n",
       "    </tr>\n",
       "    <tr>\n",
       "      <th>CA</th>\n",
       "      <td>2005</td>\n",
       "      <td>1066.0</td>\n",
       "    </tr>\n",
       "    <tr>\n",
       "      <th>CA</th>\n",
       "      <td>2006</td>\n",
       "      <td>1093.0</td>\n",
       "    </tr>\n",
       "    <tr>\n",
       "      <th>CA</th>\n",
       "      <td>2007</td>\n",
       "      <td>972.0</td>\n",
       "    </tr>\n",
       "    <tr>\n",
       "      <th>CA</th>\n",
       "      <td>2008</td>\n",
       "      <td>947.0</td>\n",
       "    </tr>\n",
       "    <tr>\n",
       "      <th>CA</th>\n",
       "      <td>2009</td>\n",
       "      <td>744.0</td>\n",
       "    </tr>\n",
       "    <tr>\n",
       "      <th>CA</th>\n",
       "      <td>2010</td>\n",
       "      <td>676.0</td>\n",
       "    </tr>\n",
       "    <tr>\n",
       "      <th>CA</th>\n",
       "      <td>2011</td>\n",
       "      <td>712.0</td>\n",
       "    </tr>\n",
       "    <tr>\n",
       "      <th>CA</th>\n",
       "      <td>2012</td>\n",
       "      <td>779.0</td>\n",
       "    </tr>\n",
       "    <tr>\n",
       "      <th>CA</th>\n",
       "      <td>2013</td>\n",
       "      <td>646.0</td>\n",
       "    </tr>\n",
       "    <tr>\n",
       "      <th>CA</th>\n",
       "      <td>2014</td>\n",
       "      <td>618.0</td>\n",
       "    </tr>\n",
       "    <tr>\n",
       "      <th>CA</th>\n",
       "      <td>2015</td>\n",
       "      <td>703.0</td>\n",
       "    </tr>\n",
       "  </tbody>\n",
       "</table>\n",
       "</div>"
      ],
      "text/plain": [
       "       report_year  homicides\n",
       "state                        \n",
       "CA            1990     1830.0\n",
       "CA            1991     1929.0\n",
       "CA            1992     2023.0\n",
       "CA            1993     2060.0\n",
       "CA            1994     1657.0\n",
       "CA            1995     1650.0\n",
       "CA            1996     1377.0\n",
       "CA            1997     1147.0\n",
       "CA            1998      863.0\n",
       "CA            1999      874.0\n",
       "CA            2000      985.0\n",
       "CA            2001     1043.0\n",
       "CA            2002     1194.0\n",
       "CA            2003     1060.0\n",
       "CA            2004     1096.0\n",
       "CA            2005     1066.0\n",
       "CA            2006     1093.0\n",
       "CA            2007      972.0\n",
       "CA            2008      947.0\n",
       "CA            2009      744.0\n",
       "CA            2010      676.0\n",
       "CA            2011      712.0\n",
       "CA            2012      779.0\n",
       "CA            2013      646.0\n",
       "CA            2014      618.0\n",
       "CA            2015      703.0"
      ]
     },
     "execution_count": 355,
     "metadata": {},
     "output_type": "execute_result"
    }
   ],
   "source": [
    "vio_crime_values"
   ]
  },
  {
   "cell_type": "code",
   "execution_count": 305,
   "metadata": {},
   "outputs": [],
   "source": [
    "crime_value = df_new_top_violent.loc['CA']['violent_crimes'][df_new_top_violent.loc['CA']['report_year'] == 1990]"
   ]
  },
  {
   "cell_type": "code",
   "execution_count": 306,
   "metadata": {},
   "outputs": [
    {
     "data": {
      "text/plain": [
       "152971.0"
      ]
     },
     "execution_count": 306,
     "metadata": {},
     "output_type": "execute_result"
    }
   ],
   "source": [
    "crime_value[0]"
   ]
  },
  {
   "cell_type": "code",
   "execution_count": 307,
   "metadata": {},
   "outputs": [],
   "source": [
    "sum_state_violent = df_new_top_violent.loc['CA']['violent_crimes'].sum()"
   ]
  },
  {
   "cell_type": "code",
   "execution_count": 308,
   "metadata": {},
   "outputs": [
    {
     "data": {
      "text/plain": [
       "2500721.0"
      ]
     },
     "execution_count": 308,
     "metadata": {},
     "output_type": "execute_result"
    }
   ],
   "source": [
    "sum_state_violent"
   ]
  },
  {
   "cell_type": "code",
   "execution_count": 309,
   "metadata": {
    "collapsed": true
   },
   "outputs": [],
   "source": [
    "sum_state_homicides = df_new_top_violent.loc['CA']['homicides'].sum()"
   ]
  },
  {
   "cell_type": "code",
   "execution_count": 310,
   "metadata": {},
   "outputs": [
    {
     "data": {
      "text/plain": [
       "29744.0"
      ]
     },
     "execution_count": 310,
     "metadata": {},
     "output_type": "execute_result"
    }
   ],
   "source": [
    "sum_state_homicides"
   ]
  },
  {
   "cell_type": "code",
   "execution_count": 234,
   "metadata": {},
   "outputs": [],
   "source": [
    "filepath = 'cleaned_school_shootings_1990_2018.csv'\n",
    "csv = pd.read_csv(filepath)\n",
    "df_school = pd.DataFrame(csv)"
   ]
  },
  {
   "cell_type": "code",
   "execution_count": 235,
   "metadata": {},
   "outputs": [
    {
     "data": {
      "text/html": [
       "<div>\n",
       "<style>\n",
       "    .dataframe thead tr:only-child th {\n",
       "        text-align: right;\n",
       "    }\n",
       "\n",
       "    .dataframe thead th {\n",
       "        text-align: left;\n",
       "    }\n",
       "\n",
       "    .dataframe tbody tr th {\n",
       "        vertical-align: top;\n",
       "    }\n",
       "</style>\n",
       "<table border=\"1\" class=\"dataframe\">\n",
       "  <thead>\n",
       "    <tr style=\"text-align: right;\">\n",
       "      <th></th>\n",
       "      <th>Date</th>\n",
       "      <th>City</th>\n",
       "      <th>State</th>\n",
       "      <th>Fatalities</th>\n",
       "      <th>Year</th>\n",
       "      <th>Latitude</th>\n",
       "      <th>Longitude</th>\n",
       "    </tr>\n",
       "  </thead>\n",
       "  <tbody>\n",
       "    <tr>\n",
       "      <th>0</th>\n",
       "      <td>3/27/90</td>\n",
       "      <td>Brooklyn</td>\n",
       "      <td>New York</td>\n",
       "      <td>0</td>\n",
       "      <td>1990</td>\n",
       "      <td>40.678178</td>\n",
       "      <td>-73.944158</td>\n",
       "    </tr>\n",
       "    <tr>\n",
       "      <th>1</th>\n",
       "      <td>5/20/90</td>\n",
       "      <td>Centerville</td>\n",
       "      <td>Tennessee</td>\n",
       "      <td>1</td>\n",
       "      <td>1990</td>\n",
       "      <td>39.628393</td>\n",
       "      <td>-84.159382</td>\n",
       "    </tr>\n",
       "    <tr>\n",
       "      <th>2</th>\n",
       "      <td>8/26/90</td>\n",
       "      <td>Las Vegas</td>\n",
       "      <td>Nevada</td>\n",
       "      <td>1</td>\n",
       "      <td>1990</td>\n",
       "      <td>36.169941</td>\n",
       "      <td>-115.139830</td>\n",
       "    </tr>\n",
       "    <tr>\n",
       "      <th>3</th>\n",
       "      <td>9/11/90</td>\n",
       "      <td>San Antonio</td>\n",
       "      <td>Texas</td>\n",
       "      <td>0</td>\n",
       "      <td>1990</td>\n",
       "      <td>29.424122</td>\n",
       "      <td>-98.493628</td>\n",
       "    </tr>\n",
       "    <tr>\n",
       "      <th>4</th>\n",
       "      <td>1/8/91</td>\n",
       "      <td>Richardson</td>\n",
       "      <td>Texas</td>\n",
       "      <td>0</td>\n",
       "      <td>1991</td>\n",
       "      <td>32.959623</td>\n",
       "      <td>-96.730986</td>\n",
       "    </tr>\n",
       "  </tbody>\n",
       "</table>\n",
       "</div>"
      ],
      "text/plain": [
       "      Date         City      State  Fatalities  Year   Latitude   Longitude\n",
       "0  3/27/90     Brooklyn   New York           0  1990  40.678178  -73.944158\n",
       "1  5/20/90  Centerville  Tennessee           1  1990  39.628393  -84.159382\n",
       "2  8/26/90    Las Vegas     Nevada           1  1990  36.169941 -115.139830\n",
       "3  9/11/90  San Antonio      Texas           0  1990  29.424122  -98.493628\n",
       "4   1/8/91   Richardson      Texas           0  1991  32.959623  -96.730986"
      ]
     },
     "execution_count": 235,
     "metadata": {},
     "output_type": "execute_result"
    }
   ],
   "source": [
    "df_school.head()"
   ]
  },
  {
   "cell_type": "code",
   "execution_count": 236,
   "metadata": {},
   "outputs": [],
   "source": [
    "df_school = df_school[['City', 'State', 'Fatalities', 'Year']]"
   ]
  },
  {
   "cell_type": "code",
   "execution_count": 237,
   "metadata": {},
   "outputs": [
    {
     "data": {
      "text/html": [
       "<div>\n",
       "<style>\n",
       "    .dataframe thead tr:only-child th {\n",
       "        text-align: right;\n",
       "    }\n",
       "\n",
       "    .dataframe thead th {\n",
       "        text-align: left;\n",
       "    }\n",
       "\n",
       "    .dataframe tbody tr th {\n",
       "        vertical-align: top;\n",
       "    }\n",
       "</style>\n",
       "<table border=\"1\" class=\"dataframe\">\n",
       "  <thead>\n",
       "    <tr style=\"text-align: right;\">\n",
       "      <th></th>\n",
       "      <th>City</th>\n",
       "      <th>State</th>\n",
       "      <th>Fatalities</th>\n",
       "      <th>Year</th>\n",
       "    </tr>\n",
       "  </thead>\n",
       "  <tbody>\n",
       "    <tr>\n",
       "      <th>0</th>\n",
       "      <td>Brooklyn</td>\n",
       "      <td>New York</td>\n",
       "      <td>0</td>\n",
       "      <td>1990</td>\n",
       "    </tr>\n",
       "    <tr>\n",
       "      <th>1</th>\n",
       "      <td>Centerville</td>\n",
       "      <td>Tennessee</td>\n",
       "      <td>1</td>\n",
       "      <td>1990</td>\n",
       "    </tr>\n",
       "    <tr>\n",
       "      <th>2</th>\n",
       "      <td>Las Vegas</td>\n",
       "      <td>Nevada</td>\n",
       "      <td>1</td>\n",
       "      <td>1990</td>\n",
       "    </tr>\n",
       "    <tr>\n",
       "      <th>3</th>\n",
       "      <td>San Antonio</td>\n",
       "      <td>Texas</td>\n",
       "      <td>0</td>\n",
       "      <td>1990</td>\n",
       "    </tr>\n",
       "    <tr>\n",
       "      <th>4</th>\n",
       "      <td>Richardson</td>\n",
       "      <td>Texas</td>\n",
       "      <td>0</td>\n",
       "      <td>1991</td>\n",
       "    </tr>\n",
       "  </tbody>\n",
       "</table>\n",
       "</div>"
      ],
      "text/plain": [
       "          City      State  Fatalities  Year\n",
       "0     Brooklyn   New York           0  1990\n",
       "1  Centerville  Tennessee           1  1990\n",
       "2    Las Vegas     Nevada           1  1990\n",
       "3  San Antonio      Texas           0  1990\n",
       "4   Richardson      Texas           0  1991"
      ]
     },
     "execution_count": 237,
     "metadata": {},
     "output_type": "execute_result"
    }
   ],
   "source": [
    "df_school.head()"
   ]
  },
  {
   "cell_type": "code",
   "execution_count": 238,
   "metadata": {},
   "outputs": [],
   "source": [
    "df_school.State.replace(['New York', 'Texas', 'Tennessee', 'Nevada', 'California', 'Iowa', 'Ohio',\\\n",
    "                        'Massachusetts', 'Georgia', 'Illinois', 'North Carolina', 'Florida', 'South Carolina',\\\n",
    "                        'Michigan', 'Arizona', 'Washington', 'Arkansas', 'Pennsylvania', 'Alabama',\\\n",
    "                        'Maryland', 'Indiana', 'Kentucky', 'Mississippi', 'Nebraska', 'Missouri',\\\n",
    "                        'Oklahoma', 'Alaska', 'Virginia', 'New Hampshire', 'New Mexico', 'Hawaii',\\\n",
    "                        'Connecticut', 'Louisiana', 'Wisconsin', 'Utah', 'Colorado', 'Wyoming', 'Delaware']\\\n",
    "                        , ['NY', 'TX', 'TN', 'NV', 'CA', 'IA', 'OH', 'MA', 'GA', 'IL', 'NC', 'FL', \\\n",
    "                        'SC','MI', 'AZ', 'WA', 'AR', 'PA', 'AL', 'MD', 'IN', 'KY', 'MS', 'NE', 'MO',\\\n",
    "                        'OK', 'AK', 'VA', 'NH', 'NM', 'HI', 'CT', 'LA', 'WI', 'UT', 'CO', 'WY', 'DE'], inplace=True)"
   ]
  },
  {
   "cell_type": "code",
   "execution_count": 239,
   "metadata": {},
   "outputs": [],
   "source": [
    "df_school = df_school[['State', 'Year', 'Fatalities']]"
   ]
  },
  {
   "cell_type": "code",
   "execution_count": 240,
   "metadata": {
    "collapsed": true
   },
   "outputs": [],
   "source": [
    "df_school = df_school.groupby(['State', 'Year']).sum()"
   ]
  },
  {
   "cell_type": "code",
   "execution_count": 281,
   "metadata": {
    "collapsed": true
   },
   "outputs": [],
   "source": [
    "df_new_school = df_school.reset_index('Year')"
   ]
  },
  {
   "cell_type": "code",
   "execution_count": 282,
   "metadata": {},
   "outputs": [
    {
     "data": {
      "text/html": [
       "<div>\n",
       "<style>\n",
       "    .dataframe thead tr:only-child th {\n",
       "        text-align: right;\n",
       "    }\n",
       "\n",
       "    .dataframe thead th {\n",
       "        text-align: left;\n",
       "    }\n",
       "\n",
       "    .dataframe tbody tr th {\n",
       "        vertical-align: top;\n",
       "    }\n",
       "</style>\n",
       "<table border=\"1\" class=\"dataframe\">\n",
       "  <thead>\n",
       "    <tr style=\"text-align: right;\">\n",
       "      <th></th>\n",
       "      <th>Year</th>\n",
       "      <th>Fatalities</th>\n",
       "    </tr>\n",
       "    <tr>\n",
       "      <th>State</th>\n",
       "      <th></th>\n",
       "      <th></th>\n",
       "    </tr>\n",
       "  </thead>\n",
       "  <tbody>\n",
       "    <tr>\n",
       "      <th>AK</th>\n",
       "      <td>1997</td>\n",
       "      <td>2</td>\n",
       "    </tr>\n",
       "    <tr>\n",
       "      <th>AL</th>\n",
       "      <td>1992</td>\n",
       "      <td>1</td>\n",
       "    </tr>\n",
       "    <tr>\n",
       "      <th>AL</th>\n",
       "      <td>1996</td>\n",
       "      <td>1</td>\n",
       "    </tr>\n",
       "    <tr>\n",
       "      <th>AL</th>\n",
       "      <td>2006</td>\n",
       "      <td>1</td>\n",
       "    </tr>\n",
       "    <tr>\n",
       "      <th>AL</th>\n",
       "      <td>2008</td>\n",
       "      <td>1</td>\n",
       "    </tr>\n",
       "  </tbody>\n",
       "</table>\n",
       "</div>"
      ],
      "text/plain": [
       "       Year  Fatalities\n",
       "State                  \n",
       "AK     1997           2\n",
       "AL     1992           1\n",
       "AL     1996           1\n",
       "AL     2006           1\n",
       "AL     2008           1"
      ]
     },
     "execution_count": 282,
     "metadata": {},
     "output_type": "execute_result"
    }
   ],
   "source": [
    "df_new_school.head()"
   ]
  },
  {
   "cell_type": "code",
   "execution_count": 324,
   "metadata": {},
   "outputs": [],
   "source": [
    "school_shootings = df_new_school.loc[['CA'],['Year', 'Fatalities']]"
   ]
  },
  {
   "cell_type": "code",
   "execution_count": 326,
   "metadata": {},
   "outputs": [
    {
     "data": {
      "text/html": [
       "<div>\n",
       "<style>\n",
       "    .dataframe thead tr:only-child th {\n",
       "        text-align: right;\n",
       "    }\n",
       "\n",
       "    .dataframe thead th {\n",
       "        text-align: left;\n",
       "    }\n",
       "\n",
       "    .dataframe tbody tr th {\n",
       "        vertical-align: top;\n",
       "    }\n",
       "</style>\n",
       "<table border=\"1\" class=\"dataframe\">\n",
       "  <thead>\n",
       "    <tr style=\"text-align: right;\">\n",
       "      <th></th>\n",
       "      <th>Year</th>\n",
       "      <th>Fatalities</th>\n",
       "    </tr>\n",
       "    <tr>\n",
       "      <th>State</th>\n",
       "      <th></th>\n",
       "      <th></th>\n",
       "    </tr>\n",
       "  </thead>\n",
       "  <tbody>\n",
       "    <tr>\n",
       "      <th>CA</th>\n",
       "      <td>1991</td>\n",
       "      <td>1</td>\n",
       "    </tr>\n",
       "    <tr>\n",
       "      <th>CA</th>\n",
       "      <td>1992</td>\n",
       "      <td>3</td>\n",
       "    </tr>\n",
       "    <tr>\n",
       "      <th>CA</th>\n",
       "      <td>1993</td>\n",
       "      <td>4</td>\n",
       "    </tr>\n",
       "    <tr>\n",
       "      <th>CA</th>\n",
       "      <td>1994</td>\n",
       "      <td>4</td>\n",
       "    </tr>\n",
       "    <tr>\n",
       "      <th>CA</th>\n",
       "      <td>1995</td>\n",
       "      <td>2</td>\n",
       "    </tr>\n",
       "  </tbody>\n",
       "</table>\n",
       "</div>"
      ],
      "text/plain": [
       "       Year  Fatalities\n",
       "State                  \n",
       "CA     1991           1\n",
       "CA     1992           3\n",
       "CA     1993           4\n",
       "CA     1994           4\n",
       "CA     1995           2"
      ]
     },
     "execution_count": 326,
     "metadata": {},
     "output_type": "execute_result"
    }
   ],
   "source": [
    "school_shootings.head()"
   ]
  },
  {
   "cell_type": "code",
   "execution_count": 352,
   "metadata": {
    "collapsed": true
   },
   "outputs": [],
   "source": [
    "x1 = school_shootings['Year']\n",
    "y1 = school_shootings['Fatalities']\n",
    "p1 = np.polyfit(x1, y1, 1)"
   ]
  },
  {
   "cell_type": "code",
   "execution_count": 353,
   "metadata": {},
   "outputs": [
    {
     "data": {
      "image/png": "[encoded data removed]",
      "text/plain": [
       "<matplotlib.figure.Figure at 0x11d03d080>"
      ]
     },
     "metadata": {},
     "output_type": "display_data"
    }
   ],
   "source": [
    "plt.plot(x1,y1, color='blue', marker='o', linestyle='')\n",
    "#plt.plot(x3,y3_adj, color='green', marker='^', linestyle='')\n",
    "plt.plot(x1, np.polyval(p1, x1), color='red')\n",
    "#plt.plot(x3, np.polyval(p3, x3), color='gray')\n",
    "#blue_patch = mpatches.Patch(label='homocides')\n",
    "#orange_patch = mpatches.Patch(color='green', label='school shootings (*100)')\n",
    "#plt.legend(handles=[blue_patch, orange_patch])\n",
    "plt.xlabel('year')\n",
    "plt.ylabel('number of school shootings')\n",
    "plt.title('Number of Shootings in CA over Time')\n",
    "plt.show()"
   ]
  },
  {
   "cell_type": "code",
   "execution_count": 356,
   "metadata": {},
   "outputs": [
    {
     "data": {
      "text/html": [
       "<div>\n",
       "<style>\n",
       "    .dataframe thead tr:only-child th {\n",
       "        text-align: right;\n",
       "    }\n",
       "\n",
       "    .dataframe thead th {\n",
       "        text-align: left;\n",
       "    }\n",
       "\n",
       "    .dataframe tbody tr th {\n",
       "        vertical-align: top;\n",
       "    }\n",
       "</style>\n",
       "<table border=\"1\" class=\"dataframe\">\n",
       "  <thead>\n",
       "    <tr style=\"text-align: right;\">\n",
       "      <th></th>\n",
       "      <th>report_year</th>\n",
       "      <th>homicides</th>\n",
       "    </tr>\n",
       "    <tr>\n",
       "      <th>state</th>\n",
       "      <th></th>\n",
       "      <th></th>\n",
       "    </tr>\n",
       "  </thead>\n",
       "  <tbody>\n",
       "    <tr>\n",
       "      <th>CA</th>\n",
       "      <td>1990</td>\n",
       "      <td>1830.0</td>\n",
       "    </tr>\n",
       "    <tr>\n",
       "      <th>CA</th>\n",
       "      <td>1991</td>\n",
       "      <td>1929.0</td>\n",
       "    </tr>\n",
       "    <tr>\n",
       "      <th>CA</th>\n",
       "      <td>1992</td>\n",
       "      <td>2023.0</td>\n",
       "    </tr>\n",
       "    <tr>\n",
       "      <th>CA</th>\n",
       "      <td>1993</td>\n",
       "      <td>2060.0</td>\n",
       "    </tr>\n",
       "    <tr>\n",
       "      <th>CA</th>\n",
       "      <td>1994</td>\n",
       "      <td>1657.0</td>\n",
       "    </tr>\n",
       "  </tbody>\n",
       "</table>\n",
       "</div>"
      ],
      "text/plain": [
       "       report_year  homicides\n",
       "state                        \n",
       "CA            1990     1830.0\n",
       "CA            1991     1929.0\n",
       "CA            1992     2023.0\n",
       "CA            1993     2060.0\n",
       "CA            1994     1657.0"
      ]
     },
     "execution_count": 356,
     "metadata": {},
     "output_type": "execute_result"
    }
   ],
   "source": [
    "vio_crime_values.head()"
   ]
  },
  {
   "cell_type": "code",
   "execution_count": 358,
   "metadata": {},
   "outputs": [],
   "source": [
    "x2 = vio_crime_values['report_year']\n",
    "y2 = vio_crime_values['homicides']\n",
    "p2 = np.polyfit(x2, y2, 1)"
   ]
  },
  {
   "cell_type": "code",
   "execution_count": 359,
   "metadata": {},
   "outputs": [
    {
     "data": {
      "image/png": "[encoded data removed]",
      "text/plain": [
       "<matplotlib.figure.Figure at 0x11d2c0cc0>"
      ]
     },
     "metadata": {},
     "output_type": "display_data"
    }
   ],
   "source": [
    "plt.plot(x2,y2, color='green', marker='o', linestyle='')\n",
    "#plt.plot(x3,y3_adj, color='green', marker='^', linestyle='')\n",
    "plt.plot(x2, np.polyval(p2, x2), color='red')\n",
    "#plt.plot(x3, np.polyval(p3, x3), color='gray')\n",
    "#blue_patch = mpatches.Patch(label='homocides')\n",
    "#orange_patch = mpatches.Patch(color='green', label='school shootings (*100)')\n",
    "#plt.legend(handles=[blue_patch, orange_patch])\n",
    "plt.xlabel('year')\n",
    "plt.ylabel('number of homicides')\n",
    "plt.title('Number of Homicides in CA over Time')\n",
    "plt.show()"
   ]
  },
  {
   "cell_type": "code",
   "execution_count": 368,
   "metadata": {
    "collapsed": true
   },
   "outputs": [],
   "source": [
    "# using Scipy to do some basic stats on the data that we have\n",
    "import scipy\n",
    "from scipy.stats import pearsonr\n",
    "x = scipy.array(y1)\n",
    "y2 = y2[:-1]\n",
    "y = scipy.array(y2)"
   ]
  },
  {
   "cell_type": "code",
   "execution_count": 369,
   "metadata": {},
   "outputs": [
    {
     "data": {
      "text/plain": [
       "25"
      ]
     },
     "execution_count": 369,
     "metadata": {},
     "output_type": "execute_result"
    }
   ],
   "source": [
    "len(x)"
   ]
  },
  {
   "cell_type": "code",
   "execution_count": 370,
   "metadata": {},
   "outputs": [
    {
     "data": {
      "text/plain": [
       "25"
      ]
     },
     "execution_count": 370,
     "metadata": {},
     "output_type": "execute_result"
    }
   ],
   "source": [
    "len(y)"
   ]
  },
  {
   "cell_type": "code",
   "execution_count": 371,
   "metadata": {},
   "outputs": [],
   "source": [
    "r_row, p_value = pearsonr(x, y)"
   ]
  },
  {
   "cell_type": "code",
   "execution_count": 372,
   "metadata": {},
   "outputs": [
    {
     "name": "stdout",
     "output_type": "stream",
     "text": [
      "0.0936092053715 0.656274003834\n"
     ]
    }
   ],
   "source": [
    "print(r_row, p_value)"
   ]
  },
  {
   "cell_type": "code",
   "execution_count": null,
   "metadata": {
    "collapsed": true
   },
   "outputs": [],
   "source": []
  },
  {
   "cell_type": "code",
   "execution_count": null,
   "metadata": {
    "collapsed": true
   },
   "outputs": [],
   "source": []
  },
  {
   "cell_type": "code",
   "execution_count": null,
   "metadata": {
    "collapsed": true
   },
   "outputs": [],
   "source": []
  },
  {
   "cell_type": "code",
   "execution_count": 379,
   "metadata": {
    "collapsed": true
   },
   "outputs": [],
   "source": [
    "#. Need to start copying from here"
   ]
  },
  {
   "cell_type": "code",
   "execution_count": 374,
   "metadata": {
    "collapsed": true
   },
   "outputs": [],
   "source": [
    "# building a simple dictionary with key and value.\n",
    "# Created a function to generate year\n",
    "# Created a function to populate the crime dictionary with the key, value pair\n",
    "crime_per_year = {}\n",
    "year_list = []"
   ]
  },
  {
   "cell_type": "code",
   "execution_count": 375,
   "metadata": {
    "collapsed": true
   },
   "outputs": [],
   "source": [
    "def build_year_list(num_year):\n",
    "    start_year = 1990\n",
    "    for i in range(0, num_year-1):\n",
    "        year_list.append(start_year+i)\n",
    "    return year_list"
   ]
  },
  {
   "cell_type": "code",
   "execution_count": 376,
   "metadata": {},
   "outputs": [
    {
     "data": {
      "text/plain": [
       "[1990,\n",
       " 1991,\n",
       " 1992,\n",
       " 1993,\n",
       " 1994,\n",
       " 1995,\n",
       " 1996,\n",
       " 1997,\n",
       " 1998,\n",
       " 1999,\n",
       " 2000,\n",
       " 2001,\n",
       " 2002,\n",
       " 2003,\n",
       " 2004,\n",
       " 2005,\n",
       " 2006,\n",
       " 2007,\n",
       " 2008,\n",
       " 2009,\n",
       " 2010,\n",
       " 2011,\n",
       " 2012,\n",
       " 2013,\n",
       " 2014]"
      ]
     },
     "execution_count": 376,
     "metadata": {},
     "output_type": "execute_result"
    }
   ],
   "source": [
    "build_year_list(26)"
   ]
  },
  {
   "cell_type": "code",
   "execution_count": 377,
   "metadata": {
    "collapsed": true
   },
   "outputs": [],
   "source": [
    "def violent_crime_count(year_list):\n",
    "    for i in range(len(year_list)):\n",
    "        crime_count = df[df['report_year'] == year_list[i]]['violent_crimes'].sum()\n",
    "        crime_per_year.update({year_list[i]: crime_count})\n",
    "    return crime_per_year"
   ]
  },
  {
   "cell_type": "code",
   "execution_count": 378,
   "metadata": {},
   "outputs": [
    {
     "data": {
      "text/plain": [
       "{1990: 865969.0,\n",
       " 1991: 900316.0,\n",
       " 1992: 882124.0,\n",
       " 1993: 866963.0,\n",
       " 1994: 817446.0,\n",
       " 1995: 766751.0,\n",
       " 1996: 715249.0,\n",
       " 1997: 667270.0,\n",
       " 1998: 619280.0,\n",
       " 1999: 579433.0,\n",
       " 2000: 574377.0,\n",
       " 2001: 574528.0,\n",
       " 2002: 561665.0,\n",
       " 2003: 533396.0,\n",
       " 2004: 513157.0,\n",
       " 2005: 516126.0,\n",
       " 2006: 522223.0,\n",
       " 2007: 511135.0,\n",
       " 2008: 497761.0,\n",
       " 2009: 463986.0,\n",
       " 2010: 438261.0,\n",
       " 2011: 423978.0,\n",
       " 2012: 431738.0,\n",
       " 2013: 422507.0,\n",
       " 2014: 421311.0}"
      ]
     },
     "execution_count": 378,
     "metadata": {},
     "output_type": "execute_result"
    }
   ],
   "source": [
    "violent_crime_count(year_list)"
   ]
  },
  {
   "cell_type": "code",
   "execution_count": 335,
   "metadata": {},
   "outputs": [
    {
     "data": {
      "text/plain": [
       "{1990: 865969.0,\n",
       " 1991: 900316.0,\n",
       " 1992: 882124.0,\n",
       " 1993: 866963.0,\n",
       " 1994: 817446.0,\n",
       " 1995: 766751.0,\n",
       " 1996: 715249.0,\n",
       " 1997: 667270.0,\n",
       " 1998: 619280.0,\n",
       " 1999: 579433.0,\n",
       " 2000: 574377.0,\n",
       " 2001: 574528.0,\n",
       " 2002: 561665.0,\n",
       " 2003: 533396.0,\n",
       " 2004: 513157.0,\n",
       " 2005: 516126.0,\n",
       " 2006: 522223.0,\n",
       " 2007: 511135.0,\n",
       " 2008: 497761.0,\n",
       " 2009: 463986.0,\n",
       " 2010: 438261.0,\n",
       " 2011: 423978.0,\n",
       " 2012: 431738.0,\n",
       " 2013: 422507.0,\n",
       " 2014: 421311.0}"
      ]
     },
     "execution_count": 335,
     "metadata": {},
     "output_type": "execute_result"
    }
   ],
   "source": [
    "crime_per_year"
   ]
  },
  {
   "cell_type": "code",
   "execution_count": 336,
   "metadata": {},
   "outputs": [],
   "source": [
    "df_crime = pd.DataFrame(crime_per_year, index=[0])"
   ]
  },
  {
   "cell_type": "code",
   "execution_count": 337,
   "metadata": {},
   "outputs": [],
   "source": [
    "df_crime = df_crime.transpose()"
   ]
  },
  {
   "cell_type": "code",
   "execution_count": 338,
   "metadata": {},
   "outputs": [],
   "source": [
    "df_crime = df_crime.rename(index=str, columns={0: \"value\"})"
   ]
  },
  {
   "cell_type": "code",
   "execution_count": 339,
   "metadata": {},
   "outputs": [
    {
     "data": {
      "text/html": [
       "<div>\n",
       "<style>\n",
       "    .dataframe thead tr:only-child th {\n",
       "        text-align: right;\n",
       "    }\n",
       "\n",
       "    .dataframe thead th {\n",
       "        text-align: left;\n",
       "    }\n",
       "\n",
       "    .dataframe tbody tr th {\n",
       "        vertical-align: top;\n",
       "    }\n",
       "</style>\n",
       "<table border=\"1\" class=\"dataframe\">\n",
       "  <thead>\n",
       "    <tr style=\"text-align: right;\">\n",
       "      <th></th>\n",
       "      <th>value</th>\n",
       "    </tr>\n",
       "  </thead>\n",
       "  <tbody>\n",
       "    <tr>\n",
       "      <th>1990</th>\n",
       "      <td>865969.0</td>\n",
       "    </tr>\n",
       "    <tr>\n",
       "      <th>1991</th>\n",
       "      <td>900316.0</td>\n",
       "    </tr>\n",
       "    <tr>\n",
       "      <th>1992</th>\n",
       "      <td>882124.0</td>\n",
       "    </tr>\n",
       "    <tr>\n",
       "      <th>1993</th>\n",
       "      <td>866963.0</td>\n",
       "    </tr>\n",
       "    <tr>\n",
       "      <th>1994</th>\n",
       "      <td>817446.0</td>\n",
       "    </tr>\n",
       "  </tbody>\n",
       "</table>\n",
       "</div>"
      ],
      "text/plain": [
       "         value\n",
       "1990  865969.0\n",
       "1991  900316.0\n",
       "1992  882124.0\n",
       "1993  866963.0\n",
       "1994  817446.0"
      ]
     },
     "execution_count": 339,
     "metadata": {},
     "output_type": "execute_result"
    }
   ],
   "source": [
    "df_crime.head()"
   ]
  },
  {
   "cell_type": "code",
   "execution_count": 340,
   "metadata": {
    "collapsed": true
   },
   "outputs": [],
   "source": [
    "homocides_per_year = {}"
   ]
  },
  {
   "cell_type": "code",
   "execution_count": 341,
   "metadata": {
    "collapsed": true
   },
   "outputs": [],
   "source": [
    "def homocide_count(year_list):\n",
    "    for i in range(len(year_list)):\n",
    "        homocide_count = df[df['report_year'] == year_list[i]]['homicides'].sum()\n",
    "        homocides_per_year.update({year_list[i]: homocide_count})\n",
    "    return homocides_per_year"
   ]
  },
  {
   "cell_type": "code",
   "execution_count": 342,
   "metadata": {},
   "outputs": [
    {
     "data": {
      "text/plain": [
       "{1990: 11866.0,\n",
       " 1991: 12288.0,\n",
       " 1992: 11729.0,\n",
       " 1993: 11919.0,\n",
       " 1994: 10816.0,\n",
       " 1995: 10041.0,\n",
       " 1996: 8941.0,\n",
       " 1997: 7954.0,\n",
       " 1998: 7113.0,\n",
       " 1999: 6822.0,\n",
       " 2000: 6774.0,\n",
       " 2001: 7128.0,\n",
       " 2002: 7130.0,\n",
       " 2003: 7255.0,\n",
       " 2004: 6939.0,\n",
       " 2005: 7103.0,\n",
       " 2006: 7384.0,\n",
       " 2007: 7051.0,\n",
       " 2008: 6715.0,\n",
       " 2009: 5985.0,\n",
       " 2010: 5867.0,\n",
       " 2011: 5702.0,\n",
       " 2012: 5848.0,\n",
       " 2013: 5344.0,\n",
       " 2014: 5349.0}"
      ]
     },
     "execution_count": 342,
     "metadata": {},
     "output_type": "execute_result"
    }
   ],
   "source": [
    "homocide_count(year_list)"
   ]
  },
  {
   "cell_type": "code",
   "execution_count": 343,
   "metadata": {},
   "outputs": [
    {
     "data": {
      "text/plain": [
       "{1990: 11866.0,\n",
       " 1991: 12288.0,\n",
       " 1992: 11729.0,\n",
       " 1993: 11919.0,\n",
       " 1994: 10816.0,\n",
       " 1995: 10041.0,\n",
       " 1996: 8941.0,\n",
       " 1997: 7954.0,\n",
       " 1998: 7113.0,\n",
       " 1999: 6822.0,\n",
       " 2000: 6774.0,\n",
       " 2001: 7128.0,\n",
       " 2002: 7130.0,\n",
       " 2003: 7255.0,\n",
       " 2004: 6939.0,\n",
       " 2005: 7103.0,\n",
       " 2006: 7384.0,\n",
       " 2007: 7051.0,\n",
       " 2008: 6715.0,\n",
       " 2009: 5985.0,\n",
       " 2010: 5867.0,\n",
       " 2011: 5702.0,\n",
       " 2012: 5848.0,\n",
       " 2013: 5344.0,\n",
       " 2014: 5349.0}"
      ]
     },
     "execution_count": 343,
     "metadata": {},
     "output_type": "execute_result"
    }
   ],
   "source": [
    "homocides_per_year"
   ]
  },
  {
   "cell_type": "code",
   "execution_count": 344,
   "metadata": {
    "collapsed": true
   },
   "outputs": [],
   "source": [
    "df_homocides = pd.DataFrame(homocides_per_year, index=[0])\n",
    "df_homocides = df_homocides.transpose()\n",
    "df_homocides = df_homocides.rename(index=str, columns={0: \"value\"})"
   ]
  },
  {
   "cell_type": "code",
   "execution_count": 345,
   "metadata": {},
   "outputs": [
    {
     "data": {
      "text/html": [
       "<div>\n",
       "<style>\n",
       "    .dataframe thead tr:only-child th {\n",
       "        text-align: right;\n",
       "    }\n",
       "\n",
       "    .dataframe thead th {\n",
       "        text-align: left;\n",
       "    }\n",
       "\n",
       "    .dataframe tbody tr th {\n",
       "        vertical-align: top;\n",
       "    }\n",
       "</style>\n",
       "<table border=\"1\" class=\"dataframe\">\n",
       "  <thead>\n",
       "    <tr style=\"text-align: right;\">\n",
       "      <th></th>\n",
       "      <th>value</th>\n",
       "    </tr>\n",
       "  </thead>\n",
       "  <tbody>\n",
       "    <tr>\n",
       "      <th>1990</th>\n",
       "      <td>11866.0</td>\n",
       "    </tr>\n",
       "    <tr>\n",
       "      <th>1991</th>\n",
       "      <td>12288.0</td>\n",
       "    </tr>\n",
       "    <tr>\n",
       "      <th>1992</th>\n",
       "      <td>11729.0</td>\n",
       "    </tr>\n",
       "    <tr>\n",
       "      <th>1993</th>\n",
       "      <td>11919.0</td>\n",
       "    </tr>\n",
       "    <tr>\n",
       "      <th>1994</th>\n",
       "      <td>10816.0</td>\n",
       "    </tr>\n",
       "  </tbody>\n",
       "</table>\n",
       "</div>"
      ],
      "text/plain": [
       "        value\n",
       "1990  11866.0\n",
       "1991  12288.0\n",
       "1992  11729.0\n",
       "1993  11919.0\n",
       "1994  10816.0"
      ]
     },
     "execution_count": 345,
     "metadata": {},
     "output_type": "execute_result"
    }
   ],
   "source": [
    "df_homocides.head()"
   ]
  },
  {
   "cell_type": "code",
   "execution_count": 346,
   "metadata": {
    "collapsed": true
   },
   "outputs": [],
   "source": [
    "import matplotlib.pyplot as plt\n",
    "import matplotlib.patches as mpatches"
   ]
  },
  {
   "cell_type": "code",
   "execution_count": 347,
   "metadata": {
    "collapsed": true
   },
   "outputs": [],
   "source": [
    "fatalities_per_year = {1990: 2,\n",
    " 1991: 12,\n",
    " 1992: 14,\n",
    " 1993: 37,\n",
    " 1994: 23,\n",
    " 1995: 15,\n",
    " 1996: 24,\n",
    " 1997: 17,\n",
    " 1998: 28,\n",
    " 1999: 22,\n",
    " 2000: 14,\n",
    " 2001: 10,\n",
    " 2002: 15,\n",
    " 2003: 10,\n",
    " 2004: 9,\n",
    " 2005: 14,\n",
    " 2006: 25,\n",
    " 2007: 39,\n",
    " 2008: 24,\n",
    " 2009: 14,\n",
    " 2010: 14,\n",
    " 2011: 8,\n",
    " 2012: 44,\n",
    " 2013: 24,\n",
    " 2014: 17}"
   ]
  },
  {
   "cell_type": "code",
   "execution_count": 348,
   "metadata": {
    "collapsed": true
   },
   "outputs": [],
   "source": [
    "df_sch_deaths = pd.DataFrame(fatalities_per_year, index=[0])\n",
    "df_sch_deaths = df_sch_deaths.transpose()\n",
    "df_sch_deaths = df_sch_deaths.rename(index=str, columns={0: \"value\"})"
   ]
  },
  {
   "cell_type": "code",
   "execution_count": 381,
   "metadata": {},
   "outputs": [
    {
     "data": {
      "text/html": [
       "<div>\n",
       "<style>\n",
       "    .dataframe thead tr:only-child th {\n",
       "        text-align: right;\n",
       "    }\n",
       "\n",
       "    .dataframe thead th {\n",
       "        text-align: left;\n",
       "    }\n",
       "\n",
       "    .dataframe tbody tr th {\n",
       "        vertical-align: top;\n",
       "    }\n",
       "</style>\n",
       "<table border=\"1\" class=\"dataframe\">\n",
       "  <thead>\n",
       "    <tr style=\"text-align: right;\">\n",
       "      <th></th>\n",
       "      <th>value</th>\n",
       "    </tr>\n",
       "  </thead>\n",
       "  <tbody>\n",
       "    <tr>\n",
       "      <th>1990</th>\n",
       "      <td>2</td>\n",
       "    </tr>\n",
       "    <tr>\n",
       "      <th>1991</th>\n",
       "      <td>12</td>\n",
       "    </tr>\n",
       "    <tr>\n",
       "      <th>1992</th>\n",
       "      <td>14</td>\n",
       "    </tr>\n",
       "    <tr>\n",
       "      <th>1993</th>\n",
       "      <td>37</td>\n",
       "    </tr>\n",
       "    <tr>\n",
       "      <th>1994</th>\n",
       "      <td>23</td>\n",
       "    </tr>\n",
       "  </tbody>\n",
       "</table>\n",
       "</div>"
      ],
      "text/plain": [
       "      value\n",
       "1990      2\n",
       "1991     12\n",
       "1992     14\n",
       "1993     37\n",
       "1994     23"
      ]
     },
     "execution_count": 381,
     "metadata": {},
     "output_type": "execute_result"
    }
   ],
   "source": [
    "df_sch_deaths.head()"
   ]
  },
  {
   "cell_type": "code",
   "execution_count": 382,
   "metadata": {
    "collapsed": true
   },
   "outputs": [],
   "source": [
    "lists2 = homocides_per_year.items()\n",
    "x2, y2 = zip(*lists2)"
   ]
  },
  {
   "cell_type": "code",
   "execution_count": 383,
   "metadata": {},
   "outputs": [
    {
     "name": "stdout",
     "output_type": "stream",
     "text": [
      "(1990, 1991, 1992, 1993, 1994, 1995, 1996, 1997, 1998, 1999, 2000, 2001, 2002, 2003, 2004, 2005, 2006, 2007, 2008, 2009, 2010, 2011, 2012, 2013, 2014)\n"
     ]
    }
   ],
   "source": [
    "print(x2)"
   ]
  },
  {
   "cell_type": "code",
   "execution_count": 384,
   "metadata": {
    "collapsed": true
   },
   "outputs": [],
   "source": [
    "lists3 = fatalities_per_year.items()\n",
    "x3, y3 = zip(*lists3)"
   ]
  },
  {
   "cell_type": "code",
   "execution_count": 385,
   "metadata": {
    "collapsed": true
   },
   "outputs": [],
   "source": [
    "y3_adj = []"
   ]
  },
  {
   "cell_type": "code",
   "execution_count": 386,
   "metadata": {
    "collapsed": true
   },
   "outputs": [],
   "source": [
    "for i in range(len(y3)):\n",
    "    y3_adj.append(y3[i]*100)"
   ]
  },
  {
   "cell_type": "code",
   "execution_count": 387,
   "metadata": {},
   "outputs": [
    {
     "data": {
      "text/plain": [
       "[200,\n",
       " 1200,\n",
       " 1400,\n",
       " 3700,\n",
       " 2300,\n",
       " 1500,\n",
       " 2400,\n",
       " 1700,\n",
       " 2800,\n",
       " 2200,\n",
       " 1400,\n",
       " 1000,\n",
       " 1500,\n",
       " 1000,\n",
       " 900,\n",
       " 1400,\n",
       " 2500,\n",
       " 3900,\n",
       " 2400,\n",
       " 1400,\n",
       " 1400,\n",
       " 800,\n",
       " 4400,\n",
       " 2400,\n",
       " 1700]"
      ]
     },
     "execution_count": 387,
     "metadata": {},
     "output_type": "execute_result"
    }
   ],
   "source": [
    "y3_adj"
   ]
  },
  {
   "cell_type": "code",
   "execution_count": 388,
   "metadata": {
    "collapsed": true
   },
   "outputs": [],
   "source": [
    "from scipy.interpolate import *"
   ]
  },
  {
   "cell_type": "code",
   "execution_count": 389,
   "metadata": {
    "collapsed": true
   },
   "outputs": [],
   "source": [
    "p2 = np.polyfit(x2, y2, 1)\n",
    "p3 = np.polyfit(x3, y3_adj, 1)"
   ]
  },
  {
   "cell_type": "code",
   "execution_count": 390,
   "metadata": {},
   "outputs": [
    {
     "data": {
      "image/png": "[encoded data removed]",
      "text/plain": [
       "<matplotlib.figure.Figure at 0x1a1f1fe4e0>"
      ]
     },
     "metadata": {},
     "output_type": "display_data"
    }
   ],
   "source": [
    "# Given the y output variables range school shootings were multiplied by 100\n",
    "plt.plot(x2,y2, color='blue', marker='o', linestyle='')\n",
    "plt.plot(x3,y3_adj, color='green', marker='^', linestyle='')\n",
    "plt.plot(x2, np.polyval(p2, x2), color='red')\n",
    "plt.plot(x3, np.polyval(p3, x3), color='gray')\n",
    "blue_patch = mpatches.Patch(label='homocides')\n",
    "orange_patch = mpatches.Patch(color='green', label='school shootings (*100)')\n",
    "plt.legend(handles=[blue_patch, orange_patch])\n",
    "plt.xlabel('year')\n",
    "plt.ylabel('number of murders')\n",
    "plt.title('Amount of Murders over Time')\n",
    "plt.show()"
   ]
  },
  {
   "cell_type": "code",
   "execution_count": 391,
   "metadata": {
    "collapsed": true
   },
   "outputs": [],
   "source": [
    "# Building a dictionary of tuples\n",
    "lists1 = crime_per_year.items()\n"
   ]
  },
  {
   "cell_type": "code",
   "execution_count": 392,
   "metadata": {
    "collapsed": true
   },
   "outputs": [],
   "source": [
    "# Unpacking the list of tuples into an x, y value\n",
    "x1, y1 = zip(*lists1)\n",
    "p1 = np.polyfit(x1, y1, 1)"
   ]
  },
  {
   "cell_type": "code",
   "execution_count": 393,
   "metadata": {},
   "outputs": [
    {
     "data": {
      "image/png": "[encoded data removed]",
      "text/plain": [
       "<matplotlib.figure.Figure at 0x1a1f1d7f60>"
      ]
     },
     "metadata": {},
     "output_type": "display_data"
    }
   ],
   "source": [
    "plt.plot(x1,y1, 'o', linestyle='')\n",
    "plt.plot(x1, np.polyval(p1, x1), color='red')\n",
    "plt.xlabel('year')\n",
    "plt.ylabel('number of crimes')\n",
    "plt.title('Amount of Violent Crime over Time')\n",
    "plt.show()"
   ]
  },
  {
   "cell_type": "code",
   "execution_count": 394,
   "metadata": {
    "collapsed": true
   },
   "outputs": [],
   "source": [
    "# Building a list of the crime values only - no keys or indexes\n",
    "crime_list = []\n",
    "for key, value in crime_per_year.items():\n",
    "    crime_list.append(value)"
   ]
  },
  {
   "cell_type": "code",
   "execution_count": 395,
   "metadata": {},
   "outputs": [
    {
     "data": {
      "text/plain": [
       "[865969.0, 900316.0, 882124.0, 866963.0, 817446.0]"
      ]
     },
     "execution_count": 395,
     "metadata": {},
     "output_type": "execute_result"
    }
   ],
   "source": [
    "crime_list[0:5]"
   ]
  },
  {
   "cell_type": "code",
   "execution_count": 396,
   "metadata": {
    "collapsed": true
   },
   "outputs": [],
   "source": [
    "# Building a list of the death values only - no keys or indexes\n",
    "death_list = []\n",
    "for key, value in fatalities_per_year.items():\n",
    "    death_list.append(value)"
   ]
  },
  {
   "cell_type": "code",
   "execution_count": 397,
   "metadata": {
    "collapsed": true
   },
   "outputs": [],
   "source": [
    "# Building a list of the murder values only - no keys or indexes\n",
    "murder_list = []\n",
    "for key, value in homocides_per_year.items():\n",
    "    murder_list.append(value)"
   ]
  },
  {
   "cell_type": "code",
   "execution_count": 398,
   "metadata": {},
   "outputs": [
    {
     "data": {
      "text/plain": [
       "[11866.0, 12288.0, 11729.0, 11919.0, 10816.0]"
      ]
     },
     "execution_count": 398,
     "metadata": {},
     "output_type": "execute_result"
    }
   ],
   "source": [
    "murder_list[0:5]"
   ]
  },
  {
   "cell_type": "code",
   "execution_count": 399,
   "metadata": {},
   "outputs": [
    {
     "data": {
      "text/plain": [
       "[2, 12, 14, 37, 23]"
      ]
     },
     "execution_count": 399,
     "metadata": {},
     "output_type": "execute_result"
    }
   ],
   "source": [
    "death_list[0:5]"
   ]
  },
  {
   "cell_type": "code",
   "execution_count": null,
   "metadata": {
    "collapsed": true
   },
   "outputs": [],
   "source": []
  },
  {
   "cell_type": "code",
   "execution_count": 400,
   "metadata": {
    "collapsed": true
   },
   "outputs": [],
   "source": [
    "# using Scipy to do some basic stats on the data that we have\n",
    "import scipy\n",
    "from scipy.stats import pearsonr\n",
    "x = scipy.array(death_list)\n",
    "y = scipy.array(crime_list)"
   ]
  },
  {
   "cell_type": "code",
   "execution_count": 401,
   "metadata": {
    "collapsed": true
   },
   "outputs": [],
   "source": [
    "r_row, p_value = pearsonr(x, y)"
   ]
  },
  {
   "cell_type": "code",
   "execution_count": 402,
   "metadata": {},
   "outputs": [
    {
     "name": "stdout",
     "output_type": "stream",
     "text": [
      "-0.106325931424 0.612961884394\n"
     ]
    }
   ],
   "source": [
    "# These values suggest little to no correlation between the volume of crime and the volume of school shootings\n",
    "print(r_row, p_value)"
   ]
  },
  {
   "cell_type": "code",
   "execution_count": 403,
   "metadata": {
    "collapsed": true
   },
   "outputs": [],
   "source": [
    "# Studying correlation between school deaths and murders\n",
    "x = scipy.array(death_list)\n",
    "y = scipy.array(murder_list)"
   ]
  },
  {
   "cell_type": "code",
   "execution_count": 404,
   "metadata": {
    "collapsed": true
   },
   "outputs": [],
   "source": [
    "r_row, p_value = pearsonr(x, y)"
   ]
  },
  {
   "cell_type": "code",
   "execution_count": 405,
   "metadata": {},
   "outputs": [
    {
     "name": "stdout",
     "output_type": "stream",
     "text": [
      "-0.0984626395738 0.639606361624\n"
     ]
    }
   ],
   "source": [
    "# These values suggest little to no correlation between the volume of crime and the volume of school shootings\n",
    "print(r_row, p_value)"
   ]
  },
  {
   "cell_type": "code",
   "execution_count": null,
   "metadata": {
    "collapsed": true
   },
   "outputs": [],
   "source": []
  },
  {
   "cell_type": "code",
   "execution_count": null,
   "metadata": {
    "collapsed": true
   },
   "outputs": [],
   "source": []
  },
  {
   "cell_type": "code",
   "execution_count": 380,
   "metadata": {
    "collapsed": true
   },
   "outputs": [],
   "source": [
    "### This is not needed but this code does create a SQLite DB"
   ]
  },
  {
   "cell_type": "code",
   "execution_count": null,
   "metadata": {
    "collapsed": true
   },
   "outputs": [],
   "source": [
    "### Doing some database prep work"
   ]
  },
  {
   "cell_type": "code",
   "execution_count": null,
   "metadata": {
    "collapsed": true
   },
   "outputs": [],
   "source": [
    "# Setting up the SQLite DB\n",
    "import sqlalchemy\n",
    "from sqlalchemy import create_engine, MetaData\n",
    "from sqlalchemy.ext.declarative import declarative_base\n",
    "from sqlalchemy import Column, Integer, String, Numeric, Text, Float"
   ]
  },
  {
   "cell_type": "code",
   "execution_count": null,
   "metadata": {
    "collapsed": true
   },
   "outputs": [],
   "source": [
    "# Create an engine to a SQLite database file called `crime_data.sqlite`\n",
    "engine = create_engine(\"sqlite:///crime_data.sqlite\")"
   ]
  },
  {
   "cell_type": "code",
   "execution_count": null,
   "metadata": {
    "collapsed": true
   },
   "outputs": [],
   "source": [
    " # Create a connection to the engine called `conn`\n",
    "conn = engine.connect()"
   ]
  },
  {
   "cell_type": "code",
   "execution_count": null,
   "metadata": {
    "collapsed": true
   },
   "outputs": [],
   "source": [
    "# Use `declarative_base` from SQLAlchemy to model the demographics table as an ORM class\n",
    "# DF columns will be used to name the columns\n",
    "Base = declarative_base()\n",
    "\n",
    "class Crime(Base):\n",
    "    __tablename__ = 'crime'\n",
    "\n",
    "    id = Column(Integer, primary_key=True)\n",
    "    report_year = Column(Integer)\n",
    "    agency_jurisdiction = Column(Text)\n",
    "    population = Column(Integer)\n",
    "    violent_crime = Column(Integer)\n",
    "   \n",
    "    def __repr__(self):\n",
    "        return f\"id={self.id}, name={self.name}\""
   ]
  },
  {
   "cell_type": "code",
   "execution_count": null,
   "metadata": {
    "collapsed": true
   },
   "outputs": [],
   "source": [
    " # Use `create_all` to create the customers table in the database\n",
    "Base.metadata.create_all(engine)"
   ]
  },
  {
   "cell_type": "code",
   "execution_count": null,
   "metadata": {
    "collapsed": true
   },
   "outputs": [],
   "source": [
    "# Use Orient='records' to create a list of data to write\n",
    "# to_dict() cleans out DataFrame metadata as well\n",
    "data = df.to_dict(orient='records')"
   ]
  },
  {
   "cell_type": "code",
   "execution_count": null,
   "metadata": {
    "collapsed": true
   },
   "outputs": [],
   "source": [
    "data[:1]"
   ]
  },
  {
   "cell_type": "code",
   "execution_count": null,
   "metadata": {
    "collapsed": true
   },
   "outputs": [],
   "source": [
    "# Use MetaData from SQLAlchemy to reflect the tables\n",
    "metadata = MetaData(bind=engine)\n",
    "metadata.reflect()"
   ]
  },
  {
   "cell_type": "code",
   "execution_count": null,
   "metadata": {
    "collapsed": true
   },
   "outputs": [],
   "source": [
    "# Save the reference to the `crime` table as a variable called `table`\n",
    "table = sqlalchemy.Table('crime', metadata, autoload=True)"
   ]
  },
  {
   "cell_type": "code",
   "execution_count": null,
   "metadata": {
    "collapsed": true
   },
   "outputs": [],
   "source": [
    "conn.execute(table.delete())"
   ]
  },
  {
   "cell_type": "code",
   "execution_count": null,
   "metadata": {
    "collapsed": true
   },
   "outputs": [],
   "source": [
    "conn.execute(table.insert(), data)"
   ]
  },
  {
   "cell_type": "code",
   "execution_count": null,
   "metadata": {
    "collapsed": true
   },
   "outputs": [],
   "source": [
    "# Test that the insert works by fetching the first 5 rows. \n",
    "conn.execute(\"select * from crime limit 5\").fetchall()"
   ]
  },
  {
   "cell_type": "code",
   "execution_count": null,
   "metadata": {
    "collapsed": true
   },
   "outputs": [],
   "source": []
  }
 ],
 "metadata": {
  "kernelspec": {
   "display_name": "Python 3",
   "language": "python",
   "name": "python3"
  },
  "language_info": {
   "codemirror_mode": {
    "name": "ipython",
    "version": 3
   },
   "file_extension": ".py",
   "mimetype": "text/x-python",
   "name": "python",
   "nbconvert_exporter": "python",
   "pygments_lexer": "ipython3",
   "version": "3.6.3"
  }
 },
 "nbformat": 4,
 "nbformat_minor": 2
}
