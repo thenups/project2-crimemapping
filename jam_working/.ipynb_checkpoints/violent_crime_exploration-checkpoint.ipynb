{
 "cells": [
  {
   "cell_type": "markdown",
   "metadata": {},
   "source": [
    "# Violent Crime Dataset Exploration"
   ]
  },
  {
   "cell_type": "markdown",
   "metadata": {},
   "source": [
    "### Dependencies"
   ]
  },
  {
   "cell_type": "code",
   "execution_count": 2,
   "metadata": {
    "collapsed": true
   },
   "outputs": [],
   "source": [
    "import pandas as pd\n",
    "import numpy as np\n",
    "import matplotlib.pyplot as plt"
   ]
  },
  {
   "cell_type": "markdown",
   "metadata": {},
   "source": [
    "### Read in CSV and create DataFrame"
   ]
  },
  {
   "cell_type": "code",
   "execution_count": 2,
   "metadata": {
    "collapsed": true
   },
   "outputs": [],
   "source": [
    "filepath = \"cleaned_crime_by_jurisdiction.csv\"\n",
    "csv = pd.read_csv(filepath)\n",
    "df = pd.DataFrame(csv)"
   ]
  },
  {
   "cell_type": "markdown",
   "metadata": {},
   "source": [
    "### View head"
   ]
  },
  {
   "cell_type": "code",
   "execution_count": 3,
   "metadata": {},
   "outputs": [
    {
     "data": {
      "text/html": [
       "<div>\n",
       "<style>\n",
       "    .dataframe thead tr:only-child th {\n",
       "        text-align: right;\n",
       "    }\n",
       "\n",
       "    .dataframe thead th {\n",
       "        text-align: left;\n",
       "    }\n",
       "\n",
       "    .dataframe tbody tr th {\n",
       "        vertical-align: top;\n",
       "    }\n",
       "</style>\n",
       "<table border=\"1\" class=\"dataframe\">\n",
       "  <thead>\n",
       "    <tr style=\"text-align: right;\">\n",
       "      <th></th>\n",
       "      <th>report_year</th>\n",
       "      <th>agency_code</th>\n",
       "      <th>agency_jurisdiction</th>\n",
       "      <th>population</th>\n",
       "      <th>violent_crimes</th>\n",
       "      <th>homicides</th>\n",
       "      <th>rapes</th>\n",
       "      <th>assaults</th>\n",
       "      <th>robberies</th>\n",
       "      <th>crimes_percapita</th>\n",
       "      <th>homicides_percapita</th>\n",
       "      <th>rapes_percapita</th>\n",
       "      <th>assaults_percapita</th>\n",
       "      <th>robberies_percapita</th>\n",
       "      <th>state</th>\n",
       "    </tr>\n",
       "  </thead>\n",
       "  <tbody>\n",
       "    <tr>\n",
       "      <th>0</th>\n",
       "      <td>1990</td>\n",
       "      <td>NM00101</td>\n",
       "      <td>Albuquerque, NM</td>\n",
       "      <td>384736.0</td>\n",
       "      <td>5121.0</td>\n",
       "      <td>34.0</td>\n",
       "      <td>222.0</td>\n",
       "      <td>3835.0</td>\n",
       "      <td>1030.0</td>\n",
       "      <td>1331.04</td>\n",
       "      <td>8.84</td>\n",
       "      <td>57.70</td>\n",
       "      <td>996.79</td>\n",
       "      <td>267.72</td>\n",
       "      <td>NM</td>\n",
       "    </tr>\n",
       "    <tr>\n",
       "      <th>1</th>\n",
       "      <td>1990</td>\n",
       "      <td>TX22001</td>\n",
       "      <td>Arlington, TX</td>\n",
       "      <td>261721.0</td>\n",
       "      <td>1876.0</td>\n",
       "      <td>8.0</td>\n",
       "      <td>139.0</td>\n",
       "      <td>1143.0</td>\n",
       "      <td>586.0</td>\n",
       "      <td>716.79</td>\n",
       "      <td>3.06</td>\n",
       "      <td>53.11</td>\n",
       "      <td>436.72</td>\n",
       "      <td>223.90</td>\n",
       "      <td>TX</td>\n",
       "    </tr>\n",
       "    <tr>\n",
       "      <th>2</th>\n",
       "      <td>1990</td>\n",
       "      <td>GAAPD00</td>\n",
       "      <td>Atlanta, GA</td>\n",
       "      <td>394017.0</td>\n",
       "      <td>16097.0</td>\n",
       "      <td>231.0</td>\n",
       "      <td>695.0</td>\n",
       "      <td>9062.0</td>\n",
       "      <td>6109.0</td>\n",
       "      <td>4085.36</td>\n",
       "      <td>58.63</td>\n",
       "      <td>176.39</td>\n",
       "      <td>2299.90</td>\n",
       "      <td>1550.44</td>\n",
       "      <td>GA</td>\n",
       "    </tr>\n",
       "    <tr>\n",
       "      <th>3</th>\n",
       "      <td>1990</td>\n",
       "      <td>CO00101</td>\n",
       "      <td>Aurora, CO</td>\n",
       "      <td>222103.0</td>\n",
       "      <td>3191.0</td>\n",
       "      <td>8.0</td>\n",
       "      <td>170.0</td>\n",
       "      <td>2616.0</td>\n",
       "      <td>397.0</td>\n",
       "      <td>1436.72</td>\n",
       "      <td>3.60</td>\n",
       "      <td>76.54</td>\n",
       "      <td>1177.83</td>\n",
       "      <td>178.75</td>\n",
       "      <td>CO</td>\n",
       "    </tr>\n",
       "    <tr>\n",
       "      <th>4</th>\n",
       "      <td>1990</td>\n",
       "      <td>TX22701</td>\n",
       "      <td>Austin, TX</td>\n",
       "      <td>465622.0</td>\n",
       "      <td>3326.0</td>\n",
       "      <td>46.0</td>\n",
       "      <td>280.0</td>\n",
       "      <td>1539.0</td>\n",
       "      <td>1461.0</td>\n",
       "      <td>714.31</td>\n",
       "      <td>9.88</td>\n",
       "      <td>60.13</td>\n",
       "      <td>330.53</td>\n",
       "      <td>313.77</td>\n",
       "      <td>TX</td>\n",
       "    </tr>\n",
       "  </tbody>\n",
       "</table>\n",
       "</div>"
      ],
      "text/plain": [
       "   report_year agency_code agency_jurisdiction  population  violent_crimes  \\\n",
       "0         1990     NM00101     Albuquerque, NM    384736.0          5121.0   \n",
       "1         1990     TX22001       Arlington, TX    261721.0          1876.0   \n",
       "2         1990     GAAPD00         Atlanta, GA    394017.0         16097.0   \n",
       "3         1990     CO00101          Aurora, CO    222103.0          3191.0   \n",
       "4         1990     TX22701          Austin, TX    465622.0          3326.0   \n",
       "\n",
       "   homicides  rapes  assaults  robberies  crimes_percapita  \\\n",
       "0       34.0  222.0    3835.0     1030.0           1331.04   \n",
       "1        8.0  139.0    1143.0      586.0            716.79   \n",
       "2      231.0  695.0    9062.0     6109.0           4085.36   \n",
       "3        8.0  170.0    2616.0      397.0           1436.72   \n",
       "4       46.0  280.0    1539.0     1461.0            714.31   \n",
       "\n",
       "   homicides_percapita  rapes_percapita  assaults_percapita  \\\n",
       "0                 8.84            57.70              996.79   \n",
       "1                 3.06            53.11              436.72   \n",
       "2                58.63           176.39             2299.90   \n",
       "3                 3.60            76.54             1177.83   \n",
       "4                 9.88            60.13              330.53   \n",
       "\n",
       "   robberies_percapita state  \n",
       "0               267.72    NM  \n",
       "1               223.90    TX  \n",
       "2              1550.44    GA  \n",
       "3               178.75    CO  \n",
       "4               313.77    TX  "
      ]
     },
     "execution_count": 3,
     "metadata": {},
     "output_type": "execute_result"
    }
   ],
   "source": [
    "df.head()"
   ]
  },
  {
   "cell_type": "markdown",
   "metadata": {},
   "source": [
    "### Determine jurisdictions with highest mean crimes_percapita over all years"
   ]
  },
  {
   "cell_type": "code",
   "execution_count": 4,
   "metadata": {},
   "outputs": [
    {
     "data": {
      "text/plain": [
       "agency_jurisdiction\n",
       "St. Louis, MO                 2463.630000\n",
       "Atlanta, GA                   2382.787308\n",
       "Detroit, MI                   2263.590385\n",
       "Miami, FL                     2196.326923\n",
       "Baltimore, MD                 2086.754615\n",
       "Newark, NJ                    1922.306538\n",
       "Tampa, FL                     1883.245769\n",
       "Oakland, CA                   1823.308077\n",
       "Chicago, IL                   1765.390769\n",
       "Washington, DC                1747.042692\n",
       "Kansas City, MO               1744.826154\n",
       "Orlando, FL                   1729.573846\n",
       "Memphis, TN                   1678.066923\n",
       "Nashville, TN                 1485.658462\n",
       "Cleveland, OH                 1456.494000\n",
       "Buffalo, NY                   1431.170000\n",
       "Minneapolis, MN               1371.485385\n",
       "Boston, MA                    1331.079615\n",
       "Philadelphia, PA              1327.703462\n",
       "Dallas, TX                    1306.570000\n",
       "New Orleans, LA               1301.461154\n",
       "Los Angeles, CA               1274.272692\n",
       "Charlotte, NC                 1268.121923\n",
       "Indianapolis, IN              1250.363077\n",
       "Houston, TX                   1182.031154\n",
       "Cincinnati, OH                1164.097083\n",
       "Tulsa, OK                     1149.771923\n",
       "Albuquerque, NM               1106.578077\n",
       "Milwaukee, WI                 1102.027308\n",
       "Miami-Dade County, FL         1095.015769\n",
       "                                 ...     \n",
       "Prince George's County, MD     946.225000\n",
       "Long Beach, CA                 930.396154\n",
       "Fresno, CA                     926.119231\n",
       "Fort Worth, TX                 901.593077\n",
       "Tucson, AZ                     883.308462\n",
       "Las Vegas, NV                  871.106154\n",
       "Columbus, OH                   847.285000\n",
       "Seattle, WA                    825.680769\n",
       "Omaha, NE                      804.686154\n",
       "Baltimore County, MD           797.840000\n",
       "Phoenix, AZ                    791.386923\n",
       "Wichita, KS                    779.924231\n",
       "Salt Lake City, UT             756.027308\n",
       "Aurora, CO                     749.741923\n",
       "Denver, CO                     709.062308\n",
       "San Diego, CA                  673.554231\n",
       "Raleigh, NC                    663.841538\n",
       "El Paso, TX                    653.926154\n",
       "Arlington, TX                  650.366923\n",
       "San Antonio, TX                612.857692\n",
       "Louisville, KY                 600.059231\n",
       "Mesa, AZ                       571.704231\n",
       "Austin, TX                     529.665000\n",
       "San Jose, CA                   501.784615\n",
       "Honolulu, HI                   273.843077\n",
       "Montgomery County, MD          229.415385\n",
       "Virginia Beach, VA             223.622308\n",
       "Suffolk County, NY             183.198846\n",
       "Nassau County, NY              165.747692\n",
       "Fairfax County, VA              84.597692\n",
       "Name: crimes_percapita, Length: 68, dtype: float64"
      ]
     },
     "execution_count": 4,
     "metadata": {},
     "output_type": "execute_result"
    }
   ],
   "source": [
    "df.groupby('agency_jurisdiction').crimes_percapita.mean().sort_values(ascending=False)"
   ]
  },
  {
   "cell_type": "markdown",
   "metadata": {},
   "source": [
    "### City search for above grouped dataframe"
   ]
  },
  {
   "cell_type": "code",
   "execution_count": 5,
   "metadata": {},
   "outputs": [
    {
     "name": "stdout",
     "output_type": "stream",
     "text": [
      "agency_jurisdiction    Jacksonville, FL\n",
      "crimes_percapita                1071.32\n",
      "Name: 32, dtype: object\n"
     ]
    }
   ],
   "source": [
    "search_term = \"Jacksonville\"\n",
    "ranked = pd.DataFrame(df.groupby('agency_jurisdiction').crimes_percapita.mean().sort_values(ascending=False).reset_index())\n",
    "for index, row in ranked.iterrows():\n",
    "    if search_term in row['agency_jurisdiction']:\n",
    "        print(row)"
   ]
  },
  {
   "cell_type": "code",
   "execution_count": 6,
   "metadata": {
    "collapsed": true
   },
   "outputs": [],
   "source": [
    "### Plotting and stats analysis"
   ]
  },
  {
   "cell_type": "code",
   "execution_count": 7,
   "metadata": {},
   "outputs": [
    {
     "data": {
      "text/html": [
       "<div>\n",
       "<style>\n",
       "    .dataframe thead tr:only-child th {\n",
       "        text-align: right;\n",
       "    }\n",
       "\n",
       "    .dataframe thead th {\n",
       "        text-align: left;\n",
       "    }\n",
       "\n",
       "    .dataframe tbody tr th {\n",
       "        vertical-align: top;\n",
       "    }\n",
       "</style>\n",
       "<table border=\"1\" class=\"dataframe\">\n",
       "  <thead>\n",
       "    <tr style=\"text-align: right;\">\n",
       "      <th></th>\n",
       "      <th>report_year</th>\n",
       "      <th>agency_code</th>\n",
       "      <th>agency_jurisdiction</th>\n",
       "      <th>population</th>\n",
       "      <th>violent_crimes</th>\n",
       "      <th>homicides</th>\n",
       "      <th>rapes</th>\n",
       "      <th>assaults</th>\n",
       "      <th>robberies</th>\n",
       "      <th>crimes_percapita</th>\n",
       "      <th>homicides_percapita</th>\n",
       "      <th>rapes_percapita</th>\n",
       "      <th>assaults_percapita</th>\n",
       "      <th>robberies_percapita</th>\n",
       "      <th>state</th>\n",
       "    </tr>\n",
       "  </thead>\n",
       "  <tbody>\n",
       "    <tr>\n",
       "      <th>0</th>\n",
       "      <td>1990</td>\n",
       "      <td>NM00101</td>\n",
       "      <td>Albuquerque, NM</td>\n",
       "      <td>384736.0</td>\n",
       "      <td>5121.0</td>\n",
       "      <td>34.0</td>\n",
       "      <td>222.0</td>\n",
       "      <td>3835.0</td>\n",
       "      <td>1030.0</td>\n",
       "      <td>1331.04</td>\n",
       "      <td>8.84</td>\n",
       "      <td>57.70</td>\n",
       "      <td>996.79</td>\n",
       "      <td>267.72</td>\n",
       "      <td>NM</td>\n",
       "    </tr>\n",
       "    <tr>\n",
       "      <th>1</th>\n",
       "      <td>1990</td>\n",
       "      <td>TX22001</td>\n",
       "      <td>Arlington, TX</td>\n",
       "      <td>261721.0</td>\n",
       "      <td>1876.0</td>\n",
       "      <td>8.0</td>\n",
       "      <td>139.0</td>\n",
       "      <td>1143.0</td>\n",
       "      <td>586.0</td>\n",
       "      <td>716.79</td>\n",
       "      <td>3.06</td>\n",
       "      <td>53.11</td>\n",
       "      <td>436.72</td>\n",
       "      <td>223.90</td>\n",
       "      <td>TX</td>\n",
       "    </tr>\n",
       "    <tr>\n",
       "      <th>2</th>\n",
       "      <td>1990</td>\n",
       "      <td>GAAPD00</td>\n",
       "      <td>Atlanta, GA</td>\n",
       "      <td>394017.0</td>\n",
       "      <td>16097.0</td>\n",
       "      <td>231.0</td>\n",
       "      <td>695.0</td>\n",
       "      <td>9062.0</td>\n",
       "      <td>6109.0</td>\n",
       "      <td>4085.36</td>\n",
       "      <td>58.63</td>\n",
       "      <td>176.39</td>\n",
       "      <td>2299.90</td>\n",
       "      <td>1550.44</td>\n",
       "      <td>GA</td>\n",
       "    </tr>\n",
       "    <tr>\n",
       "      <th>3</th>\n",
       "      <td>1990</td>\n",
       "      <td>CO00101</td>\n",
       "      <td>Aurora, CO</td>\n",
       "      <td>222103.0</td>\n",
       "      <td>3191.0</td>\n",
       "      <td>8.0</td>\n",
       "      <td>170.0</td>\n",
       "      <td>2616.0</td>\n",
       "      <td>397.0</td>\n",
       "      <td>1436.72</td>\n",
       "      <td>3.60</td>\n",
       "      <td>76.54</td>\n",
       "      <td>1177.83</td>\n",
       "      <td>178.75</td>\n",
       "      <td>CO</td>\n",
       "    </tr>\n",
       "    <tr>\n",
       "      <th>4</th>\n",
       "      <td>1990</td>\n",
       "      <td>TX22701</td>\n",
       "      <td>Austin, TX</td>\n",
       "      <td>465622.0</td>\n",
       "      <td>3326.0</td>\n",
       "      <td>46.0</td>\n",
       "      <td>280.0</td>\n",
       "      <td>1539.0</td>\n",
       "      <td>1461.0</td>\n",
       "      <td>714.31</td>\n",
       "      <td>9.88</td>\n",
       "      <td>60.13</td>\n",
       "      <td>330.53</td>\n",
       "      <td>313.77</td>\n",
       "      <td>TX</td>\n",
       "    </tr>\n",
       "  </tbody>\n",
       "</table>\n",
       "</div>"
      ],
      "text/plain": [
       "   report_year agency_code agency_jurisdiction  population  violent_crimes  \\\n",
       "0         1990     NM00101     Albuquerque, NM    384736.0          5121.0   \n",
       "1         1990     TX22001       Arlington, TX    261721.0          1876.0   \n",
       "2         1990     GAAPD00         Atlanta, GA    394017.0         16097.0   \n",
       "3         1990     CO00101          Aurora, CO    222103.0          3191.0   \n",
       "4         1990     TX22701          Austin, TX    465622.0          3326.0   \n",
       "\n",
       "   homicides  rapes  assaults  robberies  crimes_percapita  \\\n",
       "0       34.0  222.0    3835.0     1030.0           1331.04   \n",
       "1        8.0  139.0    1143.0      586.0            716.79   \n",
       "2      231.0  695.0    9062.0     6109.0           4085.36   \n",
       "3        8.0  170.0    2616.0      397.0           1436.72   \n",
       "4       46.0  280.0    1539.0     1461.0            714.31   \n",
       "\n",
       "   homicides_percapita  rapes_percapita  assaults_percapita  \\\n",
       "0                 8.84            57.70              996.79   \n",
       "1                 3.06            53.11              436.72   \n",
       "2                58.63           176.39             2299.90   \n",
       "3                 3.60            76.54             1177.83   \n",
       "4                 9.88            60.13              330.53   \n",
       "\n",
       "   robberies_percapita state  \n",
       "0               267.72    NM  \n",
       "1               223.90    TX  \n",
       "2              1550.44    GA  \n",
       "3               178.75    CO  \n",
       "4               313.77    TX  "
      ]
     },
     "execution_count": 7,
     "metadata": {},
     "output_type": "execute_result"
    }
   ],
   "source": [
    "df.head()"
   ]
  },
  {
   "cell_type": "code",
   "execution_count": 8,
   "metadata": {
    "collapsed": true
   },
   "outputs": [],
   "source": [
    "df_new = df[['report_year', 'population', 'violent_crimes', 'homicides', 'state']]"
   ]
  },
  {
   "cell_type": "code",
   "execution_count": 9,
   "metadata": {},
   "outputs": [
    {
     "data": {
      "text/html": [
       "<div>\n",
       "<style>\n",
       "    .dataframe thead tr:only-child th {\n",
       "        text-align: right;\n",
       "    }\n",
       "\n",
       "    .dataframe thead th {\n",
       "        text-align: left;\n",
       "    }\n",
       "\n",
       "    .dataframe tbody tr th {\n",
       "        vertical-align: top;\n",
       "    }\n",
       "</style>\n",
       "<table border=\"1\" class=\"dataframe\">\n",
       "  <thead>\n",
       "    <tr style=\"text-align: right;\">\n",
       "      <th></th>\n",
       "      <th>report_year</th>\n",
       "      <th>population</th>\n",
       "      <th>violent_crimes</th>\n",
       "      <th>homicides</th>\n",
       "      <th>state</th>\n",
       "    </tr>\n",
       "  </thead>\n",
       "  <tbody>\n",
       "    <tr>\n",
       "      <th>0</th>\n",
       "      <td>1990</td>\n",
       "      <td>384736.0</td>\n",
       "      <td>5121.0</td>\n",
       "      <td>34.0</td>\n",
       "      <td>NM</td>\n",
       "    </tr>\n",
       "    <tr>\n",
       "      <th>1</th>\n",
       "      <td>1990</td>\n",
       "      <td>261721.0</td>\n",
       "      <td>1876.0</td>\n",
       "      <td>8.0</td>\n",
       "      <td>TX</td>\n",
       "    </tr>\n",
       "    <tr>\n",
       "      <th>2</th>\n",
       "      <td>1990</td>\n",
       "      <td>394017.0</td>\n",
       "      <td>16097.0</td>\n",
       "      <td>231.0</td>\n",
       "      <td>GA</td>\n",
       "    </tr>\n",
       "    <tr>\n",
       "      <th>3</th>\n",
       "      <td>1990</td>\n",
       "      <td>222103.0</td>\n",
       "      <td>3191.0</td>\n",
       "      <td>8.0</td>\n",
       "      <td>CO</td>\n",
       "    </tr>\n",
       "    <tr>\n",
       "      <th>4</th>\n",
       "      <td>1990</td>\n",
       "      <td>465622.0</td>\n",
       "      <td>3326.0</td>\n",
       "      <td>46.0</td>\n",
       "      <td>TX</td>\n",
       "    </tr>\n",
       "  </tbody>\n",
       "</table>\n",
       "</div>"
      ],
      "text/plain": [
       "   report_year  population  violent_crimes  homicides state\n",
       "0         1990    384736.0          5121.0       34.0    NM\n",
       "1         1990    261721.0          1876.0        8.0    TX\n",
       "2         1990    394017.0         16097.0      231.0    GA\n",
       "3         1990    222103.0          3191.0        8.0    CO\n",
       "4         1990    465622.0          3326.0       46.0    TX"
      ]
     },
     "execution_count": 9,
     "metadata": {},
     "output_type": "execute_result"
    }
   ],
   "source": [
    "df_new.head()"
   ]
  },
  {
   "cell_type": "code",
   "execution_count": 10,
   "metadata": {
    "collapsed": true
   },
   "outputs": [],
   "source": [
    "df_new_top_violent = df_new.groupby(['state', 'report_year']).sum()"
   ]
  },
  {
   "cell_type": "code",
   "execution_count": 11,
   "metadata": {},
   "outputs": [
    {
     "data": {
      "text/html": [
       "<div>\n",
       "<style>\n",
       "    .dataframe thead tr:only-child th {\n",
       "        text-align: right;\n",
       "    }\n",
       "\n",
       "    .dataframe thead th {\n",
       "        text-align: left;\n",
       "    }\n",
       "\n",
       "    .dataframe tbody tr th {\n",
       "        vertical-align: top;\n",
       "    }\n",
       "</style>\n",
       "<table border=\"1\" class=\"dataframe\">\n",
       "  <thead>\n",
       "    <tr style=\"text-align: right;\">\n",
       "      <th></th>\n",
       "      <th></th>\n",
       "      <th>population</th>\n",
       "      <th>violent_crimes</th>\n",
       "      <th>homicides</th>\n",
       "    </tr>\n",
       "    <tr>\n",
       "      <th>state</th>\n",
       "      <th>report_year</th>\n",
       "      <th></th>\n",
       "      <th></th>\n",
       "      <th></th>\n",
       "    </tr>\n",
       "  </thead>\n",
       "  <tbody>\n",
       "    <tr>\n",
       "      <th rowspan=\"5\" valign=\"top\">AZ</th>\n",
       "      <th>1990</th>\n",
       "      <td>1676884.0</td>\n",
       "      <td>16069.0</td>\n",
       "      <td>167.0</td>\n",
       "    </tr>\n",
       "    <tr>\n",
       "      <th>1991</th>\n",
       "      <td>1705415.0</td>\n",
       "      <td>16964.0</td>\n",
       "      <td>167.0</td>\n",
       "    </tr>\n",
       "    <tr>\n",
       "      <th>1992</th>\n",
       "      <td>1724936.0</td>\n",
       "      <td>17288.0</td>\n",
       "      <td>187.0</td>\n",
       "    </tr>\n",
       "    <tr>\n",
       "      <th>1993</th>\n",
       "      <td>1770408.0</td>\n",
       "      <td>18609.0</td>\n",
       "      <td>208.0</td>\n",
       "    </tr>\n",
       "    <tr>\n",
       "      <th>1994</th>\n",
       "      <td>1832966.0</td>\n",
       "      <td>18873.0</td>\n",
       "      <td>285.0</td>\n",
       "    </tr>\n",
       "  </tbody>\n",
       "</table>\n",
       "</div>"
      ],
      "text/plain": [
       "                   population  violent_crimes  homicides\n",
       "state report_year                                       \n",
       "AZ    1990          1676884.0         16069.0      167.0\n",
       "      1991          1705415.0         16964.0      167.0\n",
       "      1992          1724936.0         17288.0      187.0\n",
       "      1993          1770408.0         18609.0      208.0\n",
       "      1994          1832966.0         18873.0      285.0"
      ]
     },
     "execution_count": 11,
     "metadata": {},
     "output_type": "execute_result"
    }
   ],
   "source": [
    "df_new_top_violent.head()"
   ]
  },
  {
   "cell_type": "code",
   "execution_count": 12,
   "metadata": {
    "collapsed": true
   },
   "outputs": [],
   "source": [
    "df_new_top_violent = df_new_top_violent.reset_index('report_year')"
   ]
  },
  {
   "cell_type": "code",
   "execution_count": 13,
   "metadata": {},
   "outputs": [
    {
     "data": {
      "text/html": [
       "<div>\n",
       "<style>\n",
       "    .dataframe thead tr:only-child th {\n",
       "        text-align: right;\n",
       "    }\n",
       "\n",
       "    .dataframe thead th {\n",
       "        text-align: left;\n",
       "    }\n",
       "\n",
       "    .dataframe tbody tr th {\n",
       "        vertical-align: top;\n",
       "    }\n",
       "</style>\n",
       "<table border=\"1\" class=\"dataframe\">\n",
       "  <thead>\n",
       "    <tr style=\"text-align: right;\">\n",
       "      <th></th>\n",
       "      <th>report_year</th>\n",
       "      <th>population</th>\n",
       "      <th>violent_crimes</th>\n",
       "      <th>homicides</th>\n",
       "    </tr>\n",
       "    <tr>\n",
       "      <th>state</th>\n",
       "      <th></th>\n",
       "      <th></th>\n",
       "      <th></th>\n",
       "      <th></th>\n",
       "    </tr>\n",
       "  </thead>\n",
       "  <tbody>\n",
       "    <tr>\n",
       "      <th>AZ</th>\n",
       "      <td>1990</td>\n",
       "      <td>1676884.0</td>\n",
       "      <td>16069.0</td>\n",
       "      <td>167.0</td>\n",
       "    </tr>\n",
       "    <tr>\n",
       "      <th>AZ</th>\n",
       "      <td>1991</td>\n",
       "      <td>1705415.0</td>\n",
       "      <td>16964.0</td>\n",
       "      <td>167.0</td>\n",
       "    </tr>\n",
       "    <tr>\n",
       "      <th>AZ</th>\n",
       "      <td>1992</td>\n",
       "      <td>1724936.0</td>\n",
       "      <td>17288.0</td>\n",
       "      <td>187.0</td>\n",
       "    </tr>\n",
       "    <tr>\n",
       "      <th>AZ</th>\n",
       "      <td>1993</td>\n",
       "      <td>1770408.0</td>\n",
       "      <td>18609.0</td>\n",
       "      <td>208.0</td>\n",
       "    </tr>\n",
       "    <tr>\n",
       "      <th>AZ</th>\n",
       "      <td>1994</td>\n",
       "      <td>1832966.0</td>\n",
       "      <td>18873.0</td>\n",
       "      <td>285.0</td>\n",
       "    </tr>\n",
       "    <tr>\n",
       "      <th>AZ</th>\n",
       "      <td>1995</td>\n",
       "      <td>1860341.0</td>\n",
       "      <td>19655.0</td>\n",
       "      <td>296.0</td>\n",
       "    </tr>\n",
       "    <tr>\n",
       "      <th>AZ</th>\n",
       "      <td>1996</td>\n",
       "      <td>1952996.0</td>\n",
       "      <td>18187.0</td>\n",
       "      <td>250.0</td>\n",
       "    </tr>\n",
       "    <tr>\n",
       "      <th>AZ</th>\n",
       "      <td>1997</td>\n",
       "      <td>2009063.0</td>\n",
       "      <td>18046.0</td>\n",
       "      <td>238.0</td>\n",
       "    </tr>\n",
       "    <tr>\n",
       "      <th>AZ</th>\n",
       "      <td>1998</td>\n",
       "      <td>2057957.0</td>\n",
       "      <td>17448.0</td>\n",
       "      <td>241.0</td>\n",
       "    </tr>\n",
       "    <tr>\n",
       "      <th>AZ</th>\n",
       "      <td>1999</td>\n",
       "      <td>2065704.0</td>\n",
       "      <td>16638.0</td>\n",
       "      <td>259.0</td>\n",
       "    </tr>\n",
       "    <tr>\n",
       "      <th>AZ</th>\n",
       "      <td>2000</td>\n",
       "      <td>2204119.0</td>\n",
       "      <td>16689.0</td>\n",
       "      <td>227.0</td>\n",
       "    </tr>\n",
       "    <tr>\n",
       "      <th>AZ</th>\n",
       "      <td>2001</td>\n",
       "      <td>2280029.0</td>\n",
       "      <td>17871.0</td>\n",
       "      <td>268.0</td>\n",
       "    </tr>\n",
       "    <tr>\n",
       "      <th>AZ</th>\n",
       "      <td>2002</td>\n",
       "      <td>2344092.0</td>\n",
       "      <td>17819.0</td>\n",
       "      <td>246.0</td>\n",
       "    </tr>\n",
       "    <tr>\n",
       "      <th>AZ</th>\n",
       "      <td>2003</td>\n",
       "      <td>2354415.0</td>\n",
       "      <td>16777.0</td>\n",
       "      <td>302.0</td>\n",
       "    </tr>\n",
       "    <tr>\n",
       "      <th>AZ</th>\n",
       "      <td>2004</td>\n",
       "      <td>2396466.0</td>\n",
       "      <td>16838.0</td>\n",
       "      <td>279.0</td>\n",
       "    </tr>\n",
       "    <tr>\n",
       "      <th>AZ</th>\n",
       "      <td>2005</td>\n",
       "      <td>2448083.0</td>\n",
       "      <td>18019.0</td>\n",
       "      <td>304.0</td>\n",
       "    </tr>\n",
       "    <tr>\n",
       "      <th>AZ</th>\n",
       "      <td>2006</td>\n",
       "      <td>2512380.0</td>\n",
       "      <td>17859.0</td>\n",
       "      <td>312.0</td>\n",
       "    </tr>\n",
       "    <tr>\n",
       "      <th>AZ</th>\n",
       "      <td>2007</td>\n",
       "      <td>2519573.0</td>\n",
       "      <td>17485.0</td>\n",
       "      <td>283.0</td>\n",
       "    </tr>\n",
       "    <tr>\n",
       "      <th>AZ</th>\n",
       "      <td>2008</td>\n",
       "      <td>2571576.0</td>\n",
       "      <td>17006.0</td>\n",
       "      <td>248.0</td>\n",
       "    </tr>\n",
       "    <tr>\n",
       "      <th>AZ</th>\n",
       "      <td>2009</td>\n",
       "      <td>2616211.0</td>\n",
       "      <td>14290.0</td>\n",
       "      <td>171.0</td>\n",
       "    </tr>\n",
       "    <tr>\n",
       "      <th>AZ</th>\n",
       "      <td>2010</td>\n",
       "      <td>2404789.0</td>\n",
       "      <td>13122.0</td>\n",
       "      <td>182.0</td>\n",
       "    </tr>\n",
       "    <tr>\n",
       "      <th>AZ</th>\n",
       "      <td>2011</td>\n",
       "      <td>2438832.0</td>\n",
       "      <td>13366.0</td>\n",
       "      <td>184.0</td>\n",
       "    </tr>\n",
       "    <tr>\n",
       "      <th>AZ</th>\n",
       "      <td>2012</td>\n",
       "      <td>2468435.0</td>\n",
       "      <td>15112.0</td>\n",
       "      <td>179.0</td>\n",
       "    </tr>\n",
       "    <tr>\n",
       "      <th>AZ</th>\n",
       "      <td>2013</td>\n",
       "      <td>2483780.0</td>\n",
       "      <td>14667.0</td>\n",
       "      <td>187.0</td>\n",
       "    </tr>\n",
       "    <tr>\n",
       "      <th>AZ</th>\n",
       "      <td>2014</td>\n",
       "      <td>2519272.0</td>\n",
       "      <td>14311.0</td>\n",
       "      <td>162.0</td>\n",
       "    </tr>\n",
       "    <tr>\n",
       "      <th>AZ</th>\n",
       "      <td>2015</td>\n",
       "      <td>2560453.0</td>\n",
       "      <td>14705.0</td>\n",
       "      <td>159.0</td>\n",
       "    </tr>\n",
       "    <tr>\n",
       "      <th>CA</th>\n",
       "      <td>1990</td>\n",
       "      <td>8598016.0</td>\n",
       "      <td>152971.0</td>\n",
       "      <td>1830.0</td>\n",
       "    </tr>\n",
       "    <tr>\n",
       "      <th>CA</th>\n",
       "      <td>1991</td>\n",
       "      <td>8777427.0</td>\n",
       "      <td>166338.0</td>\n",
       "      <td>1929.0</td>\n",
       "    </tr>\n",
       "    <tr>\n",
       "      <th>CA</th>\n",
       "      <td>1992</td>\n",
       "      <td>8834162.0</td>\n",
       "      <td>168646.0</td>\n",
       "      <td>2023.0</td>\n",
       "    </tr>\n",
       "    <tr>\n",
       "      <th>CA</th>\n",
       "      <td>1993</td>\n",
       "      <td>8765967.0</td>\n",
       "      <td>159186.0</td>\n",
       "      <td>2060.0</td>\n",
       "    </tr>\n",
       "    <tr>\n",
       "      <th>CA</th>\n",
       "      <td>1994</td>\n",
       "      <td>8827974.0</td>\n",
       "      <td>143082.0</td>\n",
       "      <td>1657.0</td>\n",
       "    </tr>\n",
       "    <tr>\n",
       "      <th>CA</th>\n",
       "      <td>1995</td>\n",
       "      <td>8724888.0</td>\n",
       "      <td>137198.0</td>\n",
       "      <td>1650.0</td>\n",
       "    </tr>\n",
       "    <tr>\n",
       "      <th>CA</th>\n",
       "      <td>1996</td>\n",
       "      <td>8804929.0</td>\n",
       "      <td>124126.0</td>\n",
       "      <td>1377.0</td>\n",
       "    </tr>\n",
       "    <tr>\n",
       "      <th>CA</th>\n",
       "      <td>1997</td>\n",
       "      <td>8912997.0</td>\n",
       "      <td>113429.0</td>\n",
       "      <td>1147.0</td>\n",
       "    </tr>\n",
       "    <tr>\n",
       "      <th>CA</th>\n",
       "      <td>1998</td>\n",
       "      <td>8972797.0</td>\n",
       "      <td>99042.0</td>\n",
       "      <td>863.0</td>\n",
       "    </tr>\n",
       "    <tr>\n",
       "      <th>CA</th>\n",
       "      <td>1999</td>\n",
       "      <td>9145835.0</td>\n",
       "      <td>91012.0</td>\n",
       "      <td>874.0</td>\n",
       "    </tr>\n",
       "    <tr>\n",
       "      <th>CA</th>\n",
       "      <td>2000</td>\n",
       "      <td>9272569.0</td>\n",
       "      <td>93443.0</td>\n",
       "      <td>985.0</td>\n",
       "    </tr>\n",
       "    <tr>\n",
       "      <th>CA</th>\n",
       "      <td>2001</td>\n",
       "      <td>9447383.0</td>\n",
       "      <td>96141.0</td>\n",
       "      <td>1043.0</td>\n",
       "    </tr>\n",
       "    <tr>\n",
       "      <th>CA</th>\n",
       "      <td>2002</td>\n",
       "      <td>9613783.0</td>\n",
       "      <td>94199.0</td>\n",
       "      <td>1194.0</td>\n",
       "    </tr>\n",
       "    <tr>\n",
       "      <th>CA</th>\n",
       "      <td>2003</td>\n",
       "      <td>9604271.0</td>\n",
       "      <td>89381.0</td>\n",
       "      <td>1060.0</td>\n",
       "    </tr>\n",
       "    <tr>\n",
       "      <th>CA</th>\n",
       "      <td>2004</td>\n",
       "      <td>9655760.0</td>\n",
       "      <td>83029.0</td>\n",
       "      <td>1096.0</td>\n",
       "    </tr>\n",
       "    <tr>\n",
       "      <th>CA</th>\n",
       "      <td>2005</td>\n",
       "      <td>9660218.0</td>\n",
       "      <td>73559.0</td>\n",
       "      <td>1066.0</td>\n",
       "    </tr>\n",
       "    <tr>\n",
       "      <th>CA</th>\n",
       "      <td>2006</td>\n",
       "      <td>9683440.0</td>\n",
       "      <td>74400.0</td>\n",
       "      <td>1093.0</td>\n",
       "    </tr>\n",
       "    <tr>\n",
       "      <th>CA</th>\n",
       "      <td>2007</td>\n",
       "      <td>9595687.0</td>\n",
       "      <td>71297.0</td>\n",
       "      <td>972.0</td>\n",
       "    </tr>\n",
       "    <tr>\n",
       "      <th>CA</th>\n",
       "      <td>2008</td>\n",
       "      <td>9683667.0</td>\n",
       "      <td>68854.0</td>\n",
       "      <td>947.0</td>\n",
       "    </tr>\n",
       "    <tr>\n",
       "      <th>CA</th>\n",
       "      <td>2009</td>\n",
       "      <td>9762944.0</td>\n",
       "      <td>62989.0</td>\n",
       "      <td>744.0</td>\n",
       "    </tr>\n",
       "    <tr>\n",
       "      <th>CA</th>\n",
       "      <td>2010</td>\n",
       "      <td>9722760.0</td>\n",
       "      <td>58692.0</td>\n",
       "      <td>676.0</td>\n",
       "    </tr>\n",
       "    <tr>\n",
       "      <th>CA</th>\n",
       "      <td>2011</td>\n",
       "      <td>9831203.0</td>\n",
       "      <td>55102.0</td>\n",
       "      <td>712.0</td>\n",
       "    </tr>\n",
       "    <tr>\n",
       "      <th>CA</th>\n",
       "      <td>2012</td>\n",
       "      <td>9917233.0</td>\n",
       "      <td>55794.0</td>\n",
       "      <td>779.0</td>\n",
       "    </tr>\n",
       "    <tr>\n",
       "      <th>CA</th>\n",
       "      <td>2013</td>\n",
       "      <td>9978837.0</td>\n",
       "      <td>53448.0</td>\n",
       "      <td>646.0</td>\n",
       "    </tr>\n",
       "  </tbody>\n",
       "</table>\n",
       "</div>"
      ],
      "text/plain": [
       "       report_year  population  violent_crimes  homicides\n",
       "state                                                    \n",
       "AZ            1990   1676884.0         16069.0      167.0\n",
       "AZ            1991   1705415.0         16964.0      167.0\n",
       "AZ            1992   1724936.0         17288.0      187.0\n",
       "AZ            1993   1770408.0         18609.0      208.0\n",
       "AZ            1994   1832966.0         18873.0      285.0\n",
       "AZ            1995   1860341.0         19655.0      296.0\n",
       "AZ            1996   1952996.0         18187.0      250.0\n",
       "AZ            1997   2009063.0         18046.0      238.0\n",
       "AZ            1998   2057957.0         17448.0      241.0\n",
       "AZ            1999   2065704.0         16638.0      259.0\n",
       "AZ            2000   2204119.0         16689.0      227.0\n",
       "AZ            2001   2280029.0         17871.0      268.0\n",
       "AZ            2002   2344092.0         17819.0      246.0\n",
       "AZ            2003   2354415.0         16777.0      302.0\n",
       "AZ            2004   2396466.0         16838.0      279.0\n",
       "AZ            2005   2448083.0         18019.0      304.0\n",
       "AZ            2006   2512380.0         17859.0      312.0\n",
       "AZ            2007   2519573.0         17485.0      283.0\n",
       "AZ            2008   2571576.0         17006.0      248.0\n",
       "AZ            2009   2616211.0         14290.0      171.0\n",
       "AZ            2010   2404789.0         13122.0      182.0\n",
       "AZ            2011   2438832.0         13366.0      184.0\n",
       "AZ            2012   2468435.0         15112.0      179.0\n",
       "AZ            2013   2483780.0         14667.0      187.0\n",
       "AZ            2014   2519272.0         14311.0      162.0\n",
       "AZ            2015   2560453.0         14705.0      159.0\n",
       "CA            1990   8598016.0        152971.0     1830.0\n",
       "CA            1991   8777427.0        166338.0     1929.0\n",
       "CA            1992   8834162.0        168646.0     2023.0\n",
       "CA            1993   8765967.0        159186.0     2060.0\n",
       "CA            1994   8827974.0        143082.0     1657.0\n",
       "CA            1995   8724888.0        137198.0     1650.0\n",
       "CA            1996   8804929.0        124126.0     1377.0\n",
       "CA            1997   8912997.0        113429.0     1147.0\n",
       "CA            1998   8972797.0         99042.0      863.0\n",
       "CA            1999   9145835.0         91012.0      874.0\n",
       "CA            2000   9272569.0         93443.0      985.0\n",
       "CA            2001   9447383.0         96141.0     1043.0\n",
       "CA            2002   9613783.0         94199.0     1194.0\n",
       "CA            2003   9604271.0         89381.0     1060.0\n",
       "CA            2004   9655760.0         83029.0     1096.0\n",
       "CA            2005   9660218.0         73559.0     1066.0\n",
       "CA            2006   9683440.0         74400.0     1093.0\n",
       "CA            2007   9595687.0         71297.0      972.0\n",
       "CA            2008   9683667.0         68854.0      947.0\n",
       "CA            2009   9762944.0         62989.0      744.0\n",
       "CA            2010   9722760.0         58692.0      676.0\n",
       "CA            2011   9831203.0         55102.0      712.0\n",
       "CA            2012   9917233.0         55794.0      779.0\n",
       "CA            2013   9978837.0         53448.0      646.0"
      ]
     },
     "execution_count": 13,
     "metadata": {},
     "output_type": "execute_result"
    }
   ],
   "source": [
    "df_new_top_violent.head(50)"
   ]
  },
  {
   "cell_type": "code",
   "execution_count": 14,
   "metadata": {
    "collapsed": true
   },
   "outputs": [],
   "source": [
    "vio_crime_values = df_new_top_violent.loc[['CA'],['report_year', 'homicides']]"
   ]
  },
  {
   "cell_type": "code",
   "execution_count": 15,
   "metadata": {},
   "outputs": [
    {
     "data": {
      "text/html": [
       "<div>\n",
       "<style>\n",
       "    .dataframe thead tr:only-child th {\n",
       "        text-align: right;\n",
       "    }\n",
       "\n",
       "    .dataframe thead th {\n",
       "        text-align: left;\n",
       "    }\n",
       "\n",
       "    .dataframe tbody tr th {\n",
       "        vertical-align: top;\n",
       "    }\n",
       "</style>\n",
       "<table border=\"1\" class=\"dataframe\">\n",
       "  <thead>\n",
       "    <tr style=\"text-align: right;\">\n",
       "      <th></th>\n",
       "      <th>report_year</th>\n",
       "      <th>homicides</th>\n",
       "    </tr>\n",
       "    <tr>\n",
       "      <th>state</th>\n",
       "      <th></th>\n",
       "      <th></th>\n",
       "    </tr>\n",
       "  </thead>\n",
       "  <tbody>\n",
       "    <tr>\n",
       "      <th>CA</th>\n",
       "      <td>1990</td>\n",
       "      <td>1830.0</td>\n",
       "    </tr>\n",
       "    <tr>\n",
       "      <th>CA</th>\n",
       "      <td>1991</td>\n",
       "      <td>1929.0</td>\n",
       "    </tr>\n",
       "    <tr>\n",
       "      <th>CA</th>\n",
       "      <td>1992</td>\n",
       "      <td>2023.0</td>\n",
       "    </tr>\n",
       "    <tr>\n",
       "      <th>CA</th>\n",
       "      <td>1993</td>\n",
       "      <td>2060.0</td>\n",
       "    </tr>\n",
       "    <tr>\n",
       "      <th>CA</th>\n",
       "      <td>1994</td>\n",
       "      <td>1657.0</td>\n",
       "    </tr>\n",
       "    <tr>\n",
       "      <th>CA</th>\n",
       "      <td>1995</td>\n",
       "      <td>1650.0</td>\n",
       "    </tr>\n",
       "    <tr>\n",
       "      <th>CA</th>\n",
       "      <td>1996</td>\n",
       "      <td>1377.0</td>\n",
       "    </tr>\n",
       "    <tr>\n",
       "      <th>CA</th>\n",
       "      <td>1997</td>\n",
       "      <td>1147.0</td>\n",
       "    </tr>\n",
       "    <tr>\n",
       "      <th>CA</th>\n",
       "      <td>1998</td>\n",
       "      <td>863.0</td>\n",
       "    </tr>\n",
       "    <tr>\n",
       "      <th>CA</th>\n",
       "      <td>1999</td>\n",
       "      <td>874.0</td>\n",
       "    </tr>\n",
       "    <tr>\n",
       "      <th>CA</th>\n",
       "      <td>2000</td>\n",
       "      <td>985.0</td>\n",
       "    </tr>\n",
       "    <tr>\n",
       "      <th>CA</th>\n",
       "      <td>2001</td>\n",
       "      <td>1043.0</td>\n",
       "    </tr>\n",
       "    <tr>\n",
       "      <th>CA</th>\n",
       "      <td>2002</td>\n",
       "      <td>1194.0</td>\n",
       "    </tr>\n",
       "    <tr>\n",
       "      <th>CA</th>\n",
       "      <td>2003</td>\n",
       "      <td>1060.0</td>\n",
       "    </tr>\n",
       "    <tr>\n",
       "      <th>CA</th>\n",
       "      <td>2004</td>\n",
       "      <td>1096.0</td>\n",
       "    </tr>\n",
       "    <tr>\n",
       "      <th>CA</th>\n",
       "      <td>2005</td>\n",
       "      <td>1066.0</td>\n",
       "    </tr>\n",
       "    <tr>\n",
       "      <th>CA</th>\n",
       "      <td>2006</td>\n",
       "      <td>1093.0</td>\n",
       "    </tr>\n",
       "    <tr>\n",
       "      <th>CA</th>\n",
       "      <td>2007</td>\n",
       "      <td>972.0</td>\n",
       "    </tr>\n",
       "    <tr>\n",
       "      <th>CA</th>\n",
       "      <td>2008</td>\n",
       "      <td>947.0</td>\n",
       "    </tr>\n",
       "    <tr>\n",
       "      <th>CA</th>\n",
       "      <td>2009</td>\n",
       "      <td>744.0</td>\n",
       "    </tr>\n",
       "    <tr>\n",
       "      <th>CA</th>\n",
       "      <td>2010</td>\n",
       "      <td>676.0</td>\n",
       "    </tr>\n",
       "    <tr>\n",
       "      <th>CA</th>\n",
       "      <td>2011</td>\n",
       "      <td>712.0</td>\n",
       "    </tr>\n",
       "    <tr>\n",
       "      <th>CA</th>\n",
       "      <td>2012</td>\n",
       "      <td>779.0</td>\n",
       "    </tr>\n",
       "    <tr>\n",
       "      <th>CA</th>\n",
       "      <td>2013</td>\n",
       "      <td>646.0</td>\n",
       "    </tr>\n",
       "    <tr>\n",
       "      <th>CA</th>\n",
       "      <td>2014</td>\n",
       "      <td>618.0</td>\n",
       "    </tr>\n",
       "    <tr>\n",
       "      <th>CA</th>\n",
       "      <td>2015</td>\n",
       "      <td>703.0</td>\n",
       "    </tr>\n",
       "  </tbody>\n",
       "</table>\n",
       "</div>"
      ],
      "text/plain": [
       "       report_year  homicides\n",
       "state                        \n",
       "CA            1990     1830.0\n",
       "CA            1991     1929.0\n",
       "CA            1992     2023.0\n",
       "CA            1993     2060.0\n",
       "CA            1994     1657.0\n",
       "CA            1995     1650.0\n",
       "CA            1996     1377.0\n",
       "CA            1997     1147.0\n",
       "CA            1998      863.0\n",
       "CA            1999      874.0\n",
       "CA            2000      985.0\n",
       "CA            2001     1043.0\n",
       "CA            2002     1194.0\n",
       "CA            2003     1060.0\n",
       "CA            2004     1096.0\n",
       "CA            2005     1066.0\n",
       "CA            2006     1093.0\n",
       "CA            2007      972.0\n",
       "CA            2008      947.0\n",
       "CA            2009      744.0\n",
       "CA            2010      676.0\n",
       "CA            2011      712.0\n",
       "CA            2012      779.0\n",
       "CA            2013      646.0\n",
       "CA            2014      618.0\n",
       "CA            2015      703.0"
      ]
     },
     "execution_count": 15,
     "metadata": {},
     "output_type": "execute_result"
    }
   ],
   "source": [
    "vio_crime_values"
   ]
  },
  {
   "cell_type": "code",
   "execution_count": 16,
   "metadata": {
    "collapsed": true
   },
   "outputs": [],
   "source": [
    "crime_value = df_new_top_violent.loc['CA']['violent_crimes'][df_new_top_violent.loc['CA']['report_year'] == 1990]"
   ]
  },
  {
   "cell_type": "code",
   "execution_count": 17,
   "metadata": {},
   "outputs": [
    {
     "data": {
      "text/plain": [
       "152971.0"
      ]
     },
     "execution_count": 17,
     "metadata": {},
     "output_type": "execute_result"
    }
   ],
   "source": [
    "crime_value[0]"
   ]
  },
  {
   "cell_type": "code",
   "execution_count": 18,
   "metadata": {
    "collapsed": true
   },
   "outputs": [],
   "source": [
    "sum_state_violent = df_new_top_violent.loc['CA']['violent_crimes'].sum()"
   ]
  },
  {
   "cell_type": "code",
   "execution_count": 19,
   "metadata": {},
   "outputs": [
    {
     "data": {
      "text/plain": [
       "2500721.0"
      ]
     },
     "execution_count": 19,
     "metadata": {},
     "output_type": "execute_result"
    }
   ],
   "source": [
    "sum_state_violent"
   ]
  },
  {
   "cell_type": "code",
   "execution_count": 20,
   "metadata": {
    "collapsed": true
   },
   "outputs": [],
   "source": [
    "sum_state_homicides = df_new_top_violent.loc['CA']['homicides'].sum()"
   ]
  },
  {
   "cell_type": "code",
   "execution_count": 21,
   "metadata": {},
   "outputs": [
    {
     "data": {
      "text/plain": [
       "29744.0"
      ]
     },
     "execution_count": 21,
     "metadata": {},
     "output_type": "execute_result"
    }
   ],
   "source": [
    "sum_state_homicides"
   ]
  },
  {
   "cell_type": "code",
   "execution_count": 22,
   "metadata": {
    "collapsed": true
   },
   "outputs": [],
   "source": [
    "filepath = 'cleaned_school_shootings_1990_2018.csv'\n",
    "csv = pd.read_csv(filepath)\n",
    "df_school = pd.DataFrame(csv)"
   ]
  },
  {
   "cell_type": "code",
   "execution_count": 23,
   "metadata": {},
   "outputs": [
    {
     "data": {
      "text/html": [
       "<div>\n",
       "<style>\n",
       "    .dataframe thead tr:only-child th {\n",
       "        text-align: right;\n",
       "    }\n",
       "\n",
       "    .dataframe thead th {\n",
       "        text-align: left;\n",
       "    }\n",
       "\n",
       "    .dataframe tbody tr th {\n",
       "        vertical-align: top;\n",
       "    }\n",
       "</style>\n",
       "<table border=\"1\" class=\"dataframe\">\n",
       "  <thead>\n",
       "    <tr style=\"text-align: right;\">\n",
       "      <th></th>\n",
       "      <th>Date</th>\n",
       "      <th>City</th>\n",
       "      <th>State</th>\n",
       "      <th>Fatalities</th>\n",
       "      <th>Year</th>\n",
       "      <th>Latitude</th>\n",
       "      <th>Longitude</th>\n",
       "    </tr>\n",
       "  </thead>\n",
       "  <tbody>\n",
       "    <tr>\n",
       "      <th>0</th>\n",
       "      <td>3/27/90</td>\n",
       "      <td>Brooklyn</td>\n",
       "      <td>New York</td>\n",
       "      <td>0</td>\n",
       "      <td>1990</td>\n",
       "      <td>40.678178</td>\n",
       "      <td>-73.944158</td>\n",
       "    </tr>\n",
       "    <tr>\n",
       "      <th>1</th>\n",
       "      <td>5/20/90</td>\n",
       "      <td>Centerville</td>\n",
       "      <td>Tennessee</td>\n",
       "      <td>1</td>\n",
       "      <td>1990</td>\n",
       "      <td>39.628393</td>\n",
       "      <td>-84.159382</td>\n",
       "    </tr>\n",
       "    <tr>\n",
       "      <th>2</th>\n",
       "      <td>8/26/90</td>\n",
       "      <td>Las Vegas</td>\n",
       "      <td>Nevada</td>\n",
       "      <td>1</td>\n",
       "      <td>1990</td>\n",
       "      <td>36.169941</td>\n",
       "      <td>-115.139830</td>\n",
       "    </tr>\n",
       "    <tr>\n",
       "      <th>3</th>\n",
       "      <td>9/11/90</td>\n",
       "      <td>San Antonio</td>\n",
       "      <td>Texas</td>\n",
       "      <td>0</td>\n",
       "      <td>1990</td>\n",
       "      <td>29.424122</td>\n",
       "      <td>-98.493628</td>\n",
       "    </tr>\n",
       "    <tr>\n",
       "      <th>4</th>\n",
       "      <td>1/8/91</td>\n",
       "      <td>Richardson</td>\n",
       "      <td>Texas</td>\n",
       "      <td>0</td>\n",
       "      <td>1991</td>\n",
       "      <td>32.959623</td>\n",
       "      <td>-96.730986</td>\n",
       "    </tr>\n",
       "  </tbody>\n",
       "</table>\n",
       "</div>"
      ],
      "text/plain": [
       "      Date         City      State  Fatalities  Year   Latitude   Longitude\n",
       "0  3/27/90     Brooklyn   New York           0  1990  40.678178  -73.944158\n",
       "1  5/20/90  Centerville  Tennessee           1  1990  39.628393  -84.159382\n",
       "2  8/26/90    Las Vegas     Nevada           1  1990  36.169941 -115.139830\n",
       "3  9/11/90  San Antonio      Texas           0  1990  29.424122  -98.493628\n",
       "4   1/8/91   Richardson      Texas           0  1991  32.959623  -96.730986"
      ]
     },
     "execution_count": 23,
     "metadata": {},
     "output_type": "execute_result"
    }
   ],
   "source": [
    "df_school.head()"
   ]
  },
  {
   "cell_type": "code",
   "execution_count": 24,
   "metadata": {
    "collapsed": true
   },
   "outputs": [],
   "source": [
    "df_school = df_school[['City', 'State', 'Fatalities', 'Year']]"
   ]
  },
  {
   "cell_type": "code",
   "execution_count": 25,
   "metadata": {},
   "outputs": [
    {
     "data": {
      "text/html": [
       "<div>\n",
       "<style>\n",
       "    .dataframe thead tr:only-child th {\n",
       "        text-align: right;\n",
       "    }\n",
       "\n",
       "    .dataframe thead th {\n",
       "        text-align: left;\n",
       "    }\n",
       "\n",
       "    .dataframe tbody tr th {\n",
       "        vertical-align: top;\n",
       "    }\n",
       "</style>\n",
       "<table border=\"1\" class=\"dataframe\">\n",
       "  <thead>\n",
       "    <tr style=\"text-align: right;\">\n",
       "      <th></th>\n",
       "      <th>City</th>\n",
       "      <th>State</th>\n",
       "      <th>Fatalities</th>\n",
       "      <th>Year</th>\n",
       "    </tr>\n",
       "  </thead>\n",
       "  <tbody>\n",
       "    <tr>\n",
       "      <th>0</th>\n",
       "      <td>Brooklyn</td>\n",
       "      <td>New York</td>\n",
       "      <td>0</td>\n",
       "      <td>1990</td>\n",
       "    </tr>\n",
       "    <tr>\n",
       "      <th>1</th>\n",
       "      <td>Centerville</td>\n",
       "      <td>Tennessee</td>\n",
       "      <td>1</td>\n",
       "      <td>1990</td>\n",
       "    </tr>\n",
       "    <tr>\n",
       "      <th>2</th>\n",
       "      <td>Las Vegas</td>\n",
       "      <td>Nevada</td>\n",
       "      <td>1</td>\n",
       "      <td>1990</td>\n",
       "    </tr>\n",
       "    <tr>\n",
       "      <th>3</th>\n",
       "      <td>San Antonio</td>\n",
       "      <td>Texas</td>\n",
       "      <td>0</td>\n",
       "      <td>1990</td>\n",
       "    </tr>\n",
       "    <tr>\n",
       "      <th>4</th>\n",
       "      <td>Richardson</td>\n",
       "      <td>Texas</td>\n",
       "      <td>0</td>\n",
       "      <td>1991</td>\n",
       "    </tr>\n",
       "  </tbody>\n",
       "</table>\n",
       "</div>"
      ],
      "text/plain": [
       "          City      State  Fatalities  Year\n",
       "0     Brooklyn   New York           0  1990\n",
       "1  Centerville  Tennessee           1  1990\n",
       "2    Las Vegas     Nevada           1  1990\n",
       "3  San Antonio      Texas           0  1990\n",
       "4   Richardson      Texas           0  1991"
      ]
     },
     "execution_count": 25,
     "metadata": {},
     "output_type": "execute_result"
    }
   ],
   "source": [
    "df_school.head()"
   ]
  },
  {
   "cell_type": "code",
   "execution_count": 26,
   "metadata": {
    "collapsed": true
   },
   "outputs": [],
   "source": [
    "df_school.State.replace(['New York', 'Texas', 'Tennessee', 'Nevada', 'California', 'Iowa', 'Ohio',\\\n",
    "                        'Massachusetts', 'Georgia', 'Illinois', 'North Carolina', 'Florida', 'South Carolina',\\\n",
    "                        'Michigan', 'Arizona', 'Washington', 'Arkansas', 'Pennsylvania', 'Alabama',\\\n",
    "                        'Maryland', 'Indiana', 'Kentucky', 'Mississippi', 'Nebraska', 'Missouri',\\\n",
    "                        'Oklahoma', 'Alaska', 'Virginia', 'New Hampshire', 'New Mexico', 'Hawaii',\\\n",
    "                        'Connecticut', 'Louisiana', 'Wisconsin', 'Utah', 'Colorado', 'Wyoming', 'Delaware']\\\n",
    "                        , ['NY', 'TX', 'TN', 'NV', 'CA', 'IA', 'OH', 'MA', 'GA', 'IL', 'NC', 'FL', \\\n",
    "                        'SC','MI', 'AZ', 'WA', 'AR', 'PA', 'AL', 'MD', 'IN', 'KY', 'MS', 'NE', 'MO',\\\n",
    "                        'OK', 'AK', 'VA', 'NH', 'NM', 'HI', 'CT', 'LA', 'WI', 'UT', 'CO', 'WY', 'DE'], inplace=True)"
   ]
  },
  {
   "cell_type": "code",
   "execution_count": 27,
   "metadata": {
    "collapsed": true
   },
   "outputs": [],
   "source": [
    "df_school = df_school[['State', 'Year', 'Fatalities']]"
   ]
  },
  {
   "cell_type": "code",
   "execution_count": 28,
   "metadata": {
    "collapsed": true
   },
   "outputs": [],
   "source": [
    "df_school = df_school.groupby(['State', 'Year']).sum()"
   ]
  },
  {
   "cell_type": "code",
   "execution_count": 29,
   "metadata": {
    "collapsed": true
   },
   "outputs": [],
   "source": [
    "df_new_school = df_school.reset_index('Year')"
   ]
  },
  {
   "cell_type": "code",
   "execution_count": 30,
   "metadata": {},
   "outputs": [
    {
     "data": {
      "text/html": [
       "<div>\n",
       "<style>\n",
       "    .dataframe thead tr:only-child th {\n",
       "        text-align: right;\n",
       "    }\n",
       "\n",
       "    .dataframe thead th {\n",
       "        text-align: left;\n",
       "    }\n",
       "\n",
       "    .dataframe tbody tr th {\n",
       "        vertical-align: top;\n",
       "    }\n",
       "</style>\n",
       "<table border=\"1\" class=\"dataframe\">\n",
       "  <thead>\n",
       "    <tr style=\"text-align: right;\">\n",
       "      <th></th>\n",
       "      <th>Year</th>\n",
       "      <th>Fatalities</th>\n",
       "    </tr>\n",
       "    <tr>\n",
       "      <th>State</th>\n",
       "      <th></th>\n",
       "      <th></th>\n",
       "    </tr>\n",
       "  </thead>\n",
       "  <tbody>\n",
       "    <tr>\n",
       "      <th>AK</th>\n",
       "      <td>1997</td>\n",
       "      <td>2</td>\n",
       "    </tr>\n",
       "    <tr>\n",
       "      <th>AL</th>\n",
       "      <td>1992</td>\n",
       "      <td>1</td>\n",
       "    </tr>\n",
       "    <tr>\n",
       "      <th>AL</th>\n",
       "      <td>1996</td>\n",
       "      <td>1</td>\n",
       "    </tr>\n",
       "    <tr>\n",
       "      <th>AL</th>\n",
       "      <td>2006</td>\n",
       "      <td>1</td>\n",
       "    </tr>\n",
       "    <tr>\n",
       "      <th>AL</th>\n",
       "      <td>2008</td>\n",
       "      <td>1</td>\n",
       "    </tr>\n",
       "  </tbody>\n",
       "</table>\n",
       "</div>"
      ],
      "text/plain": [
       "       Year  Fatalities\n",
       "State                  \n",
       "AK     1997           2\n",
       "AL     1992           1\n",
       "AL     1996           1\n",
       "AL     2006           1\n",
       "AL     2008           1"
      ]
     },
     "execution_count": 30,
     "metadata": {},
     "output_type": "execute_result"
    }
   ],
   "source": [
    "df_new_school.head()"
   ]
  },
  {
   "cell_type": "code",
   "execution_count": 31,
   "metadata": {
    "collapsed": true
   },
   "outputs": [],
   "source": [
    "school_shootings = df_new_school.loc[['CA'],['Year', 'Fatalities']]"
   ]
  },
  {
   "cell_type": "code",
   "execution_count": 169,
   "metadata": {},
   "outputs": [
    {
     "data": {
      "text/html": [
       "<div>\n",
       "<style>\n",
       "    .dataframe thead tr:only-child th {\n",
       "        text-align: right;\n",
       "    }\n",
       "\n",
       "    .dataframe thead th {\n",
       "        text-align: left;\n",
       "    }\n",
       "\n",
       "    .dataframe tbody tr th {\n",
       "        vertical-align: top;\n",
       "    }\n",
       "</style>\n",
       "<table border=\"1\" class=\"dataframe\">\n",
       "  <thead>\n",
       "    <tr style=\"text-align: right;\">\n",
       "      <th></th>\n",
       "      <th>Year</th>\n",
       "      <th>Fatalities</th>\n",
       "    </tr>\n",
       "    <tr>\n",
       "      <th>State</th>\n",
       "      <th></th>\n",
       "      <th></th>\n",
       "    </tr>\n",
       "  </thead>\n",
       "  <tbody>\n",
       "    <tr>\n",
       "      <th>CA</th>\n",
       "      <td>1991</td>\n",
       "      <td>1</td>\n",
       "    </tr>\n",
       "    <tr>\n",
       "      <th>CA</th>\n",
       "      <td>1992</td>\n",
       "      <td>3</td>\n",
       "    </tr>\n",
       "    <tr>\n",
       "      <th>CA</th>\n",
       "      <td>1993</td>\n",
       "      <td>4</td>\n",
       "    </tr>\n",
       "    <tr>\n",
       "      <th>CA</th>\n",
       "      <td>1994</td>\n",
       "      <td>4</td>\n",
       "    </tr>\n",
       "    <tr>\n",
       "      <th>CA</th>\n",
       "      <td>1995</td>\n",
       "      <td>2</td>\n",
       "    </tr>\n",
       "    <tr>\n",
       "      <th>CA</th>\n",
       "      <td>1996</td>\n",
       "      <td>7</td>\n",
       "    </tr>\n",
       "    <tr>\n",
       "      <th>CA</th>\n",
       "      <td>1997</td>\n",
       "      <td>3</td>\n",
       "    </tr>\n",
       "    <tr>\n",
       "      <th>CA</th>\n",
       "      <td>1998</td>\n",
       "      <td>5</td>\n",
       "    </tr>\n",
       "    <tr>\n",
       "      <th>CA</th>\n",
       "      <td>1999</td>\n",
       "      <td>1</td>\n",
       "    </tr>\n",
       "    <tr>\n",
       "      <th>CA</th>\n",
       "      <td>2000</td>\n",
       "      <td>1</td>\n",
       "    </tr>\n",
       "    <tr>\n",
       "      <th>CA</th>\n",
       "      <td>2001</td>\n",
       "      <td>3</td>\n",
       "    </tr>\n",
       "    <tr>\n",
       "      <th>CA</th>\n",
       "      <td>2003</td>\n",
       "      <td>0</td>\n",
       "    </tr>\n",
       "    <tr>\n",
       "      <th>CA</th>\n",
       "      <td>2006</td>\n",
       "      <td>2</td>\n",
       "    </tr>\n",
       "    <tr>\n",
       "      <th>CA</th>\n",
       "      <td>2007</td>\n",
       "      <td>0</td>\n",
       "    </tr>\n",
       "    <tr>\n",
       "      <th>CA</th>\n",
       "      <td>2008</td>\n",
       "      <td>3</td>\n",
       "    </tr>\n",
       "    <tr>\n",
       "      <th>CA</th>\n",
       "      <td>2009</td>\n",
       "      <td>1</td>\n",
       "    </tr>\n",
       "    <tr>\n",
       "      <th>CA</th>\n",
       "      <td>2010</td>\n",
       "      <td>1</td>\n",
       "    </tr>\n",
       "    <tr>\n",
       "      <th>CA</th>\n",
       "      <td>2011</td>\n",
       "      <td>2</td>\n",
       "    </tr>\n",
       "    <tr>\n",
       "      <th>CA</th>\n",
       "      <td>2012</td>\n",
       "      <td>7</td>\n",
       "    </tr>\n",
       "    <tr>\n",
       "      <th>CA</th>\n",
       "      <td>2013</td>\n",
       "      <td>6</td>\n",
       "    </tr>\n",
       "    <tr>\n",
       "      <th>CA</th>\n",
       "      <td>2014</td>\n",
       "      <td>1</td>\n",
       "    </tr>\n",
       "    <tr>\n",
       "      <th>CA</th>\n",
       "      <td>2015</td>\n",
       "      <td>2</td>\n",
       "    </tr>\n",
       "    <tr>\n",
       "      <th>CA</th>\n",
       "      <td>2016</td>\n",
       "      <td>2</td>\n",
       "    </tr>\n",
       "    <tr>\n",
       "      <th>CA</th>\n",
       "      <td>2017</td>\n",
       "      <td>9</td>\n",
       "    </tr>\n",
       "    <tr>\n",
       "      <th>CA</th>\n",
       "      <td>2018</td>\n",
       "      <td>0</td>\n",
       "    </tr>\n",
       "  </tbody>\n",
       "</table>\n",
       "</div>"
      ],
      "text/plain": [
       "       Year  Fatalities\n",
       "State                  \n",
       "CA     1991           1\n",
       "CA     1992           3\n",
       "CA     1993           4\n",
       "CA     1994           4\n",
       "CA     1995           2\n",
       "CA     1996           7\n",
       "CA     1997           3\n",
       "CA     1998           5\n",
       "CA     1999           1\n",
       "CA     2000           1\n",
       "CA     2001           3\n",
       "CA     2003           0\n",
       "CA     2006           2\n",
       "CA     2007           0\n",
       "CA     2008           3\n",
       "CA     2009           1\n",
       "CA     2010           1\n",
       "CA     2011           2\n",
       "CA     2012           7\n",
       "CA     2013           6\n",
       "CA     2014           1\n",
       "CA     2015           2\n",
       "CA     2016           2\n",
       "CA     2017           9\n",
       "CA     2018           0"
      ]
     },
     "execution_count": 169,
     "metadata": {},
     "output_type": "execute_result"
    }
   ],
   "source": [
    "school_shootings"
   ]
  },
  {
   "cell_type": "code",
   "execution_count": 33,
   "metadata": {
    "collapsed": true
   },
   "outputs": [],
   "source": [
    "x1 = school_shootings['Year']\n",
    "y1 = school_shootings['Fatalities']\n",
    "p1 = np.polyfit(x1, y1, 1)"
   ]
  },
  {
   "cell_type": "code",
   "execution_count": 36,
   "metadata": {},
   "outputs": [
    {
     "data": {
      "image/png": "[encoded data removed]",
      "text/plain": [
       "<matplotlib.figure.Figure at 0x10f688f28>"
      ]
     },
     "metadata": {},
     "output_type": "display_data"
    }
   ],
   "source": [
    "plt.plot(x1,y1, color='blue', marker='o', linestyle='')\n",
    "#plt.plot(x3,y3_adj, color='green', marker='^', linestyle='')\n",
    "plt.plot(x1, np.polyval(p1, x1), color='red')\n",
    "#plt.plot(x3, np.polyval(p3, x3), color='gray')\n",
    "#blue_patch = mpatches.Patch(label='homocides')\n",
    "#orange_patch = mpatches.Patch(color='green', label='school shootings (*100)')\n",
    "#plt.legend(handles=[blue_patch, orange_patch])\n",
    "plt.xlabel('year')\n",
    "plt.ylabel('number of school shootings')\n",
    "plt.title('Number of Shootings in CA over Time')\n",
    "plt.show()"
   ]
  },
  {
   "cell_type": "code",
   "execution_count": 37,
   "metadata": {},
   "outputs": [
    {
     "data": {
      "text/html": [
       "<div>\n",
       "<style>\n",
       "    .dataframe thead tr:only-child th {\n",
       "        text-align: right;\n",
       "    }\n",
       "\n",
       "    .dataframe thead th {\n",
       "        text-align: left;\n",
       "    }\n",
       "\n",
       "    .dataframe tbody tr th {\n",
       "        vertical-align: top;\n",
       "    }\n",
       "</style>\n",
       "<table border=\"1\" class=\"dataframe\">\n",
       "  <thead>\n",
       "    <tr style=\"text-align: right;\">\n",
       "      <th></th>\n",
       "      <th>report_year</th>\n",
       "      <th>homicides</th>\n",
       "    </tr>\n",
       "    <tr>\n",
       "      <th>state</th>\n",
       "      <th></th>\n",
       "      <th></th>\n",
       "    </tr>\n",
       "  </thead>\n",
       "  <tbody>\n",
       "    <tr>\n",
       "      <th>CA</th>\n",
       "      <td>1990</td>\n",
       "      <td>1830.0</td>\n",
       "    </tr>\n",
       "    <tr>\n",
       "      <th>CA</th>\n",
       "      <td>1991</td>\n",
       "      <td>1929.0</td>\n",
       "    </tr>\n",
       "    <tr>\n",
       "      <th>CA</th>\n",
       "      <td>1992</td>\n",
       "      <td>2023.0</td>\n",
       "    </tr>\n",
       "    <tr>\n",
       "      <th>CA</th>\n",
       "      <td>1993</td>\n",
       "      <td>2060.0</td>\n",
       "    </tr>\n",
       "    <tr>\n",
       "      <th>CA</th>\n",
       "      <td>1994</td>\n",
       "      <td>1657.0</td>\n",
       "    </tr>\n",
       "  </tbody>\n",
       "</table>\n",
       "</div>"
      ],
      "text/plain": [
       "       report_year  homicides\n",
       "state                        \n",
       "CA            1990     1830.0\n",
       "CA            1991     1929.0\n",
       "CA            1992     2023.0\n",
       "CA            1993     2060.0\n",
       "CA            1994     1657.0"
      ]
     },
     "execution_count": 37,
     "metadata": {},
     "output_type": "execute_result"
    }
   ],
   "source": [
    "vio_crime_values.head()"
   ]
  },
  {
   "cell_type": "code",
   "execution_count": 38,
   "metadata": {
    "collapsed": true
   },
   "outputs": [],
   "source": [
    "x2 = vio_crime_values['report_year']\n",
    "y2 = vio_crime_values['homicides']\n",
    "p2 = np.polyfit(x2, y2, 1)"
   ]
  },
  {
   "cell_type": "code",
   "execution_count": 39,
   "metadata": {},
   "outputs": [
    {
     "data": {
      "image/png": "[encoded data removed]",
      "text/plain": [
       "<matplotlib.figure.Figure at 0x10f77ca20>"
      ]
     },
     "metadata": {},
     "output_type": "display_data"
    }
   ],
   "source": [
    "plt.plot(x2,y2, color='green', marker='o', linestyle='')\n",
    "#plt.plot(x3,y3_adj, color='green', marker='^', linestyle='')\n",
    "plt.plot(x2, np.polyval(p2, x2), color='red')\n",
    "#plt.plot(x3, np.polyval(p3, x3), color='gray')\n",
    "#blue_patch = mpatches.Patch(label='homocides')\n",
    "#orange_patch = mpatches.Patch(color='green', label='school shootings (*100)')\n",
    "#plt.legend(handles=[blue_patch, orange_patch])\n",
    "plt.xlabel('year')\n",
    "plt.ylabel('number of homicides')\n",
    "plt.title('Number of Homicides in CA over Time')\n",
    "plt.show()"
   ]
  },
  {
   "cell_type": "code",
   "execution_count": 40,
   "metadata": {
    "collapsed": true
   },
   "outputs": [],
   "source": [
    "# using Scipy to do some basic stats on the data that we have\n",
    "import scipy\n",
    "from scipy.stats import pearsonr\n",
    "x = scipy.array(y1)\n",
    "y2 = y2[:-1]\n",
    "y = scipy.array(y2)"
   ]
  },
  {
   "cell_type": "code",
   "execution_count": 41,
   "metadata": {},
   "outputs": [
    {
     "data": {
      "text/plain": [
       "25"
      ]
     },
     "execution_count": 41,
     "metadata": {},
     "output_type": "execute_result"
    }
   ],
   "source": [
    "len(x)"
   ]
  },
  {
   "cell_type": "code",
   "execution_count": 42,
   "metadata": {},
   "outputs": [
    {
     "data": {
      "text/plain": [
       "25"
      ]
     },
     "execution_count": 42,
     "metadata": {},
     "output_type": "execute_result"
    }
   ],
   "source": [
    "len(y)"
   ]
  },
  {
   "cell_type": "code",
   "execution_count": 43,
   "metadata": {
    "collapsed": true
   },
   "outputs": [],
   "source": [
    "r_row, p_value = pearsonr(x, y)"
   ]
  },
  {
   "cell_type": "code",
   "execution_count": 44,
   "metadata": {},
   "outputs": [
    {
     "name": "stdout",
     "output_type": "stream",
     "text": [
      "0.0936092053715 0.656274003834\n"
     ]
    }
   ],
   "source": [
    "print(r_row, p_value)"
   ]
  },
  {
   "cell_type": "code",
   "execution_count": null,
   "metadata": {
    "collapsed": true
   },
   "outputs": [],
   "source": []
  },
  {
   "cell_type": "code",
   "execution_count": null,
   "metadata": {
    "collapsed": true
   },
   "outputs": [],
   "source": []
  },
  {
   "cell_type": "code",
   "execution_count": null,
   "metadata": {
    "collapsed": true
   },
   "outputs": [],
   "source": []
  },
  {
   "cell_type": "code",
   "execution_count": null,
   "metadata": {
    "collapsed": true
   },
   "outputs": [],
   "source": [
    "#. Need to start copying from here"
   ]
  },
  {
   "cell_type": "code",
   "execution_count": 45,
   "metadata": {
    "collapsed": true
   },
   "outputs": [],
   "source": [
    "# building a simple dictionary with key and value.\n",
    "# Created a function to generate year\n",
    "# Created a function to populate the crime dictionary with the key, value pair\n",
    "crime_per_year = {}\n",
    "year_list = []"
   ]
  },
  {
   "cell_type": "code",
   "execution_count": 46,
   "metadata": {
    "collapsed": true
   },
   "outputs": [],
   "source": [
    "def build_year_list(num_year):\n",
    "    start_year = 1990\n",
    "    for i in range(0, num_year-1):\n",
    "        year_list.append(start_year+i)\n",
    "    return year_list"
   ]
  },
  {
   "cell_type": "code",
   "execution_count": 47,
   "metadata": {},
   "outputs": [
    {
     "data": {
      "text/plain": [
       "[1990,\n",
       " 1991,\n",
       " 1992,\n",
       " 1993,\n",
       " 1994,\n",
       " 1995,\n",
       " 1996,\n",
       " 1997,\n",
       " 1998,\n",
       " 1999,\n",
       " 2000,\n",
       " 2001,\n",
       " 2002,\n",
       " 2003,\n",
       " 2004,\n",
       " 2005,\n",
       " 2006,\n",
       " 2007,\n",
       " 2008,\n",
       " 2009,\n",
       " 2010,\n",
       " 2011,\n",
       " 2012,\n",
       " 2013,\n",
       " 2014]"
      ]
     },
     "execution_count": 47,
     "metadata": {},
     "output_type": "execute_result"
    }
   ],
   "source": [
    "build_year_list(26)"
   ]
  },
  {
   "cell_type": "code",
   "execution_count": 48,
   "metadata": {
    "collapsed": true
   },
   "outputs": [],
   "source": [
    "def violent_crime_count(year_list):\n",
    "    for i in range(len(year_list)):\n",
    "        crime_count = df[df['report_year'] == year_list[i]]['violent_crimes'].sum()\n",
    "        crime_per_year.update({year_list[i]: crime_count})\n",
    "    return crime_per_year"
   ]
  },
  {
   "cell_type": "code",
   "execution_count": 49,
   "metadata": {},
   "outputs": [
    {
     "data": {
      "text/plain": [
       "{1990: 865969.0,\n",
       " 1991: 900316.0,\n",
       " 1992: 882124.0,\n",
       " 1993: 866963.0,\n",
       " 1994: 817446.0,\n",
       " 1995: 766751.0,\n",
       " 1996: 715249.0,\n",
       " 1997: 667270.0,\n",
       " 1998: 619280.0,\n",
       " 1999: 579433.0,\n",
       " 2000: 574377.0,\n",
       " 2001: 574528.0,\n",
       " 2002: 561665.0,\n",
       " 2003: 533396.0,\n",
       " 2004: 513157.0,\n",
       " 2005: 516126.0,\n",
       " 2006: 522223.0,\n",
       " 2007: 511135.0,\n",
       " 2008: 497761.0,\n",
       " 2009: 463986.0,\n",
       " 2010: 438261.0,\n",
       " 2011: 423978.0,\n",
       " 2012: 431738.0,\n",
       " 2013: 422507.0,\n",
       " 2014: 421311.0}"
      ]
     },
     "execution_count": 49,
     "metadata": {},
     "output_type": "execute_result"
    }
   ],
   "source": [
    "violent_crime_count(year_list)"
   ]
  },
  {
   "cell_type": "code",
   "execution_count": 50,
   "metadata": {},
   "outputs": [
    {
     "data": {
      "text/plain": [
       "{1990: 865969.0,\n",
       " 1991: 900316.0,\n",
       " 1992: 882124.0,\n",
       " 1993: 866963.0,\n",
       " 1994: 817446.0,\n",
       " 1995: 766751.0,\n",
       " 1996: 715249.0,\n",
       " 1997: 667270.0,\n",
       " 1998: 619280.0,\n",
       " 1999: 579433.0,\n",
       " 2000: 574377.0,\n",
       " 2001: 574528.0,\n",
       " 2002: 561665.0,\n",
       " 2003: 533396.0,\n",
       " 2004: 513157.0,\n",
       " 2005: 516126.0,\n",
       " 2006: 522223.0,\n",
       " 2007: 511135.0,\n",
       " 2008: 497761.0,\n",
       " 2009: 463986.0,\n",
       " 2010: 438261.0,\n",
       " 2011: 423978.0,\n",
       " 2012: 431738.0,\n",
       " 2013: 422507.0,\n",
       " 2014: 421311.0}"
      ]
     },
     "execution_count": 50,
     "metadata": {},
     "output_type": "execute_result"
    }
   ],
   "source": [
    "crime_per_year"
   ]
  },
  {
   "cell_type": "code",
   "execution_count": 51,
   "metadata": {
    "collapsed": true
   },
   "outputs": [],
   "source": [
    "df_crime = pd.DataFrame(crime_per_year, index=[0])"
   ]
  },
  {
   "cell_type": "code",
   "execution_count": 52,
   "metadata": {
    "collapsed": true
   },
   "outputs": [],
   "source": [
    "df_crime = df_crime.transpose()"
   ]
  },
  {
   "cell_type": "code",
   "execution_count": 53,
   "metadata": {
    "collapsed": true
   },
   "outputs": [],
   "source": [
    "df_crime = df_crime.rename(index=str, columns={0: \"value\"})"
   ]
  },
  {
   "cell_type": "code",
   "execution_count": 54,
   "metadata": {},
   "outputs": [
    {
     "data": {
      "text/html": [
       "<div>\n",
       "<style>\n",
       "    .dataframe thead tr:only-child th {\n",
       "        text-align: right;\n",
       "    }\n",
       "\n",
       "    .dataframe thead th {\n",
       "        text-align: left;\n",
       "    }\n",
       "\n",
       "    .dataframe tbody tr th {\n",
       "        vertical-align: top;\n",
       "    }\n",
       "</style>\n",
       "<table border=\"1\" class=\"dataframe\">\n",
       "  <thead>\n",
       "    <tr style=\"text-align: right;\">\n",
       "      <th></th>\n",
       "      <th>value</th>\n",
       "    </tr>\n",
       "  </thead>\n",
       "  <tbody>\n",
       "    <tr>\n",
       "      <th>1990</th>\n",
       "      <td>865969.0</td>\n",
       "    </tr>\n",
       "    <tr>\n",
       "      <th>1991</th>\n",
       "      <td>900316.0</td>\n",
       "    </tr>\n",
       "    <tr>\n",
       "      <th>1992</th>\n",
       "      <td>882124.0</td>\n",
       "    </tr>\n",
       "    <tr>\n",
       "      <th>1993</th>\n",
       "      <td>866963.0</td>\n",
       "    </tr>\n",
       "    <tr>\n",
       "      <th>1994</th>\n",
       "      <td>817446.0</td>\n",
       "    </tr>\n",
       "  </tbody>\n",
       "</table>\n",
       "</div>"
      ],
      "text/plain": [
       "         value\n",
       "1990  865969.0\n",
       "1991  900316.0\n",
       "1992  882124.0\n",
       "1993  866963.0\n",
       "1994  817446.0"
      ]
     },
     "execution_count": 54,
     "metadata": {},
     "output_type": "execute_result"
    }
   ],
   "source": [
    "df_crime.head()"
   ]
  },
  {
   "cell_type": "code",
   "execution_count": 55,
   "metadata": {
    "collapsed": true
   },
   "outputs": [],
   "source": [
    "homocides_per_year = {}"
   ]
  },
  {
   "cell_type": "code",
   "execution_count": 56,
   "metadata": {
    "collapsed": true
   },
   "outputs": [],
   "source": [
    "def homocide_count(year_list):\n",
    "    for i in range(len(year_list)):\n",
    "        homocide_count = df[df['report_year'] == year_list[i]]['homicides'].sum()\n",
    "        homocides_per_year.update({year_list[i]: homocide_count})\n",
    "    return homocides_per_year"
   ]
  },
  {
   "cell_type": "code",
   "execution_count": 57,
   "metadata": {},
   "outputs": [
    {
     "data": {
      "text/plain": [
       "{1990: 11866.0,\n",
       " 1991: 12288.0,\n",
       " 1992: 11729.0,\n",
       " 1993: 11919.0,\n",
       " 1994: 10816.0,\n",
       " 1995: 10041.0,\n",
       " 1996: 8941.0,\n",
       " 1997: 7954.0,\n",
       " 1998: 7113.0,\n",
       " 1999: 6822.0,\n",
       " 2000: 6774.0,\n",
       " 2001: 7128.0,\n",
       " 2002: 7130.0,\n",
       " 2003: 7255.0,\n",
       " 2004: 6939.0,\n",
       " 2005: 7103.0,\n",
       " 2006: 7384.0,\n",
       " 2007: 7051.0,\n",
       " 2008: 6715.0,\n",
       " 2009: 5985.0,\n",
       " 2010: 5867.0,\n",
       " 2011: 5702.0,\n",
       " 2012: 5848.0,\n",
       " 2013: 5344.0,\n",
       " 2014: 5349.0}"
      ]
     },
     "execution_count": 57,
     "metadata": {},
     "output_type": "execute_result"
    }
   ],
   "source": [
    "homocide_count(year_list)"
   ]
  },
  {
   "cell_type": "code",
   "execution_count": 58,
   "metadata": {},
   "outputs": [
    {
     "data": {
      "text/plain": [
       "{1990: 11866.0,\n",
       " 1991: 12288.0,\n",
       " 1992: 11729.0,\n",
       " 1993: 11919.0,\n",
       " 1994: 10816.0,\n",
       " 1995: 10041.0,\n",
       " 1996: 8941.0,\n",
       " 1997: 7954.0,\n",
       " 1998: 7113.0,\n",
       " 1999: 6822.0,\n",
       " 2000: 6774.0,\n",
       " 2001: 7128.0,\n",
       " 2002: 7130.0,\n",
       " 2003: 7255.0,\n",
       " 2004: 6939.0,\n",
       " 2005: 7103.0,\n",
       " 2006: 7384.0,\n",
       " 2007: 7051.0,\n",
       " 2008: 6715.0,\n",
       " 2009: 5985.0,\n",
       " 2010: 5867.0,\n",
       " 2011: 5702.0,\n",
       " 2012: 5848.0,\n",
       " 2013: 5344.0,\n",
       " 2014: 5349.0}"
      ]
     },
     "execution_count": 58,
     "metadata": {},
     "output_type": "execute_result"
    }
   ],
   "source": [
    "homocides_per_year"
   ]
  },
  {
   "cell_type": "code",
   "execution_count": 59,
   "metadata": {
    "collapsed": true
   },
   "outputs": [],
   "source": [
    "df_homocides = pd.DataFrame(homocides_per_year, index=[0])\n",
    "df_homocides = df_homocides.transpose()\n",
    "df_homocides = df_homocides.rename(index=str, columns={0: \"value\"})"
   ]
  },
  {
   "cell_type": "code",
   "execution_count": 60,
   "metadata": {},
   "outputs": [
    {
     "data": {
      "text/html": [
       "<div>\n",
       "<style>\n",
       "    .dataframe thead tr:only-child th {\n",
       "        text-align: right;\n",
       "    }\n",
       "\n",
       "    .dataframe thead th {\n",
       "        text-align: left;\n",
       "    }\n",
       "\n",
       "    .dataframe tbody tr th {\n",
       "        vertical-align: top;\n",
       "    }\n",
       "</style>\n",
       "<table border=\"1\" class=\"dataframe\">\n",
       "  <thead>\n",
       "    <tr style=\"text-align: right;\">\n",
       "      <th></th>\n",
       "      <th>value</th>\n",
       "    </tr>\n",
       "  </thead>\n",
       "  <tbody>\n",
       "    <tr>\n",
       "      <th>1990</th>\n",
       "      <td>11866.0</td>\n",
       "    </tr>\n",
       "    <tr>\n",
       "      <th>1991</th>\n",
       "      <td>12288.0</td>\n",
       "    </tr>\n",
       "    <tr>\n",
       "      <th>1992</th>\n",
       "      <td>11729.0</td>\n",
       "    </tr>\n",
       "    <tr>\n",
       "      <th>1993</th>\n",
       "      <td>11919.0</td>\n",
       "    </tr>\n",
       "    <tr>\n",
       "      <th>1994</th>\n",
       "      <td>10816.0</td>\n",
       "    </tr>\n",
       "  </tbody>\n",
       "</table>\n",
       "</div>"
      ],
      "text/plain": [
       "        value\n",
       "1990  11866.0\n",
       "1991  12288.0\n",
       "1992  11729.0\n",
       "1993  11919.0\n",
       "1994  10816.0"
      ]
     },
     "execution_count": 60,
     "metadata": {},
     "output_type": "execute_result"
    }
   ],
   "source": [
    "df_homocides.head()"
   ]
  },
  {
   "cell_type": "code",
   "execution_count": 190,
   "metadata": {
    "collapsed": true
   },
   "outputs": [],
   "source": [
    "import matplotlib.pyplot as plt\n",
    "import matplotlib.patches as mpatches"
   ]
  },
  {
   "cell_type": "code",
   "execution_count": 61,
   "metadata": {
    "collapsed": true
   },
   "outputs": [],
   "source": [
    "fatalities_per_year = {1990: 2,\n",
    " 1991: 12,\n",
    " 1992: 14,\n",
    " 1993: 37,\n",
    " 1994: 23,\n",
    " 1995: 15,\n",
    " 1996: 24,\n",
    " 1997: 17,\n",
    " 1998: 28,\n",
    " 1999: 22,\n",
    " 2000: 14,\n",
    " 2001: 10,\n",
    " 2002: 15,\n",
    " 2003: 10,\n",
    " 2004: 9,\n",
    " 2005: 14,\n",
    " 2006: 25,\n",
    " 2007: 39,\n",
    " 2008: 24,\n",
    " 2009: 14,\n",
    " 2010: 14,\n",
    " 2011: 8,\n",
    " 2012: 44,\n",
    " 2013: 24,\n",
    " 2014: 17}"
   ]
  },
  {
   "cell_type": "code",
   "execution_count": 62,
   "metadata": {
    "collapsed": true
   },
   "outputs": [],
   "source": [
    "df_sch_deaths = pd.DataFrame(fatalities_per_year, index=[0])\n",
    "df_sch_deaths = df_sch_deaths.transpose()\n",
    "df_sch_deaths = df_sch_deaths.rename(index=str, columns={0: \"value\"})"
   ]
  },
  {
   "cell_type": "code",
   "execution_count": 63,
   "metadata": {},
   "outputs": [
    {
     "data": {
      "text/html": [
       "<div>\n",
       "<style>\n",
       "    .dataframe thead tr:only-child th {\n",
       "        text-align: right;\n",
       "    }\n",
       "\n",
       "    .dataframe thead th {\n",
       "        text-align: left;\n",
       "    }\n",
       "\n",
       "    .dataframe tbody tr th {\n",
       "        vertical-align: top;\n",
       "    }\n",
       "</style>\n",
       "<table border=\"1\" class=\"dataframe\">\n",
       "  <thead>\n",
       "    <tr style=\"text-align: right;\">\n",
       "      <th></th>\n",
       "      <th>value</th>\n",
       "    </tr>\n",
       "  </thead>\n",
       "  <tbody>\n",
       "    <tr>\n",
       "      <th>1990</th>\n",
       "      <td>2</td>\n",
       "    </tr>\n",
       "    <tr>\n",
       "      <th>1991</th>\n",
       "      <td>12</td>\n",
       "    </tr>\n",
       "    <tr>\n",
       "      <th>1992</th>\n",
       "      <td>14</td>\n",
       "    </tr>\n",
       "    <tr>\n",
       "      <th>1993</th>\n",
       "      <td>37</td>\n",
       "    </tr>\n",
       "    <tr>\n",
       "      <th>1994</th>\n",
       "      <td>23</td>\n",
       "    </tr>\n",
       "  </tbody>\n",
       "</table>\n",
       "</div>"
      ],
      "text/plain": [
       "      value\n",
       "1990      2\n",
       "1991     12\n",
       "1992     14\n",
       "1993     37\n",
       "1994     23"
      ]
     },
     "execution_count": 63,
     "metadata": {},
     "output_type": "execute_result"
    }
   ],
   "source": [
    "df_sch_deaths.head()"
   ]
  },
  {
   "cell_type": "code",
   "execution_count": 181,
   "metadata": {
    "collapsed": true
   },
   "outputs": [],
   "source": [
    "lists2 = homocides_per_year.items()\n",
    "x2, y2 = zip(*lists2)"
   ]
  },
  {
   "cell_type": "code",
   "execution_count": 182,
   "metadata": {},
   "outputs": [
    {
     "name": "stdout",
     "output_type": "stream",
     "text": [
      "(1990, 1991, 1992, 1993, 1994, 1995, 1996, 1997, 1998, 1999, 2000, 2001, 2002, 2003, 2004, 2005, 2006, 2007, 2008, 2009, 2010, 2011, 2012, 2013, 2014)\n"
     ]
    }
   ],
   "source": [
    "print(x2)"
   ]
  },
  {
   "cell_type": "code",
   "execution_count": 183,
   "metadata": {
    "collapsed": true
   },
   "outputs": [],
   "source": [
    "lists3 = fatalities_per_year.items()\n",
    "x3, y3 = zip(*lists3)"
   ]
  },
  {
   "cell_type": "code",
   "execution_count": 184,
   "metadata": {
    "collapsed": true
   },
   "outputs": [],
   "source": [
    "y3_adj = []"
   ]
  },
  {
   "cell_type": "code",
   "execution_count": 185,
   "metadata": {
    "collapsed": true
   },
   "outputs": [],
   "source": [
    "for i in range(len(y3)):\n",
    "    y3_adj.append(y3[i]*100)"
   ]
  },
  {
   "cell_type": "code",
   "execution_count": 186,
   "metadata": {},
   "outputs": [
    {
     "data": {
      "text/plain": [
       "[200,\n",
       " 1200,\n",
       " 1400,\n",
       " 3700,\n",
       " 2300,\n",
       " 1500,\n",
       " 2400,\n",
       " 1700,\n",
       " 2800,\n",
       " 2200,\n",
       " 1400,\n",
       " 1000,\n",
       " 1500,\n",
       " 1000,\n",
       " 900,\n",
       " 1400,\n",
       " 2500,\n",
       " 3900,\n",
       " 2400,\n",
       " 1400,\n",
       " 1400,\n",
       " 800,\n",
       " 4400,\n",
       " 2400,\n",
       " 1700]"
      ]
     },
     "execution_count": 186,
     "metadata": {},
     "output_type": "execute_result"
    }
   ],
   "source": [
    "y3_adj"
   ]
  },
  {
   "cell_type": "code",
   "execution_count": 187,
   "metadata": {
    "collapsed": true
   },
   "outputs": [],
   "source": [
    "from scipy.interpolate import *"
   ]
  },
  {
   "cell_type": "code",
   "execution_count": 188,
   "metadata": {
    "collapsed": true
   },
   "outputs": [],
   "source": [
    "p2 = np.polyfit(x2, y2, 1)\n",
    "p3 = np.polyfit(x3, y3_adj, 1)"
   ]
  },
  {
   "cell_type": "code",
   "execution_count": 191,
   "metadata": {},
   "outputs": [
    {
     "data": {
      "image/png": "[encoded data removed]",
      "text/plain": [
       "<matplotlib.figure.Figure at 0x1068f7550>"
      ]
     },
     "metadata": {},
     "output_type": "display_data"
    }
   ],
   "source": [
    "# Given the y output variables range school shootings were multiplied by 100\n",
    "plt.plot(x2,y2, color='blue', marker='o', linestyle='')\n",
    "plt.plot(x3,y3_adj, color='green', marker='^', linestyle='')\n",
    "plt.plot(x2, np.polyval(p2, x2), color='red')\n",
    "plt.plot(x3, np.polyval(p3, x3), color='gray')\n",
    "blue_patch = mpatches.Patch(label='homocides')\n",
    "orange_patch = mpatches.Patch(color='green', label='school shootings (*100)')\n",
    "plt.legend(handles=[blue_patch, orange_patch])\n",
    "plt.xlabel('year')\n",
    "plt.ylabel('number of murders')\n",
    "plt.title('Amount of Murders over Time')\n",
    "plt.show()"
   ]
  },
  {
   "cell_type": "code",
   "execution_count": 192,
   "metadata": {
    "collapsed": true
   },
   "outputs": [],
   "source": [
    "# Building a dictionary of tuples\n",
    "lists1 = crime_per_year.items()\n"
   ]
  },
  {
   "cell_type": "code",
   "execution_count": 193,
   "metadata": {
    "collapsed": true
   },
   "outputs": [],
   "source": [
    "# Unpacking the list of tuples into an x, y value\n",
    "x1, y1 = zip(*lists1)\n",
    "p1 = np.polyfit(x1, y1, 1)"
   ]
  },
  {
   "cell_type": "code",
   "execution_count": 194,
   "metadata": {},
   "outputs": [
    {
     "data": {
      "image/png": "[encoded data removed]",
      "text/plain": [
       "<matplotlib.figure.Figure at 0x1a11f91278>"
      ]
     },
     "metadata": {},
     "output_type": "display_data"
    }
   ],
   "source": [
    "plt.plot(x1,y1, 'o', linestyle='')\n",
    "plt.plot(x1, np.polyval(p1, x1), color='red')\n",
    "plt.xlabel('year')\n",
    "plt.ylabel('number of crimes')\n",
    "plt.title('Amount of Violent Crime over Time')\n",
    "plt.show()"
   ]
  },
  {
   "cell_type": "code",
   "execution_count": 195,
   "metadata": {
    "collapsed": true
   },
   "outputs": [],
   "source": [
    "# Building a list of the crime values only - no keys or indexes\n",
    "crime_list = []\n",
    "for key, value in crime_per_year.items():\n",
    "    crime_list.append(value)"
   ]
  },
  {
   "cell_type": "code",
   "execution_count": 196,
   "metadata": {},
   "outputs": [
    {
     "data": {
      "text/plain": [
       "[865969.0, 900316.0, 882124.0, 866963.0, 817446.0]"
      ]
     },
     "execution_count": 196,
     "metadata": {},
     "output_type": "execute_result"
    }
   ],
   "source": [
    "crime_list[0:5]"
   ]
  },
  {
   "cell_type": "code",
   "execution_count": 197,
   "metadata": {
    "collapsed": true
   },
   "outputs": [],
   "source": [
    "# Building a list of the death values only - no keys or indexes\n",
    "death_list = []\n",
    "for key, value in fatalities_per_year.items():\n",
    "    death_list.append(value)"
   ]
  },
  {
   "cell_type": "code",
   "execution_count": 198,
   "metadata": {
    "collapsed": true
   },
   "outputs": [],
   "source": [
    "# Building a list of the murder values only - no keys or indexes\n",
    "murder_list = []\n",
    "for key, value in homocides_per_year.items():\n",
    "    murder_list.append(value)"
   ]
  },
  {
   "cell_type": "code",
   "execution_count": 199,
   "metadata": {},
   "outputs": [
    {
     "data": {
      "text/plain": [
       "[11866.0, 12288.0, 11729.0, 11919.0, 10816.0]"
      ]
     },
     "execution_count": 199,
     "metadata": {},
     "output_type": "execute_result"
    }
   ],
   "source": [
    "murder_list[0:5]"
   ]
  },
  {
   "cell_type": "code",
   "execution_count": 200,
   "metadata": {},
   "outputs": [
    {
     "data": {
      "text/plain": [
       "[2, 12, 14, 37, 23]"
      ]
     },
     "execution_count": 200,
     "metadata": {},
     "output_type": "execute_result"
    }
   ],
   "source": [
    "death_list[0:5]"
   ]
  },
  {
   "cell_type": "code",
   "execution_count": 204,
   "metadata": {},
   "outputs": [
    {
     "data": {
      "text/plain": [
       "array([ 2, 12, 14, 37, 23, 15, 24, 17, 28, 22, 14, 10, 15, 10,  9, 14, 25,\n",
       "       39, 24, 14, 14,  8, 44, 24, 17])"
      ]
     },
     "execution_count": 204,
     "metadata": {},
     "output_type": "execute_result"
    }
   ],
   "source": [
    "x"
   ]
  },
  {
   "cell_type": "code",
   "execution_count": 205,
   "metadata": {},
   "outputs": [
    {
     "data": {
      "text/plain": [
       "array([ 865969.,  900316.,  882124.,  866963.,  817446.,  766751.,\n",
       "        715249.,  667270.,  619280.,  579433.,  574377.,  574528.,\n",
       "        561665.,  533396.,  513157.,  516126.,  522223.,  511135.,\n",
       "        497761.,  463986.,  438261.,  423978.,  431738.,  422507.,  421311.])"
      ]
     },
     "execution_count": 205,
     "metadata": {},
     "output_type": "execute_result"
    }
   ],
   "source": [
    "y"
   ]
  },
  {
   "cell_type": "code",
   "execution_count": 201,
   "metadata": {
    "collapsed": true
   },
   "outputs": [],
   "source": [
    "# using Scipy to do some basic stats on the data that we have\n",
    "import scipy\n",
    "from scipy.stats import pearsonr\n",
    "x = scipy.array(death_list)\n",
    "y = scipy.array(crime_list)\n",
    "r_row, p_value = pearsonr(x, y)"
   ]
  },
  {
   "cell_type": "code",
   "execution_count": 203,
   "metadata": {},
   "outputs": [
    {
     "name": "stdout",
     "output_type": "stream",
     "text": [
      "-0.106325931424 0.612961884394\n"
     ]
    }
   ],
   "source": [
    "# These values suggest little to no correlation between the volume of crime and the volume of school shootings\n",
    "print(r_row, p_value)"
   ]
  },
  {
   "cell_type": "code",
   "execution_count": 206,
   "metadata": {
    "collapsed": true
   },
   "outputs": [],
   "source": [
    "# Studying correlation between school deaths and murders\n",
    "x = scipy.array(death_list)\n",
    "y = scipy.array(murder_list)\n",
    "r_row, p_value = pearsonr(x, y)"
   ]
  },
  {
   "cell_type": "code",
   "execution_count": 208,
   "metadata": {},
   "outputs": [
    {
     "name": "stdout",
     "output_type": "stream",
     "text": [
      "-0.0984626395738 0.639606361624\n"
     ]
    }
   ],
   "source": [
    "# These values suggest little to no correlation between the volume of crime and the volume of school shootings\n",
    "print(r_row, p_value)"
   ]
  },
  {
   "cell_type": "code",
   "execution_count": null,
   "metadata": {
    "collapsed": true
   },
   "outputs": [],
   "source": []
  },
  {
   "cell_type": "code",
   "execution_count": 71,
   "metadata": {},
   "outputs": [
    {
     "data": {
      "text/html": [
       "<div>\n",
       "<style>\n",
       "    .dataframe thead tr:only-child th {\n",
       "        text-align: right;\n",
       "    }\n",
       "\n",
       "    .dataframe thead th {\n",
       "        text-align: left;\n",
       "    }\n",
       "\n",
       "    .dataframe tbody tr th {\n",
       "        vertical-align: top;\n",
       "    }\n",
       "</style>\n",
       "<table border=\"1\" class=\"dataframe\">\n",
       "  <thead>\n",
       "    <tr style=\"text-align: right;\">\n",
       "      <th></th>\n",
       "      <th>value</th>\n",
       "    </tr>\n",
       "  </thead>\n",
       "  <tbody>\n",
       "    <tr>\n",
       "      <th>2004</th>\n",
       "      <td>513157.0</td>\n",
       "    </tr>\n",
       "    <tr>\n",
       "      <th>2005</th>\n",
       "      <td>516126.0</td>\n",
       "    </tr>\n",
       "    <tr>\n",
       "      <th>2006</th>\n",
       "      <td>522223.0</td>\n",
       "    </tr>\n",
       "    <tr>\n",
       "      <th>2007</th>\n",
       "      <td>511135.0</td>\n",
       "    </tr>\n",
       "    <tr>\n",
       "      <th>2008</th>\n",
       "      <td>497761.0</td>\n",
       "    </tr>\n",
       "    <tr>\n",
       "      <th>2009</th>\n",
       "      <td>463986.0</td>\n",
       "    </tr>\n",
       "    <tr>\n",
       "      <th>2010</th>\n",
       "      <td>438261.0</td>\n",
       "    </tr>\n",
       "    <tr>\n",
       "      <th>2011</th>\n",
       "      <td>423978.0</td>\n",
       "    </tr>\n",
       "    <tr>\n",
       "      <th>2012</th>\n",
       "      <td>431738.0</td>\n",
       "    </tr>\n",
       "    <tr>\n",
       "      <th>2013</th>\n",
       "      <td>422507.0</td>\n",
       "    </tr>\n",
       "    <tr>\n",
       "      <th>2014</th>\n",
       "      <td>421311.0</td>\n",
       "    </tr>\n",
       "  </tbody>\n",
       "</table>\n",
       "</div>"
      ],
      "text/plain": [
       "         value\n",
       "2004  513157.0\n",
       "2005  516126.0\n",
       "2006  522223.0\n",
       "2007  511135.0\n",
       "2008  497761.0\n",
       "2009  463986.0\n",
       "2010  438261.0\n",
       "2011  423978.0\n",
       "2012  431738.0\n",
       "2013  422507.0\n",
       "2014  421311.0"
      ]
     },
     "execution_count": 71,
     "metadata": {},
     "output_type": "execute_result"
    }
   ],
   "source": [
    "df_crime.loc['2004':'2014']"
   ]
  },
  {
   "cell_type": "code",
   "execution_count": 165,
   "metadata": {},
   "outputs": [
    {
     "name": "stdout",
     "output_type": "stream",
     "text": [
      "<class 'pandas.core.frame.DataFrame'>\n",
      "Index: 25 entries, 1990 to 2014\n",
      "Data columns (total 1 columns):\n",
      "value    25 non-null float64\n",
      "dtypes: float64(1)\n",
      "memory usage: 1.0+ KB\n"
     ]
    }
   ],
   "source": [
    "df_crime.info()"
   ]
  },
  {
   "cell_type": "code",
   "execution_count": 72,
   "metadata": {},
   "outputs": [
    {
     "data": {
      "text/html": [
       "<div>\n",
       "<style>\n",
       "    .dataframe thead tr:only-child th {\n",
       "        text-align: right;\n",
       "    }\n",
       "\n",
       "    .dataframe thead th {\n",
       "        text-align: left;\n",
       "    }\n",
       "\n",
       "    .dataframe tbody tr th {\n",
       "        vertical-align: top;\n",
       "    }\n",
       "</style>\n",
       "<table border=\"1\" class=\"dataframe\">\n",
       "  <thead>\n",
       "    <tr style=\"text-align: right;\">\n",
       "      <th></th>\n",
       "      <th>value</th>\n",
       "    </tr>\n",
       "  </thead>\n",
       "  <tbody>\n",
       "    <tr>\n",
       "      <th>2004</th>\n",
       "      <td>6939.0</td>\n",
       "    </tr>\n",
       "    <tr>\n",
       "      <th>2005</th>\n",
       "      <td>7103.0</td>\n",
       "    </tr>\n",
       "    <tr>\n",
       "      <th>2006</th>\n",
       "      <td>7384.0</td>\n",
       "    </tr>\n",
       "    <tr>\n",
       "      <th>2007</th>\n",
       "      <td>7051.0</td>\n",
       "    </tr>\n",
       "    <tr>\n",
       "      <th>2008</th>\n",
       "      <td>6715.0</td>\n",
       "    </tr>\n",
       "    <tr>\n",
       "      <th>2009</th>\n",
       "      <td>5985.0</td>\n",
       "    </tr>\n",
       "    <tr>\n",
       "      <th>2010</th>\n",
       "      <td>5867.0</td>\n",
       "    </tr>\n",
       "    <tr>\n",
       "      <th>2011</th>\n",
       "      <td>5702.0</td>\n",
       "    </tr>\n",
       "    <tr>\n",
       "      <th>2012</th>\n",
       "      <td>5848.0</td>\n",
       "    </tr>\n",
       "    <tr>\n",
       "      <th>2013</th>\n",
       "      <td>5344.0</td>\n",
       "    </tr>\n",
       "    <tr>\n",
       "      <th>2014</th>\n",
       "      <td>5349.0</td>\n",
       "    </tr>\n",
       "  </tbody>\n",
       "</table>\n",
       "</div>"
      ],
      "text/plain": [
       "       value\n",
       "2004  6939.0\n",
       "2005  7103.0\n",
       "2006  7384.0\n",
       "2007  7051.0\n",
       "2008  6715.0\n",
       "2009  5985.0\n",
       "2010  5867.0\n",
       "2011  5702.0\n",
       "2012  5848.0\n",
       "2013  5344.0\n",
       "2014  5349.0"
      ]
     },
     "execution_count": 72,
     "metadata": {},
     "output_type": "execute_result"
    }
   ],
   "source": [
    "df_homocides.loc['2004':'2014']"
   ]
  },
  {
   "cell_type": "code",
   "execution_count": 3,
   "metadata": {},
   "outputs": [],
   "source": [
    "filepath = \"../US_unemployment.csv\"\n",
    "csv = pd.read_csv(filepath)\n",
    "df_unemploy = pd.DataFrame(csv)"
   ]
  },
  {
   "cell_type": "code",
   "execution_count": 13,
   "metadata": {},
   "outputs": [
    {
     "data": {
      "text/html": [
       "<div>\n",
       "<style>\n",
       "    .dataframe thead tr:only-child th {\n",
       "        text-align: right;\n",
       "    }\n",
       "\n",
       "    .dataframe thead th {\n",
       "        text-align: left;\n",
       "    }\n",
       "\n",
       "    .dataframe tbody tr th {\n",
       "        vertical-align: top;\n",
       "    }\n",
       "</style>\n",
       "<table border=\"1\" class=\"dataframe\">\n",
       "  <thead>\n",
       "    <tr style=\"text-align: right;\">\n",
       "      <th></th>\n",
       "      <th>5</th>\n",
       "    </tr>\n",
       "    <tr>\n",
       "      <th>4</th>\n",
       "      <th></th>\n",
       "    </tr>\n",
       "  </thead>\n",
       "  <tbody>\n",
       "    <tr>\n",
       "      <th>1980.0</th>\n",
       "      <td>7.1</td>\n",
       "    </tr>\n",
       "    <tr>\n",
       "      <th>1981.0</th>\n",
       "      <td>7.6</td>\n",
       "    </tr>\n",
       "    <tr>\n",
       "      <th>1982.0</th>\n",
       "      <td>9.7</td>\n",
       "    </tr>\n",
       "    <tr>\n",
       "      <th>1983.0</th>\n",
       "      <td>9.6</td>\n",
       "    </tr>\n",
       "    <tr>\n",
       "      <th>1984.0</th>\n",
       "      <td>7.5</td>\n",
       "    </tr>\n",
       "  </tbody>\n",
       "</table>\n",
       "</div>"
      ],
      "text/plain": [
       "          5\n",
       "4          \n",
       "1980.0  7.1\n",
       "1981.0  7.6\n",
       "1982.0  9.7\n",
       "1983.0  9.6\n",
       "1984.0  7.5"
      ]
     },
     "execution_count": 13,
     "metadata": {},
     "output_type": "execute_result"
    }
   ],
   "source": [
    "df_unemploy.loc[4:].transpose().set_index(4).head()"
   ]
  },
  {
   "cell_type": "code",
   "execution_count": 20,
   "metadata": {},
   "outputs": [
    {
     "ename": "KeyError",
     "evalue": "'2004.0'",
     "output_type": "error",
     "traceback": [
      "\u001b[0;31m---------------------------------------------------------------------------\u001b[0m",
      "\u001b[0;31mTypeError\u001b[0m                                 Traceback (most recent call last)",
      "\u001b[0;32m~/anaconda3/lib/python3.6/site-packages/pandas/core/indexes/base.py\u001b[0m in \u001b[0;36mget_value\u001b[0;34m(self, series, key)\u001b[0m\n\u001b[1;32m   2482\u001b[0m             \u001b[0;32mtry\u001b[0m\u001b[0;34m:\u001b[0m\u001b[0;34m\u001b[0m\u001b[0m\n\u001b[0;32m-> 2483\u001b[0;31m                 \u001b[0;32mreturn\u001b[0m \u001b[0mlibts\u001b[0m\u001b[0;34m.\u001b[0m\u001b[0mget_value_box\u001b[0m\u001b[0;34m(\u001b[0m\u001b[0ms\u001b[0m\u001b[0;34m,\u001b[0m \u001b[0mkey\u001b[0m\u001b[0;34m)\u001b[0m\u001b[0;34m\u001b[0m\u001b[0m\n\u001b[0m\u001b[1;32m   2484\u001b[0m             \u001b[0;32mexcept\u001b[0m \u001b[0mIndexError\u001b[0m\u001b[0;34m:\u001b[0m\u001b[0;34m\u001b[0m\u001b[0m\n",
      "\u001b[0;32mpandas/_libs/tslib.pyx\u001b[0m in \u001b[0;36mpandas._libs.tslib.get_value_box (pandas/_libs/tslib.c:18843)\u001b[0;34m()\u001b[0m\n",
      "\u001b[0;32mpandas/_libs/tslib.pyx\u001b[0m in \u001b[0;36mpandas._libs.tslib.get_value_box (pandas/_libs/tslib.c:18477)\u001b[0;34m()\u001b[0m\n",
      "\u001b[0;31mTypeError\u001b[0m: 'str' object cannot be interpreted as an integer",
      "\nDuring handling of the above exception, another exception occurred:\n",
      "\u001b[0;31mKeyError\u001b[0m                                  Traceback (most recent call last)",
      "\u001b[0;32m<ipython-input-20-2754c018b63c>\u001b[0m in \u001b[0;36m<module>\u001b[0;34m()\u001b[0m\n\u001b[0;32m----> 1\u001b[0;31m \u001b[0mdf_unemploy\u001b[0m\u001b[0;34m.\u001b[0m\u001b[0mloc\u001b[0m\u001b[0;34m[\u001b[0m\u001b[0;36m4\u001b[0m\u001b[0;34m]\u001b[0m\u001b[0;34m[\u001b[0m\u001b[0;34m'2004.0'\u001b[0m\u001b[0;34m]\u001b[0m\u001b[0;34m\u001b[0m\u001b[0m\n\u001b[0m",
      "\u001b[0;32m~/anaconda3/lib/python3.6/site-packages/pandas/core/series.py\u001b[0m in \u001b[0;36m__getitem__\u001b[0;34m(self, key)\u001b[0m\n\u001b[1;32m    599\u001b[0m         \u001b[0mkey\u001b[0m \u001b[0;34m=\u001b[0m \u001b[0mcom\u001b[0m\u001b[0;34m.\u001b[0m\u001b[0m_apply_if_callable\u001b[0m\u001b[0;34m(\u001b[0m\u001b[0mkey\u001b[0m\u001b[0;34m,\u001b[0m \u001b[0mself\u001b[0m\u001b[0;34m)\u001b[0m\u001b[0;34m\u001b[0m\u001b[0m\n\u001b[1;32m    600\u001b[0m         \u001b[0;32mtry\u001b[0m\u001b[0;34m:\u001b[0m\u001b[0;34m\u001b[0m\u001b[0m\n\u001b[0;32m--> 601\u001b[0;31m             \u001b[0mresult\u001b[0m \u001b[0;34m=\u001b[0m \u001b[0mself\u001b[0m\u001b[0;34m.\u001b[0m\u001b[0mindex\u001b[0m\u001b[0;34m.\u001b[0m\u001b[0mget_value\u001b[0m\u001b[0;34m(\u001b[0m\u001b[0mself\u001b[0m\u001b[0;34m,\u001b[0m \u001b[0mkey\u001b[0m\u001b[0;34m)\u001b[0m\u001b[0;34m\u001b[0m\u001b[0m\n\u001b[0m\u001b[1;32m    602\u001b[0m \u001b[0;34m\u001b[0m\u001b[0m\n\u001b[1;32m    603\u001b[0m             \u001b[0;32mif\u001b[0m \u001b[0;32mnot\u001b[0m \u001b[0mis_scalar\u001b[0m\u001b[0;34m(\u001b[0m\u001b[0mresult\u001b[0m\u001b[0;34m)\u001b[0m\u001b[0;34m:\u001b[0m\u001b[0;34m\u001b[0m\u001b[0m\n",
      "\u001b[0;32m~/anaconda3/lib/python3.6/site-packages/pandas/core/indexes/base.py\u001b[0m in \u001b[0;36mget_value\u001b[0;34m(self, series, key)\u001b[0m\n\u001b[1;32m   2489\u001b[0m                     \u001b[0;32mraise\u001b[0m \u001b[0mInvalidIndexError\u001b[0m\u001b[0;34m(\u001b[0m\u001b[0mkey\u001b[0m\u001b[0;34m)\u001b[0m\u001b[0;34m\u001b[0m\u001b[0m\n\u001b[1;32m   2490\u001b[0m                 \u001b[0;32melse\u001b[0m\u001b[0;34m:\u001b[0m\u001b[0;34m\u001b[0m\u001b[0m\n\u001b[0;32m-> 2491\u001b[0;31m                     \u001b[0;32mraise\u001b[0m \u001b[0me1\u001b[0m\u001b[0;34m\u001b[0m\u001b[0m\n\u001b[0m\u001b[1;32m   2492\u001b[0m             \u001b[0;32mexcept\u001b[0m \u001b[0mException\u001b[0m\u001b[0;34m:\u001b[0m  \u001b[0;31m# pragma: no cover\u001b[0m\u001b[0;34m\u001b[0m\u001b[0m\n\u001b[1;32m   2493\u001b[0m                 \u001b[0;32mraise\u001b[0m \u001b[0me1\u001b[0m\u001b[0;34m\u001b[0m\u001b[0m\n",
      "\u001b[0;32m~/anaconda3/lib/python3.6/site-packages/pandas/core/indexes/base.py\u001b[0m in \u001b[0;36mget_value\u001b[0;34m(self, series, key)\u001b[0m\n\u001b[1;32m   2475\u001b[0m         \u001b[0;32mtry\u001b[0m\u001b[0;34m:\u001b[0m\u001b[0;34m\u001b[0m\u001b[0m\n\u001b[1;32m   2476\u001b[0m             return self._engine.get_value(s, k,\n\u001b[0;32m-> 2477\u001b[0;31m                                           tz=getattr(series.dtype, 'tz', None))\n\u001b[0m\u001b[1;32m   2478\u001b[0m         \u001b[0;32mexcept\u001b[0m \u001b[0mKeyError\u001b[0m \u001b[0;32mas\u001b[0m \u001b[0me1\u001b[0m\u001b[0;34m:\u001b[0m\u001b[0;34m\u001b[0m\u001b[0m\n\u001b[1;32m   2479\u001b[0m             \u001b[0;32mif\u001b[0m \u001b[0mlen\u001b[0m\u001b[0;34m(\u001b[0m\u001b[0mself\u001b[0m\u001b[0;34m)\u001b[0m \u001b[0;34m>\u001b[0m \u001b[0;36m0\u001b[0m \u001b[0;32mand\u001b[0m \u001b[0mself\u001b[0m\u001b[0;34m.\u001b[0m\u001b[0minferred_type\u001b[0m \u001b[0;32min\u001b[0m \u001b[0;34m[\u001b[0m\u001b[0;34m'integer'\u001b[0m\u001b[0;34m,\u001b[0m \u001b[0;34m'boolean'\u001b[0m\u001b[0;34m]\u001b[0m\u001b[0;34m:\u001b[0m\u001b[0;34m\u001b[0m\u001b[0m\n",
      "\u001b[0;32mpandas/_libs/index.pyx\u001b[0m in \u001b[0;36mpandas._libs.index.IndexEngine.get_value\u001b[0;34m()\u001b[0m\n",
      "\u001b[0;32mpandas/_libs/index.pyx\u001b[0m in \u001b[0;36mpandas._libs.index.IndexEngine.get_value\u001b[0;34m()\u001b[0m\n",
      "\u001b[0;32mpandas/_libs/index.pyx\u001b[0m in \u001b[0;36mpandas._libs.index.IndexEngine.get_loc\u001b[0;34m()\u001b[0m\n",
      "\u001b[0;32mpandas/_libs/hashtable_class_helper.pxi\u001b[0m in \u001b[0;36mpandas._libs.hashtable.PyObjectHashTable.get_item\u001b[0;34m()\u001b[0m\n",
      "\u001b[0;32mpandas/_libs/hashtable_class_helper.pxi\u001b[0m in \u001b[0;36mpandas._libs.hashtable.PyObjectHashTable.get_item\u001b[0;34m()\u001b[0m\n",
      "\u001b[0;31mKeyError\u001b[0m: '2004.0'"
     ]
    }
   ],
   "source": [
    "df_unemploy.loc[4]['2004.0']"
   ]
  },
  {
   "cell_type": "code",
   "execution_count": 15,
   "metadata": {},
   "outputs": [
    {
     "ename": "KeyError",
     "evalue": "5",
     "output_type": "error",
     "traceback": [
      "\u001b[0;31m---------------------------------------------------------------------------\u001b[0m",
      "\u001b[0;31mKeyError\u001b[0m                                  Traceback (most recent call last)",
      "\u001b[0;32m~/anaconda3/lib/python3.6/site-packages/pandas/core/indexes/base.py\u001b[0m in \u001b[0;36mget_loc\u001b[0;34m(self, key, method, tolerance)\u001b[0m\n\u001b[1;32m   2441\u001b[0m             \u001b[0;32mtry\u001b[0m\u001b[0;34m:\u001b[0m\u001b[0;34m\u001b[0m\u001b[0m\n\u001b[0;32m-> 2442\u001b[0;31m                 \u001b[0;32mreturn\u001b[0m \u001b[0mself\u001b[0m\u001b[0;34m.\u001b[0m\u001b[0m_engine\u001b[0m\u001b[0;34m.\u001b[0m\u001b[0mget_loc\u001b[0m\u001b[0;34m(\u001b[0m\u001b[0mkey\u001b[0m\u001b[0;34m)\u001b[0m\u001b[0;34m\u001b[0m\u001b[0m\n\u001b[0m\u001b[1;32m   2443\u001b[0m             \u001b[0;32mexcept\u001b[0m \u001b[0mKeyError\u001b[0m\u001b[0;34m:\u001b[0m\u001b[0;34m\u001b[0m\u001b[0m\n",
      "\u001b[0;32mpandas/_libs/index.pyx\u001b[0m in \u001b[0;36mpandas._libs.index.IndexEngine.get_loc\u001b[0;34m()\u001b[0m\n",
      "\u001b[0;32mpandas/_libs/index.pyx\u001b[0m in \u001b[0;36mpandas._libs.index.IndexEngine.get_loc\u001b[0;34m()\u001b[0m\n",
      "\u001b[0;32mpandas/_libs/hashtable_class_helper.pxi\u001b[0m in \u001b[0;36mpandas._libs.hashtable.PyObjectHashTable.get_item\u001b[0;34m()\u001b[0m\n",
      "\u001b[0;32mpandas/_libs/hashtable_class_helper.pxi\u001b[0m in \u001b[0;36mpandas._libs.hashtable.PyObjectHashTable.get_item\u001b[0;34m()\u001b[0m\n",
      "\u001b[0;31mKeyError\u001b[0m: 5",
      "\nDuring handling of the above exception, another exception occurred:\n",
      "\u001b[0;31mKeyError\u001b[0m                                  Traceback (most recent call last)",
      "\u001b[0;32m<ipython-input-15-287133464989>\u001b[0m in \u001b[0;36m<module>\u001b[0;34m()\u001b[0m\n\u001b[0;32m----> 1\u001b[0;31m \u001b[0my6\u001b[0m \u001b[0;34m=\u001b[0m \u001b[0mdf_unemploy\u001b[0m\u001b[0;34m.\u001b[0m\u001b[0mloc\u001b[0m\u001b[0;34m[\u001b[0m\u001b[0;36m2004.0\u001b[0m\u001b[0;34m:\u001b[0m\u001b[0;36m2014.0\u001b[0m\u001b[0;34m]\u001b[0m\u001b[0;34m[\u001b[0m\u001b[0;36m5\u001b[0m\u001b[0;34m]\u001b[0m\u001b[0;34m\u001b[0m\u001b[0m\n\u001b[0m",
      "\u001b[0;32m~/anaconda3/lib/python3.6/site-packages/pandas/core/frame.py\u001b[0m in \u001b[0;36m__getitem__\u001b[0;34m(self, key)\u001b[0m\n\u001b[1;32m   1962\u001b[0m             \u001b[0;32mreturn\u001b[0m \u001b[0mself\u001b[0m\u001b[0;34m.\u001b[0m\u001b[0m_getitem_multilevel\u001b[0m\u001b[0;34m(\u001b[0m\u001b[0mkey\u001b[0m\u001b[0;34m)\u001b[0m\u001b[0;34m\u001b[0m\u001b[0m\n\u001b[1;32m   1963\u001b[0m         \u001b[0;32melse\u001b[0m\u001b[0;34m:\u001b[0m\u001b[0;34m\u001b[0m\u001b[0m\n\u001b[0;32m-> 1964\u001b[0;31m             \u001b[0;32mreturn\u001b[0m \u001b[0mself\u001b[0m\u001b[0;34m.\u001b[0m\u001b[0m_getitem_column\u001b[0m\u001b[0;34m(\u001b[0m\u001b[0mkey\u001b[0m\u001b[0;34m)\u001b[0m\u001b[0;34m\u001b[0m\u001b[0m\n\u001b[0m\u001b[1;32m   1965\u001b[0m \u001b[0;34m\u001b[0m\u001b[0m\n\u001b[1;32m   1966\u001b[0m     \u001b[0;32mdef\u001b[0m \u001b[0m_getitem_column\u001b[0m\u001b[0;34m(\u001b[0m\u001b[0mself\u001b[0m\u001b[0;34m,\u001b[0m \u001b[0mkey\u001b[0m\u001b[0;34m)\u001b[0m\u001b[0;34m:\u001b[0m\u001b[0;34m\u001b[0m\u001b[0m\n",
      "\u001b[0;32m~/anaconda3/lib/python3.6/site-packages/pandas/core/frame.py\u001b[0m in \u001b[0;36m_getitem_column\u001b[0;34m(self, key)\u001b[0m\n\u001b[1;32m   1969\u001b[0m         \u001b[0;31m# get column\u001b[0m\u001b[0;34m\u001b[0m\u001b[0;34m\u001b[0m\u001b[0m\n\u001b[1;32m   1970\u001b[0m         \u001b[0;32mif\u001b[0m \u001b[0mself\u001b[0m\u001b[0;34m.\u001b[0m\u001b[0mcolumns\u001b[0m\u001b[0;34m.\u001b[0m\u001b[0mis_unique\u001b[0m\u001b[0;34m:\u001b[0m\u001b[0;34m\u001b[0m\u001b[0m\n\u001b[0;32m-> 1971\u001b[0;31m             \u001b[0;32mreturn\u001b[0m \u001b[0mself\u001b[0m\u001b[0;34m.\u001b[0m\u001b[0m_get_item_cache\u001b[0m\u001b[0;34m(\u001b[0m\u001b[0mkey\u001b[0m\u001b[0;34m)\u001b[0m\u001b[0;34m\u001b[0m\u001b[0m\n\u001b[0m\u001b[1;32m   1972\u001b[0m \u001b[0;34m\u001b[0m\u001b[0m\n\u001b[1;32m   1973\u001b[0m         \u001b[0;31m# duplicate columns & possible reduce dimensionality\u001b[0m\u001b[0;34m\u001b[0m\u001b[0;34m\u001b[0m\u001b[0m\n",
      "\u001b[0;32m~/anaconda3/lib/python3.6/site-packages/pandas/core/generic.py\u001b[0m in \u001b[0;36m_get_item_cache\u001b[0;34m(self, item)\u001b[0m\n\u001b[1;32m   1643\u001b[0m         \u001b[0mres\u001b[0m \u001b[0;34m=\u001b[0m \u001b[0mcache\u001b[0m\u001b[0;34m.\u001b[0m\u001b[0mget\u001b[0m\u001b[0;34m(\u001b[0m\u001b[0mitem\u001b[0m\u001b[0;34m)\u001b[0m\u001b[0;34m\u001b[0m\u001b[0m\n\u001b[1;32m   1644\u001b[0m         \u001b[0;32mif\u001b[0m \u001b[0mres\u001b[0m \u001b[0;32mis\u001b[0m \u001b[0;32mNone\u001b[0m\u001b[0;34m:\u001b[0m\u001b[0;34m\u001b[0m\u001b[0m\n\u001b[0;32m-> 1645\u001b[0;31m             \u001b[0mvalues\u001b[0m \u001b[0;34m=\u001b[0m \u001b[0mself\u001b[0m\u001b[0;34m.\u001b[0m\u001b[0m_data\u001b[0m\u001b[0;34m.\u001b[0m\u001b[0mget\u001b[0m\u001b[0;34m(\u001b[0m\u001b[0mitem\u001b[0m\u001b[0;34m)\u001b[0m\u001b[0;34m\u001b[0m\u001b[0m\n\u001b[0m\u001b[1;32m   1646\u001b[0m             \u001b[0mres\u001b[0m \u001b[0;34m=\u001b[0m \u001b[0mself\u001b[0m\u001b[0;34m.\u001b[0m\u001b[0m_box_item_values\u001b[0m\u001b[0;34m(\u001b[0m\u001b[0mitem\u001b[0m\u001b[0;34m,\u001b[0m \u001b[0mvalues\u001b[0m\u001b[0;34m)\u001b[0m\u001b[0;34m\u001b[0m\u001b[0m\n\u001b[1;32m   1647\u001b[0m             \u001b[0mcache\u001b[0m\u001b[0;34m[\u001b[0m\u001b[0mitem\u001b[0m\u001b[0;34m]\u001b[0m \u001b[0;34m=\u001b[0m \u001b[0mres\u001b[0m\u001b[0;34m\u001b[0m\u001b[0m\n",
      "\u001b[0;32m~/anaconda3/lib/python3.6/site-packages/pandas/core/internals.py\u001b[0m in \u001b[0;36mget\u001b[0;34m(self, item, fastpath)\u001b[0m\n\u001b[1;32m   3588\u001b[0m \u001b[0;34m\u001b[0m\u001b[0m\n\u001b[1;32m   3589\u001b[0m             \u001b[0;32mif\u001b[0m \u001b[0;32mnot\u001b[0m \u001b[0misnull\u001b[0m\u001b[0;34m(\u001b[0m\u001b[0mitem\u001b[0m\u001b[0;34m)\u001b[0m\u001b[0;34m:\u001b[0m\u001b[0;34m\u001b[0m\u001b[0m\n\u001b[0;32m-> 3590\u001b[0;31m                 \u001b[0mloc\u001b[0m \u001b[0;34m=\u001b[0m \u001b[0mself\u001b[0m\u001b[0;34m.\u001b[0m\u001b[0mitems\u001b[0m\u001b[0;34m.\u001b[0m\u001b[0mget_loc\u001b[0m\u001b[0;34m(\u001b[0m\u001b[0mitem\u001b[0m\u001b[0;34m)\u001b[0m\u001b[0;34m\u001b[0m\u001b[0m\n\u001b[0m\u001b[1;32m   3591\u001b[0m             \u001b[0;32melse\u001b[0m\u001b[0;34m:\u001b[0m\u001b[0;34m\u001b[0m\u001b[0m\n\u001b[1;32m   3592\u001b[0m                 \u001b[0mindexer\u001b[0m \u001b[0;34m=\u001b[0m \u001b[0mnp\u001b[0m\u001b[0;34m.\u001b[0m\u001b[0marange\u001b[0m\u001b[0;34m(\u001b[0m\u001b[0mlen\u001b[0m\u001b[0;34m(\u001b[0m\u001b[0mself\u001b[0m\u001b[0;34m.\u001b[0m\u001b[0mitems\u001b[0m\u001b[0;34m)\u001b[0m\u001b[0;34m)\u001b[0m\u001b[0;34m[\u001b[0m\u001b[0misnull\u001b[0m\u001b[0;34m(\u001b[0m\u001b[0mself\u001b[0m\u001b[0;34m.\u001b[0m\u001b[0mitems\u001b[0m\u001b[0;34m)\u001b[0m\u001b[0;34m]\u001b[0m\u001b[0;34m\u001b[0m\u001b[0m\n",
      "\u001b[0;32m~/anaconda3/lib/python3.6/site-packages/pandas/core/indexes/base.py\u001b[0m in \u001b[0;36mget_loc\u001b[0;34m(self, key, method, tolerance)\u001b[0m\n\u001b[1;32m   2442\u001b[0m                 \u001b[0;32mreturn\u001b[0m \u001b[0mself\u001b[0m\u001b[0;34m.\u001b[0m\u001b[0m_engine\u001b[0m\u001b[0;34m.\u001b[0m\u001b[0mget_loc\u001b[0m\u001b[0;34m(\u001b[0m\u001b[0mkey\u001b[0m\u001b[0;34m)\u001b[0m\u001b[0;34m\u001b[0m\u001b[0m\n\u001b[1;32m   2443\u001b[0m             \u001b[0;32mexcept\u001b[0m \u001b[0mKeyError\u001b[0m\u001b[0;34m:\u001b[0m\u001b[0;34m\u001b[0m\u001b[0m\n\u001b[0;32m-> 2444\u001b[0;31m                 \u001b[0;32mreturn\u001b[0m \u001b[0mself\u001b[0m\u001b[0;34m.\u001b[0m\u001b[0m_engine\u001b[0m\u001b[0;34m.\u001b[0m\u001b[0mget_loc\u001b[0m\u001b[0;34m(\u001b[0m\u001b[0mself\u001b[0m\u001b[0;34m.\u001b[0m\u001b[0m_maybe_cast_indexer\u001b[0m\u001b[0;34m(\u001b[0m\u001b[0mkey\u001b[0m\u001b[0;34m)\u001b[0m\u001b[0;34m)\u001b[0m\u001b[0;34m\u001b[0m\u001b[0m\n\u001b[0m\u001b[1;32m   2445\u001b[0m \u001b[0;34m\u001b[0m\u001b[0m\n\u001b[1;32m   2446\u001b[0m         \u001b[0mindexer\u001b[0m \u001b[0;34m=\u001b[0m \u001b[0mself\u001b[0m\u001b[0;34m.\u001b[0m\u001b[0mget_indexer\u001b[0m\u001b[0;34m(\u001b[0m\u001b[0;34m[\u001b[0m\u001b[0mkey\u001b[0m\u001b[0;34m]\u001b[0m\u001b[0;34m,\u001b[0m \u001b[0mmethod\u001b[0m\u001b[0;34m=\u001b[0m\u001b[0mmethod\u001b[0m\u001b[0;34m,\u001b[0m \u001b[0mtolerance\u001b[0m\u001b[0;34m=\u001b[0m\u001b[0mtolerance\u001b[0m\u001b[0;34m)\u001b[0m\u001b[0;34m\u001b[0m\u001b[0m\n",
      "\u001b[0;32mpandas/_libs/index.pyx\u001b[0m in \u001b[0;36mpandas._libs.index.IndexEngine.get_loc\u001b[0;34m()\u001b[0m\n",
      "\u001b[0;32mpandas/_libs/index.pyx\u001b[0m in \u001b[0;36mpandas._libs.index.IndexEngine.get_loc\u001b[0;34m()\u001b[0m\n",
      "\u001b[0;32mpandas/_libs/hashtable_class_helper.pxi\u001b[0m in \u001b[0;36mpandas._libs.hashtable.PyObjectHashTable.get_item\u001b[0;34m()\u001b[0m\n",
      "\u001b[0;32mpandas/_libs/hashtable_class_helper.pxi\u001b[0m in \u001b[0;36mpandas._libs.hashtable.PyObjectHashTable.get_item\u001b[0;34m()\u001b[0m\n",
      "\u001b[0;31mKeyError\u001b[0m: 5"
     ]
    }
   ],
   "source": [
    "y6 = df_unemploy.loc[2004.0:2014.0][5]"
   ]
  },
  {
   "cell_type": "code",
   "execution_count": null,
   "metadata": {
    "collapsed": true
   },
   "outputs": [],
   "source": []
  },
  {
   "cell_type": "code",
   "execution_count": null,
   "metadata": {
    "collapsed": true
   },
   "outputs": [],
   "source": []
  },
  {
   "cell_type": "code",
   "execution_count": null,
   "metadata": {
    "collapsed": true
   },
   "outputs": [],
   "source": []
  },
  {
   "cell_type": "code",
   "execution_count": null,
   "metadata": {
    "collapsed": true
   },
   "outputs": [],
   "source": []
  },
  {
   "cell_type": "code",
   "execution_count": 75,
   "metadata": {
    "collapsed": true
   },
   "outputs": [],
   "source": [
    "filepath = \"../foreclosure.csv\"\n",
    "csv = pd.read_csv(filepath)\n",
    "df_fore = pd.DataFrame(csv)"
   ]
  },
  {
   "cell_type": "code",
   "execution_count": 79,
   "metadata": {
    "collapsed": true
   },
   "outputs": [],
   "source": [
    "df_fore = df_fore.set_index('year')"
   ]
  },
  {
   "cell_type": "code",
   "execution_count": 93,
   "metadata": {
    "collapsed": true
   },
   "outputs": [],
   "source": [
    "df_fore = df_fore.sort_index()"
   ]
  },
  {
   "cell_type": "code",
   "execution_count": 219,
   "metadata": {
    "collapsed": true
   },
   "outputs": [],
   "source": [
    "x1 = df_fore.index.get_values()\n",
    "y1 = df_fore['Home_repos']\n",
    "y3 = df_fore['foreclosure_filings']"
   ]
  },
  {
   "cell_type": "code",
   "execution_count": 220,
   "metadata": {
    "collapsed": true
   },
   "outputs": [],
   "source": [
    "x2 = df_homocides.loc['2004':'2014'].index.get_values()\n",
    "y2 = df_homocides.loc['2004':'2014']['value']\n",
    "y4 = df_sch_deaths.loc['2002':'2016']['value']"
   ]
  },
  {
   "cell_type": "code",
   "execution_count": 221,
   "metadata": {},
   "outputs": [
    {
     "data": {
      "image/png": "[encoded data removed]",
      "text/plain": [
       "<matplotlib.figure.Figure at 0x1a12535e48>"
      ]
     },
     "metadata": {},
     "output_type": "display_data"
    }
   ],
   "source": [
    "fig, (ax1, ax2, ax3, ax4) = plt.subplots(4, 1)\n",
    "#ax1 = plt.gca()\n",
    "#ax1.set_ylim(ax1.get_ylim()[::-1])\n",
    "ax1.plot(x1, y1, 'o', linestyle='')\n",
    "ax2.plot(x2, y2, '^', linestyle='')\n",
    "ax3.plot(x1, y3, '*', linestyle='')\n",
    "ax4.plot(x1, y4, '_', linestyle='')\n",
    "plt.tight_layout()\n",
    "plt.xlabel('year')\n",
    "#plt.ylabel('number of repos')\n",
    "#ax1 = plt.gca()\n",
    "#ax1.set_ylim(ax1.get_ylim()[::-1])\n",
    "#plt.title('Number of Home Repos over Time')\n",
    "plt.show()"
   ]
  },
  {
   "cell_type": "code",
   "execution_count": 339,
   "metadata": {
    "collapsed": true
   },
   "outputs": [],
   "source": [
    "filepath = \"../SNAP_data.csv\"\n",
    "csv = pd.read_csv(filepath)\n",
    "df_SNAP = pd.DataFrame(csv)"
   ]
  },
  {
   "cell_type": "code",
   "execution_count": 340,
   "metadata": {},
   "outputs": [
    {
     "data": {
      "text/html": [
       "<div>\n",
       "<style>\n",
       "    .dataframe thead tr:only-child th {\n",
       "        text-align: right;\n",
       "    }\n",
       "\n",
       "    .dataframe thead th {\n",
       "        text-align: left;\n",
       "    }\n",
       "\n",
       "    .dataframe tbody tr th {\n",
       "        vertical-align: top;\n",
       "    }\n",
       "</style>\n",
       "<table border=\"1\" class=\"dataframe\">\n",
       "  <thead>\n",
       "    <tr style=\"text-align: right;\">\n",
       "      <th></th>\n",
       "      <th>Fiscal Year</th>\n",
       "      <th>Average Participation</th>\n",
       "      <th>Average Benefit Per Person 1]</th>\n",
       "      <th>Total Benefits</th>\n",
       "      <th>All Other Costs 2]</th>\n",
       "      <th>Total Costs</th>\n",
       "    </tr>\n",
       "  </thead>\n",
       "  <tbody>\n",
       "    <tr>\n",
       "      <th>0</th>\n",
       "      <td>1969</td>\n",
       "      <td>2,878</td>\n",
       "      <td>6.63</td>\n",
       "      <td>228.80</td>\n",
       "      <td>21.70</td>\n",
       "      <td>250.50</td>\n",
       "    </tr>\n",
       "    <tr>\n",
       "      <th>1</th>\n",
       "      <td>1970</td>\n",
       "      <td>4,340</td>\n",
       "      <td>10.55</td>\n",
       "      <td>549.70</td>\n",
       "      <td>27.20</td>\n",
       "      <td>576.90</td>\n",
       "    </tr>\n",
       "    <tr>\n",
       "      <th>2</th>\n",
       "      <td>1971</td>\n",
       "      <td>9,368</td>\n",
       "      <td>13.55</td>\n",
       "      <td>1,522.70</td>\n",
       "      <td>53.20</td>\n",
       "      <td>1,575.90</td>\n",
       "    </tr>\n",
       "    <tr>\n",
       "      <th>3</th>\n",
       "      <td>1972</td>\n",
       "      <td>11,109</td>\n",
       "      <td>13.48</td>\n",
       "      <td>1,797.30</td>\n",
       "      <td>69.40</td>\n",
       "      <td>1,866.70</td>\n",
       "    </tr>\n",
       "    <tr>\n",
       "      <th>4</th>\n",
       "      <td>1973</td>\n",
       "      <td>12,166</td>\n",
       "      <td>14.60</td>\n",
       "      <td>2,131.40</td>\n",
       "      <td>76.00</td>\n",
       "      <td>2,207.40</td>\n",
       "    </tr>\n",
       "  </tbody>\n",
       "</table>\n",
       "</div>"
      ],
      "text/plain": [
       "  Fiscal Year Average Participation  Average Benefit Per Person 1]  \\\n",
       "0        1969                 2,878                           6.63   \n",
       "1        1970                 4,340                          10.55   \n",
       "2        1971                 9,368                          13.55   \n",
       "3        1972                11,109                          13.48   \n",
       "4        1973                12,166                          14.60   \n",
       "\n",
       "  Total Benefits All Other Costs 2] Total Costs  \n",
       "0         228.80              21.70      250.50  \n",
       "1         549.70              27.20      576.90  \n",
       "2       1,522.70              53.20    1,575.90  \n",
       "3       1,797.30              69.40    1,866.70  \n",
       "4       2,131.40              76.00    2,207.40  "
      ]
     },
     "execution_count": 340,
     "metadata": {},
     "output_type": "execute_result"
    }
   ],
   "source": [
    "df_SNAP.head()"
   ]
  },
  {
   "cell_type": "code",
   "execution_count": 341,
   "metadata": {
    "collapsed": true
   },
   "outputs": [],
   "source": [
    "df_SNAP = df_SNAP.set_index('Fiscal Year')"
   ]
  },
  {
   "cell_type": "code",
   "execution_count": 342,
   "metadata": {
    "collapsed": true
   },
   "outputs": [],
   "source": [
    "df_SNAP = df_SNAP.loc['2004':'2014']['Average Participation']"
   ]
  },
  {
   "cell_type": "code",
   "execution_count": 343,
   "metadata": {},
   "outputs": [
    {
     "data": {
      "text/plain": [
       "Fiscal Year\n",
       "2004    23,811\n",
       "2005    25,628\n",
       "2006    26,549\n",
       "2007    26,316\n",
       "2008    28,223\n",
       "2009    33,490\n",
       "2010    40,302\n",
       "2011    44,709\n",
       "2012    46,609\n",
       "2013    47,636\n",
       "2014    46,664\n",
       "Name: Average Participation, dtype: object"
      ]
     },
     "execution_count": 343,
     "metadata": {},
     "output_type": "execute_result"
    }
   ],
   "source": [
    "df_SNAP"
   ]
  },
  {
   "cell_type": "code",
   "execution_count": 344,
   "metadata": {
    "collapsed": true
   },
   "outputs": [],
   "source": [
    "y5 = df_SNAP"
   ]
  },
  {
   "cell_type": "code",
   "execution_count": 364,
   "metadata": {},
   "outputs": [
    {
     "data": {
      "image/png": "[encoded data removed]",
      "text/plain": [
       "<matplotlib.figure.Figure at 0x1a11e4c8d0>"
      ]
     },
     "metadata": {},
     "output_type": "display_data"
    }
   ],
   "source": [
    "fig, (ax1, ax2, ax3, ax4, ax5) = plt.subplots(5, 1, figsize=(8,12))\n",
    "#ax1 = plt.gca()\n",
    "#ax1.set_ylim(ax1.get_ylim()[::-1])\n",
    "ax1.plot(x1, y1, 'o', linestyle='', color='red')\n",
    "ax2.plot(x2, y2, '^', linestyle='', color='black')\n",
    "ax3.plot(x1, y3, '*', linestyle='', color='green')\n",
    "ax4.plot(x1, y4, '_', linestyle='', color='purple')\n",
    "ax5.plot(x1[:-2], y5, '+', linestyle='', color='violet')\n",
    "plt.tight_layout()\n",
    "plt.xlabel('year')\n",
    "#plt.ylabel('number of repos')\n",
    "#ax1 = plt.gca()\n",
    "#ax1.set_ylim(ax1.get_ylim()[::-1])\n",
    "#plt.title('Number of Home Repos over Time')\n",
    "plt.show()"
   ]
  },
  {
   "cell_type": "code",
   "execution_count": 333,
   "metadata": {
    "collapsed": true
   },
   "outputs": [],
   "source": [
    "y5_new_list = []\n",
    "for i in range(len(df_SNAP)):\n",
    "    y5_new_list.append(df_SNAP.iloc[i].replace(',',''))\n",
    "    y5_new_list[i] = int(y5_new_list[i])"
   ]
  },
  {
   "cell_type": "code",
   "execution_count": 334,
   "metadata": {
    "collapsed": true
   },
   "outputs": [],
   "source": [
    "y2_new_list = []\n",
    "for i in range(len(y2)):\n",
    "    y2_new_list.append(y2.iloc[i])\n",
    "    y2_new_list[i] = int(y2_new_list[i])"
   ]
  },
  {
   "cell_type": "code",
   "execution_count": 335,
   "metadata": {
    "collapsed": true
   },
   "outputs": [],
   "source": [
    "y1_new = y1[:-2]"
   ]
  },
  {
   "cell_type": "code",
   "execution_count": 262,
   "metadata": {
    "collapsed": true
   },
   "outputs": [],
   "source": [
    "y1_new_list = []\n",
    "for i in range(len(y1_new)):\n",
    "    y1_new_list.append(y1_new.iloc[i].replace(',',''))\n",
    "    y1_new_list[i] = int(y1_new_list[i])"
   ]
  },
  {
   "cell_type": "code",
   "execution_count": 336,
   "metadata": {},
   "outputs": [
    {
     "name": "stdout",
     "output_type": "stream",
     "text": [
      "-0.438855426067 0.176908048093\n"
     ]
    }
   ],
   "source": [
    "# y1 - home repossessions\n",
    "# y2 - homicides\n",
    "# y3 - foreclosure filings\n",
    "# y4 - school deaths\n",
    "# y5 = SNAP participation\n",
    "y = y1_new_list\n",
    "x = y2_new_list\n",
    "r_row, p_value = pearsonr(x, y)\n",
    "print(r_row, p_value)"
   ]
  },
  {
   "cell_type": "code",
   "execution_count": 269,
   "metadata": {
    "collapsed": true
   },
   "outputs": [],
   "source": [
    "y3_new = y3[:-2]"
   ]
  },
  {
   "cell_type": "code",
   "execution_count": 271,
   "metadata": {
    "collapsed": true
   },
   "outputs": [],
   "source": [
    "y3_new_list = []\n",
    "for i in range(len(y3_new)):\n",
    "    y3_new_list.append(y3_new.iloc[i].replace(',',''))\n",
    "    y3_new_list[i] = int(y3_new_list[i])"
   ]
  },
  {
   "cell_type": "code",
   "execution_count": 306,
   "metadata": {
    "collapsed": true
   },
   "outputs": [],
   "source": [
    "y4_new = y4[2:]"
   ]
  },
  {
   "cell_type": "code",
   "execution_count": 307,
   "metadata": {
    "collapsed": true
   },
   "outputs": [],
   "source": [
    "y4_new_list = []\n",
    "for i in range(len(y4_new)):\n",
    "    y4_new_list.append(y4_new.iloc[i])\n",
    "    y4_new_list[i] = int(y4_new_list[i])"
   ]
  },
  {
   "cell_type": "code",
   "execution_count": 308,
   "metadata": {},
   "outputs": [
    {
     "name": "stdout",
     "output_type": "stream",
     "text": [
      "-0.277684242515 0.408381140125\n"
     ]
    }
   ],
   "source": [
    "# y1 - home repossessions\n",
    "# y2 - homicides\n",
    "# y3 - foreclosure filings\n",
    "# y4 - school deaths\n",
    "# y5 = SNAP participation\n",
    "x = y3_new_list\n",
    "y = y2_new_list\n",
    "r_row, p_value = pearsonr(x, y)\n",
    "print(r_row, p_value)"
   ]
  },
  {
   "cell_type": "code",
   "execution_count": 309,
   "metadata": {},
   "outputs": [
    {
     "name": "stdout",
     "output_type": "stream",
     "text": [
      "0.106853993694 0.754507172304\n"
     ]
    }
   ],
   "source": [
    "# y1 - home repossessions\n",
    "# y2 - homicides\n",
    "# y3 - foreclosure filings\n",
    "# y4 - school deaths\n",
    "# y5 = SNAP participation\n",
    "x = y4_new_list\n",
    "y = y2_new_list\n",
    "r_row, p_value = pearsonr(x, y)\n",
    "print(r_row, p_value)"
   ]
  },
  {
   "cell_type": "code",
   "execution_count": 310,
   "metadata": {},
   "outputs": [
    {
     "name": "stdout",
     "output_type": "stream",
     "text": [
      "-0.18543759844 0.585141766351\n"
     ]
    }
   ],
   "source": [
    "# y1 - home repossessions\n",
    "# y2 - homicides\n",
    "# y3 - foreclosure filings\n",
    "# y4 - school deaths\n",
    "# y5 = SNAP participation\n",
    "x = y4_new_list\n",
    "y = y1_new_list\n",
    "r_row, p_value = pearsonr(x, y)\n",
    "print(r_row, p_value)"
   ]
  },
  {
   "cell_type": "code",
   "execution_count": 365,
   "metadata": {},
   "outputs": [
    {
     "name": "stdout",
     "output_type": "stream",
     "text": [
      "0.0826485552456 0.809102483158\n"
     ]
    }
   ],
   "source": [
    "# y1 - home repossessions\n",
    "# y2 - homicides\n",
    "# y3 - foreclosure filings\n",
    "# y4 - school deaths\n",
    "# y5 = SNAP participation\n",
    "x = y5_new_list\n",
    "y = y4_new_list\n",
    "r_row, p_value = pearsonr(x, y)\n",
    "print(r_row, p_value)"
   ]
  },
  {
   "cell_type": "code",
   "execution_count": 366,
   "metadata": {},
   "outputs": [
    {
     "name": "stdout",
     "output_type": "stream",
     "text": [
      "-0.941935606519 1.47402764713e-05\n"
     ]
    }
   ],
   "source": [
    "# y1 - home repossessions\n",
    "# y2 - homicides\n",
    "# y3 - foreclosure filings\n",
    "# y4 - school deaths\n",
    "# y5 = SNAP participation\n",
    "x = y5_new_list\n",
    "y = y2_new_list\n",
    "r_row, p_value = pearsonr(x, y)\n",
    "print(r_row, p_value)"
   ]
  },
  {
   "cell_type": "code",
   "execution_count": 367,
   "metadata": {},
   "outputs": [
    {
     "name": "stdout",
     "output_type": "stream",
     "text": [
      "0.394003947336 0.230527530985\n"
     ]
    }
   ],
   "source": [
    "# y1 - home repossessions\n",
    "# y2 - homicides\n",
    "# y3 - foreclosure filings\n",
    "# y4 - school deaths\n",
    "# y5 = SNAP participation\n",
    "x = y5_new_list\n",
    "y = y1_new_list\n",
    "r_row, p_value = pearsonr(x, y)\n",
    "print(r_row, p_value)"
   ]
  },
  {
   "cell_type": "code",
   "execution_count": null,
   "metadata": {
    "collapsed": true
   },
   "outputs": [],
   "source": []
  },
  {
   "cell_type": "code",
   "execution_count": null,
   "metadata": {
    "collapsed": true
   },
   "outputs": [],
   "source": []
  },
  {
   "cell_type": "code",
   "execution_count": null,
   "metadata": {
    "collapsed": true
   },
   "outputs": [],
   "source": [
    "### This is not needed but this code does create a SQLite DB"
   ]
  },
  {
   "cell_type": "code",
   "execution_count": null,
   "metadata": {
    "collapsed": true
   },
   "outputs": [],
   "source": [
    "### Doing some database prep work"
   ]
  },
  {
   "cell_type": "code",
   "execution_count": null,
   "metadata": {
    "collapsed": true
   },
   "outputs": [],
   "source": [
    "# Setting up the SQLite DB\n",
    "import sqlalchemy\n",
    "from sqlalchemy import create_engine, MetaData\n",
    "from sqlalchemy.ext.declarative import declarative_base\n",
    "from sqlalchemy import Column, Integer, String, Numeric, Text, Float"
   ]
  },
  {
   "cell_type": "code",
   "execution_count": null,
   "metadata": {
    "collapsed": true
   },
   "outputs": [],
   "source": [
    "# Create an engine to a SQLite database file called `crime_data.sqlite`\n",
    "engine = create_engine(\"sqlite:///crime_data.sqlite\")"
   ]
  },
  {
   "cell_type": "code",
   "execution_count": null,
   "metadata": {
    "collapsed": true
   },
   "outputs": [],
   "source": [
    " # Create a connection to the engine called `conn`\n",
    "conn = engine.connect()"
   ]
  },
  {
   "cell_type": "code",
   "execution_count": null,
   "metadata": {
    "collapsed": true
   },
   "outputs": [],
   "source": [
    "# Use `declarative_base` from SQLAlchemy to model the demographics table as an ORM class\n",
    "# DF columns will be used to name the columns\n",
    "Base = declarative_base()\n",
    "\n",
    "class Crime(Base):\n",
    "    __tablename__ = 'crime'\n",
    "\n",
    "    id = Column(Integer, primary_key=True)\n",
    "    report_year = Column(Integer)\n",
    "    agency_jurisdiction = Column(Text)\n",
    "    population = Column(Integer)\n",
    "    violent_crime = Column(Integer)\n",
    "   \n",
    "    def __repr__(self):\n",
    "        return f\"id={self.id}, name={self.name}\""
   ]
  },
  {
   "cell_type": "code",
   "execution_count": null,
   "metadata": {
    "collapsed": true
   },
   "outputs": [],
   "source": [
    " # Use `create_all` to create the customers table in the database\n",
    "Base.metadata.create_all(engine)"
   ]
  },
  {
   "cell_type": "code",
   "execution_count": null,
   "metadata": {
    "collapsed": true
   },
   "outputs": [],
   "source": [
    "# Use Orient='records' to create a list of data to write\n",
    "# to_dict() cleans out DataFrame metadata as well\n",
    "data = df.to_dict(orient='records')"
   ]
  },
  {
   "cell_type": "code",
   "execution_count": null,
   "metadata": {
    "collapsed": true
   },
   "outputs": [],
   "source": [
    "data[:1]"
   ]
  },
  {
   "cell_type": "code",
   "execution_count": null,
   "metadata": {
    "collapsed": true
   },
   "outputs": [],
   "source": [
    "# Use MetaData from SQLAlchemy to reflect the tables\n",
    "metadata = MetaData(bind=engine)\n",
    "metadata.reflect()"
   ]
  },
  {
   "cell_type": "code",
   "execution_count": null,
   "metadata": {
    "collapsed": true
   },
   "outputs": [],
   "source": [
    "# Save the reference to the `crime` table as a variable called `table`\n",
    "table = sqlalchemy.Table('crime', metadata, autoload=True)"
   ]
  },
  {
   "cell_type": "code",
   "execution_count": null,
   "metadata": {
    "collapsed": true
   },
   "outputs": [],
   "source": [
    "conn.execute(table.delete())"
   ]
  },
  {
   "cell_type": "code",
   "execution_count": null,
   "metadata": {
    "collapsed": true
   },
   "outputs": [],
   "source": [
    "conn.execute(table.insert(), data)"
   ]
  },
  {
   "cell_type": "code",
   "execution_count": null,
   "metadata": {
    "collapsed": true
   },
   "outputs": [],
   "source": [
    "# Test that the insert works by fetching the first 5 rows. \n",
    "conn.execute(\"select * from crime limit 5\").fetchall()"
   ]
  },
  {
   "cell_type": "code",
   "execution_count": null,
   "metadata": {
    "collapsed": true
   },
   "outputs": [],
   "source": []
  }
 ],
 "metadata": {
  "kernelspec": {
   "display_name": "Python 3",
   "language": "python",
   "name": "python3"
  },
  "language_info": {
   "codemirror_mode": {
    "name": "ipython",
    "version": 3
   },
   "file_extension": ".py",
   "mimetype": "text/x-python",
   "name": "python",
   "nbconvert_exporter": "python",
   "pygments_lexer": "ipython3",
   "version": "3.6.3"
  }
 },
 "nbformat": 4,
 "nbformat_minor": 2
}
